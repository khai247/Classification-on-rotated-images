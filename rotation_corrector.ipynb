{
  "cells": [
    {
      "cell_type": "code",
      "execution_count": 1,
      "metadata": {
        "colab": {
          "base_uri": "https://localhost:8080/"
        },
        "id": "y8CjmuVz5SBC",
        "outputId": "5e28d6ac-8904-44a9-bda0-98a23ba9b5d2"
      },
      "outputs": [
        {
          "output_type": "stream",
          "name": "stdout",
          "text": [
            "Mounted at /content/gdrive\n"
          ]
        }
      ],
      "source": [
        "from google.colab import drive\n",
        "drive.mount('/content/gdrive')"
      ]
    },
    {
      "cell_type": "code",
      "execution_count": 2,
      "metadata": {
        "id": "wkkJdo_uJ4fW"
      },
      "outputs": [],
      "source": [
        "import os\n",
        "os.chdir(\"/content/gdrive/MyDrive/Báo cáo thực tập - Nguyễn Hữu Khải/Rotation\")"
      ]
    },
    {
      "cell_type": "code",
      "execution_count": null,
      "metadata": {
        "colab": {
          "base_uri": "https://localhost:8080/"
        },
        "id": "yw-zBS6-YszJ",
        "outputId": "42d090e4-917f-45c1-bd74-29ea8f2be25c"
      },
      "outputs": [
        {
          "name": "stdout",
          "output_type": "stream",
          "text": [
            "Looking in indexes: https://pypi.org/simple, https://us-python.pkg.dev/colab-wheels/public/simple/\n",
            "Requirement already satisfied: pyunpack in /usr/local/lib/python3.7/dist-packages (0.3)\n",
            "Requirement already satisfied: easyprocess in /usr/local/lib/python3.7/dist-packages (from pyunpack) (1.1)\n",
            "Requirement already satisfied: entrypoint2 in /usr/local/lib/python3.7/dist-packages (from pyunpack) (1.1)\n",
            "Looking in indexes: https://pypi.org/simple, https://us-python.pkg.dev/colab-wheels/public/simple/\n",
            "Requirement already satisfied: patool in /usr/local/lib/python3.7/dist-packages (1.12)\n"
          ]
        }
      ],
      "source": [
        "!pip install pyunpack\n",
        "!pip install patool"
      ]
    },
    {
      "cell_type": "code",
      "execution_count": null,
      "metadata": {
        "id": "zqgkNHAIXuKO"
      },
      "outputs": [],
      "source": [
        "from pyunpack import Archive\n",
        "Archive('/content/gdrive/MyDrive/Báo cáo thực tập - Nguyễn Hữu Khải/Rotation/maindata.rar').extractall('/content/gdrive/MyDrive/Báo cáo thực tập - Nguyễn Hữu Khải/Rotation/data/')"
      ]
    },
    {
      "cell_type": "code",
      "execution_count": null,
      "metadata": {
        "colab": {
          "base_uri": "https://localhost:8080/"
        },
        "id": "l04K7F3iUoFU",
        "outputId": "53ed8724-8901-4cfd-ef9c-f26d1a5048e0"
      },
      "outputs": [
        {
          "output_type": "stream",
          "name": "stdout",
          "text": [
            "15000\n",
            "3028\n",
            "1172\n"
          ]
        }
      ],
      "source": [
        "import os\n",
        "dirs1 = os.listdir(\"/content/gdrive/MyDrive/Báo cáo thực tập - Nguyễn Hữu Khải/Rotation/data/imagegen\")\n",
        "dirs2 = os.listdir(\"/content/gdrive/MyDrive/Báo cáo thực tập - Nguyễn Hữu Khải/Rotation/data/maindata\")\n",
        "dirs3 = os.listdir(\"/content/gdrive/MyDrive/Báo cáo thực tập - Nguyễn Hữu Khải/Rotation/data/valdata\")\n",
        "print(len(dirs1))\n",
        "print(len(dirs2))\n",
        "print(len(dirs3))"
      ]
    },
    {
      "cell_type": "code",
      "execution_count": 3,
      "metadata": {
        "colab": {
          "base_uri": "https://localhost:8080/"
        },
        "id": "HZh2yhH5xqzz",
        "outputId": "6c9f55da-0e44-4e7a-af70-257a8070efd6"
      },
      "outputs": [
        {
          "output_type": "stream",
          "name": "stdout",
          "text": [
            "Looking in indexes: https://pypi.org/simple, https://us-python.pkg.dev/colab-wheels/public/simple/\n",
            "Collecting torchmetrics\n",
            "  Downloading torchmetrics-0.9.3-py3-none-any.whl (419 kB)\n",
            "\u001b[K     |████████████████████████████████| 419 kB 31.7 MB/s \n",
            "\u001b[?25hRequirement already satisfied: numpy>=1.17.2 in /usr/local/lib/python3.7/dist-packages (from torchmetrics) (1.21.6)\n",
            "Requirement already satisfied: packaging in /usr/local/lib/python3.7/dist-packages (from torchmetrics) (21.3)\n",
            "Requirement already satisfied: typing-extensions in /usr/local/lib/python3.7/dist-packages (from torchmetrics) (4.1.1)\n",
            "Requirement already satisfied: torch>=1.3.1 in /usr/local/lib/python3.7/dist-packages (from torchmetrics) (1.12.0+cu113)\n",
            "Requirement already satisfied: pyparsing!=3.0.5,>=2.0.2 in /usr/local/lib/python3.7/dist-packages (from packaging->torchmetrics) (3.0.9)\n",
            "Installing collected packages: torchmetrics\n",
            "Successfully installed torchmetrics-0.9.3\n"
          ]
        }
      ],
      "source": [
        "!pip install torchmetrics\n",
        "from torch.utils.tensorboard import SummaryWriter\n",
        "import torchvision\n",
        "%load_ext tensorboard"
      ]
    },
    {
      "cell_type": "markdown",
      "metadata": {
        "id": "Y552AsmAOlvP"
      },
      "source": [
        "#Init def train"
      ]
    },
    {
      "cell_type": "code",
      "execution_count": 4,
      "metadata": {
        "id": "DhxzbrZISWsE"
      },
      "outputs": [],
      "source": [
        "import time\n",
        "from tqdm import tqdm\n",
        "import numpy as np\n",
        "from statistics import mean\n",
        "import torch\n",
        "import torch.nn as nn\n",
        "import torch.nn.functional as F\n",
        "import torchvision.transforms as transforms\n",
        "import matplotlib.pyplot as plt\n",
        "from torchmetrics.functional import f1_score\n",
        "def train_epoch(net, dataloader, lr=0.001, optimizer=None, loss_fn = nn.CrossEntropyLoss()):\n",
        "  optimizer = optimizer or torch.optim.Adam(net.parameters(), lr = lr)\n",
        "  net.train()\n",
        "  total_loss, f1, step = 0,0,0\n",
        "  for features, labels in dataloader:\n",
        "\n",
        "    optimizer.zero_grad()\n",
        "    lbls = labels.to(device)\n",
        "    out = net(features.to(device))\n",
        "    loss = loss_fn(out, lbls) #cross_entropy(out, labels)\n",
        "    loss.backward()\n",
        "    optimizer.step()\n",
        "    total_loss +=loss\n",
        "    # _, predicted = torch.max(out,1)\n",
        "    f1 += f1_score(out, lbls, num_classes=2)\n",
        "\n",
        "    step +=1\n",
        "    \"\"\"if step % 5 == 0 :\n",
        "      print(loss.item())\"\"\"\n",
        "  return total_loss.item()/step, f1.item()/step\n",
        "\n",
        "def validate(net, dataloader, loss_fn = nn.CrossEntropyLoss()):\n",
        "  net.eval()\n",
        "  f1, loss, step = 0,0,0\n",
        "  with torch.no_grad():\n",
        "    for features, labels in dataloader:\n",
        "      lbls = labels.to(device)\n",
        "      out = net(features.to(device))\n",
        "      loss += loss_fn(out,lbls)\n",
        "      \n",
        "      # pred = torch.max(out,1)[1]\n",
        "      f1 += f1_score(out, lbls, num_classes=2)\n",
        "\n",
        "      step +=1\n",
        "\n",
        "  return loss.item()/step, f1.item()/step\n",
        "\n",
        "def train(net, train_loader, val_loader, optimizer = None, lr = 0.001, epochs = 10, loss_fn = nn.NLLLoss()):\n",
        "  optimizer = optimizer or torch.optim.Adam(net.parameters(), lr = lr)\n",
        "  best_f1=0.0\n",
        "  res = {\"train_loss\":[], \"train_f1\":[], \"val_loss\":[], \"val_f1\":[]}\n",
        "  for ep in range(epochs):\n",
        "    since = time.time()\n",
        "    \n",
        "    \n",
        "    tl,ta = train_epoch(net,train_loader, optimizer = optimizer, lr=lr, loss_fn = loss_fn)\n",
        "    vl, va = validate(net, val_loader, loss_fn = loss_fn)\n",
        "    print(f\"Epoch {ep}, Train f1 = {ta:.3f}, Val f1 = {va:.3f}, Train loss = {tl:.3f}, Val loss = {vl:.3f}\")\n",
        "    res[\"train_loss\"].append(tl)\n",
        "    res[\"train_f1\"].append(ta)\n",
        "    res[\"val_loss\"].append(vl)\n",
        "    res[\"val_f1\"].append(va)\n",
        "    if va>best_f1:\n",
        "        torch.save(model.state_dict(), 'saved_model_lastversion_anhthat1.pth')\n",
        "        best_f1=va\n",
        "        \n",
        "        \n",
        "    time_elapsed = time.time() - since\n",
        "    print('{:.0f}m {:.0f}s'.format(time_elapsed // 60, time_elapsed % 60))\n",
        "    writer.add_scalar('Loss train ', tl, global_step = ep)\n",
        "    writer.add_scalar('Loss valid ', vl, global_step = ep)\n",
        "    writer.add_scalar('Accuracy train', ta, global_step = ep)\n",
        "    writer.add_scalar('Accuracy valid', va, global_step = ep)\n",
        "\n",
        "\n",
        "  return res\n",
        "def plot_results(hist):\n",
        "  plt.figure(figsize = (15,15))\n",
        "  plt.subplot(1,2,1)\n",
        "  plt.plot(hist[\"train_f1\"], label = \"Training f1\")\n",
        "  plt.plot(hist[\"val_f1\"], label = \"Validation f1\")\n",
        "  plt.legend()\n",
        "  plt.subplot(1,2,2)\n",
        "  plt.plot(hist[\"train_loss\"], label = \"Training loss\")\n",
        "  plt.plot(hist[\"val_loss\"], label = \"Validation loss\")\n",
        "  plt.legend()\n",
        "\n",
        "\"\"\"def train(train_loader,valid_loader, net, crit, optim, dev, epochs=0):\n",
        "  writer = SummaryWriter('runs/text_direct_new')\n",
        "  min_valid_loss = np.inf\n",
        "  total_train = 0\n",
        "  num_corrects = 0\n",
        "  for e in range(epochs):\n",
        "    train_loss = 0.0\n",
        "    model.train()\n",
        "     \n",
        "    for data, labels in train_loader:   \n",
        "\n",
        "        optimizer.zero_grad()\n",
        "        target = model(data)\n",
        "        loss = crit(target,labels)\n",
        "        loss.backward()\n",
        "        optimizer.step()\n",
        "        train_loss += loss.item()\n",
        "    \n",
        "    valid_loss = 0.0\n",
        "    model.eval()\n",
        "         \n",
        "    for data, labels in valid_loader:\n",
        "        \n",
        "        target = model(data)\n",
        "        loss = crit(target,labels)\n",
        "        valid_loss += loss.item()\n",
        "        pred_indices = torch.argmax(target,1)\n",
        "        total_train += float(labels.size(0))\n",
        "        num_corrects += (sum(pred_indices == labels)).item()\n",
        "       \n",
        "    print(f'Epoch {e+1} \\t\\t Training Loss: {train_loss/len(train_loader)} \\t\\t Validation Loss: {valid_loss/len(valid_loader)}\\t\\t Accuracy:{num_corrects/total_train} ')\n",
        "    if min_valid_loss > valid_loss:\n",
        "        print(f'Validation Loss Decreased({min_valid_loss:.6f}--->{valid_loss:.6f}) \\t Saving The Model')\n",
        "        min_valid_loss = valid_loss\n",
        "        # Saving State Dict\n",
        "        torch.save(model.state_dict(), 'saved_model.pth')\n",
        "\n",
        "def train_step(loader, net, crit, optim, dev, total_step, debug_steps=5, epo=0):\n",
        "    writer = SummaryWriter('runs/text_direct')\n",
        "    net.train()\n",
        "    num_corrects = 0\n",
        "    total_train = 0\n",
        "    running_loss = 0.0\n",
        "    running_correct = 0\n",
        "    tsb = 0\n",
        "    min_valid_loss = np.inf\n",
        "    for epoch in range(10): \n",
        "\n",
        "      for i, (images,labels) in enumerate(loader):\n",
        "        images = images.to(dev)\n",
        "        labels = labels.to(dev)\n",
        "        optim.zero_grad()\n",
        "\n",
        "        # Forward pass\n",
        "        outputs = net(images)\n",
        "\n",
        "        loss = crit(outputs, labels.type(torch.LongTensor))\n",
        "\n",
        "        # Backward and optimize\n",
        "        loss.backward()\n",
        "        optim.step()\n",
        "\n",
        "        #Accuracy\n",
        "\n",
        "        #prob = nn.Softmax(outputs)\n",
        "\n",
        "        pred_indices = torch.argmax(outputs,1)\n",
        "        #print(pred_indices)\n",
        "        total_train += float(labels.size(0))\n",
        "        num_corrects += (sum(pred_indices == labels)).item()\n",
        "        running_loss += loss.item()\n",
        "\n",
        "\n",
        "        if tsb % 100 == 0:    # every 100 mini-batches...\n",
        "\n",
        "            # ...log the running loss\n",
        "            writer.add_scalar('training loss',\n",
        "                            running_loss / 100,\n",
        "                            epoch * len(loader) + i)\n",
        "            writer.add_scalar('training accuracy',\n",
        "                            num_corrects/total_train, i)            \n",
        "            running_loss = 0  \n",
        "        tsb = tsb + 1  \n",
        "\n",
        "\n",
        "        if (i + 1) % debug_steps == 0:\n",
        "          print('Epoch [{}/{}], Step [{}/{}], Loss: {:.4f}, Accu: {:.4f}'\n",
        "                         .format(epo, 50, i + 1, total_step, loss.item(),num_corrects/total_train))\"\"\"\n",
        "\n",
        "class AverageMeter(object):\n",
        "\n",
        "\n",
        "    def __init__(self):\n",
        "        self.reset()\n",
        "\n",
        "    def reset(self):\n",
        "        self.val = 0\n",
        "        self.avg = 0\n",
        "        self.sum = 0\n",
        "        self.count = 0\n",
        "\n",
        "    def update(self, val, n=1):\n",
        "        self.val = val\n",
        "        self.sum += val * n\n",
        "        self.count += n\n",
        "        self.avg = self.sum / self.count\n",
        "\n",
        "\n",
        "def evaluation(loader, net, crit, dev, thres=0.3, classNum=7):\n",
        "    net.eval()\n",
        "    post_pr = ClsPostProcess(['0','90','180','270'])\n",
        "    mtric = ClsMetric()\n",
        "    with torch.no_grad():\n",
        "        total_frame = 0.0\n",
        "        total_time = 0.0\n",
        "        running_loss = 0.0\n",
        "        pbar = tqdm(total=len(loader), desc='eval model:')\n",
        "        for idx, batch in enumerate(loader):\n",
        "            if idx >= len(loader):\n",
        "                break\n",
        "            images = batch[0].to(dev)\n",
        "            targets = batch[1].to(dev)\n",
        "            start = time.time()\n",
        "            preds = net(images)\n",
        "            targets = targets.argmax(1)\n",
        "            loss = crit(preds, targets)\n",
        "            running_loss += loss.item()\n",
        "            post_result = post_pr(preds.clone().cpu().numpy(), batch[1].numpy())\n",
        "            total_time += time.time() - start\n",
        "            mtric(post_result)\n",
        "            pbar.update(1)\n",
        "            total_frame += len(images)\n",
        "        metirc = mtric.get_metric()\n",
        "\n",
        "    pbar.close()\n",
        "    net.train()\n",
        "    metirc['fps'] = round(total_frame / total_time, 3)\n",
        "    metirc['loss'] = round(running_loss / len(loader), 3)\n",
        "\n",
        "    print('val acc: {}, val loss {}, fps {}'.format(metirc['acc'], metirc['loss'], metirc['fps']))\n",
        "    return metirc\n",
        "\n",
        "\n",
        "\n",
        "class ClsMetric(object):\n",
        "    def __init__(self, main_indicator='acc', **kwargs):\n",
        "        self.main_indicator = main_indicator\n",
        "        self.reset()\n",
        "\n",
        "    def __call__(self, pred_label, *args, **kwargs):\n",
        "        preds, labels = pred_label\n",
        "        correct_num = 0\n",
        "        all_num = 0\n",
        "        for (pred, pred_conf), (target, _) in zip(preds, labels):\n",
        "            if pred == target:\n",
        "                correct_num += 1\n",
        "            all_num += 1\n",
        "        self.correct_num += correct_num\n",
        "        self.all_num += all_num\n",
        "        return {'acc': correct_num / all_num, }\n",
        "\n",
        "    def get_metric(self):\n",
        "        \"\"\"\n",
        "        return metrics {\n",
        "                 'acc': 0\n",
        "            }\n",
        "        \"\"\"\n",
        "        acc = self.correct_num / self.all_num\n",
        "        self.reset()\n",
        "        return {'acc': round(acc, 2)}\n",
        "\n",
        "    def reset(self):\n",
        "        self.correct_num = 0\n",
        "        self.all_num = 0\n",
        "\n",
        "\n",
        "class ClsPostProcess(object):\n",
        "    \"\"\" Convert between text-label and text-index \"\"\"\n",
        "\n",
        "    def __init__(self, label_list, **kwargs):\n",
        "        super(ClsPostProcess, self).__init__()\n",
        "        self.label_list = label_list\n",
        "\n",
        "    def __call__(self, preds, label=None, *args, **kwargs):\n",
        "        if isinstance(preds, torch.Tensor):\n",
        "            preds = preds.numpy()\n",
        "\n",
        "        pred_idxs = preds.argmax(axis=1)\n",
        "        # print('1', preds)\n",
        "        # print('pred_idxs',pred_idxs)\n",
        "        decode_out = [(self.label_list[idx], preds[i, idx])\n",
        "                      for i, idx in enumerate(pred_idxs)]\n",
        "        if label is None:\n",
        "            return decode_out\n",
        "        label = label.argmax(1)\n",
        "        label = [(self.label_list[idx], 1.0) for idx in label]\n",
        "        # print(decode_out, label)\n",
        "        return decode_out, label"
      ]
    },
    {
      "cell_type": "markdown",
      "metadata": {
        "id": "mYSd1TpUO2KH"
      },
      "source": [
        "# Dataloader\n"
      ]
    },
    {
      "cell_type": "code",
      "execution_count": 18,
      "metadata": {
        "id": "5E8t0N4yHOii"
      },
      "outputs": [],
      "source": [
        "from imgaug.imgaug import imresize_many_images\n",
        "import os\n",
        "import cv2\n",
        "import torch\n",
        "from torch.utils.data import Dataset\n",
        "from torchvision.transforms.functional import pad\n",
        "import numbers\n",
        "from PIL import Image\n",
        "import numpy as np\n",
        "from imgaug import augmenters as iaa\n",
        "import imgaug as ia\n",
        "import glob\n",
        "\n",
        "class RotationDatasetValid0(Dataset):\n",
        "    def __init__(self, path_image=None, channel=3, transform=None):\n",
        "        self.transform = transform\n",
        "        self.list_path_image = glob.glob(path_image + '/*.png')\n",
        "        self.channel = 3\n",
        "\n",
        "    def __getitem__(self, index):\n",
        "        img_path = self.list_path_image[index]\n",
        "        img = cv2.imread(img_path)\n",
        "        label = 0            \n",
        "        if self.transform is not None:\n",
        "          #print(self.transform, type(img))\n",
        "          #print(img)\n",
        "          img = self.transform(image=img)\n",
        "          #print(img.keys())\n",
        "          img = img['image']\n",
        "\n",
        "        return transforms.ToTensor()(img), label\n",
        "\n",
        "    def __len__(self):\n",
        "        return len(self.list_path_image)\n",
        "class RotationDatasetValid1(Dataset):\n",
        "    def __init__(self, path_image=None, channel=3, transform=None):\n",
        "        self.transform = transform\n",
        "        self.list_path_image = glob.glob(path_image + '/*.png')\n",
        "        self.channel = 3\n",
        "\n",
        "    def __getitem__(self, index):\n",
        "        img_path = self.list_path_image[index]\n",
        "        img = cv2.imread(img_path)\n",
        "        img = cv2.rotate(img, cv2.ROTATE_90_CLOCKWISE)\n",
        "        label = 1              \n",
        "        if self.transform is not None:\n",
        "          #print(self.transform, type(img))\n",
        "          #print(img)\n",
        "          img = self.transform(image=img)\n",
        "          #print(img.keys())\n",
        "          img = img['image']\n",
        "\n",
        "        return transforms.ToTensor()(img), label\n",
        "\n",
        "    def __len__(self):\n",
        "        return len(self.list_path_image)\n",
        "\n",
        "class RotationDatasetValid2(Dataset):\n",
        "    def __init__(self, path_image=None, channel=3, transform=None):\n",
        "        self.transform = transform\n",
        "        self.list_path_image = glob.glob(path_image + '/*.png')\n",
        "        self.channel = 3\n",
        "\n",
        "    def __getitem__(self, index):\n",
        "        img_path = self.list_path_image[index]\n",
        "        img = cv2.imread(img_path)\n",
        "        img = cv2.rotate(img, cv2.ROTATE_90_COUNTERCLOCKWISE)\n",
        "        label = 2              \n",
        "        if self.transform is not None:\n",
        "          #print(self.transform, type(img))\n",
        "          #print(img)\n",
        "          img = self.transform(image=img)\n",
        "          #print(img.keys())\n",
        "          img = img['image']\n",
        "\n",
        "        return transforms.ToTensor()(img), label\n",
        "\n",
        "    def __len__(self):\n",
        "        return len(self.list_path_image)\n",
        "\n",
        "class RotationDatasetValid3(Dataset):\n",
        "    def __init__(self, path_image=None, channel=3, transform=None):\n",
        "        self.transform = transform\n",
        "        self.list_path_image = glob.glob(path_image + '/*.png')\n",
        "        self.channel = 3\n",
        "\n",
        "    def __getitem__(self, index):\n",
        "        img_path = self.list_path_image[index]\n",
        "        img = cv2.imread(img_path)\n",
        "        img = cv2.rotate(img, cv2.ROTATE_180)\n",
        "        label = 3              \n",
        "        if self.transform is not None:\n",
        "          #print(self.transform, type(img))\n",
        "          #print(img)\n",
        "          img = self.transform(image=img)\n",
        "          #print(img.keys())\n",
        "          img = img['image']\n",
        "\n",
        "        return transforms.ToTensor()(img), label\n",
        "\n",
        "    def __len__(self):\n",
        "        return len(self.list_path_image)\n",
        "\n",
        "class RotationDataset2(Dataset):\n",
        "    def __init__(self, path_image=None, channel=3, transform=None):\n",
        "        self.transform = transform\n",
        "        self.list_path_image = glob.glob(path_image + '/*.png')\n",
        "        self.channel = 3\n",
        "\n",
        "    def __getitem__(self, index):\n",
        "        img_path = self.list_path_image[index]\n",
        "        img = cv2.imread(img_path)\n",
        "        x = np.random.rand()\n",
        "        if x >= 0 and x<0.5:\n",
        "          img = cv2.rotate(img, cv2.ROTATE_180)\n",
        "          label = 1\n",
        "        else:\n",
        "          label = 0\n",
        "        \"\"\"if x >= 0 and x <= 0.25:\n",
        "          img = cv2.rotate(img, cv2.ROTATE_90_CLOCKWISE)\n",
        "          label = 1\n",
        "          \n",
        "        if x > 0.25 and x <= 0.5:\n",
        "          img = cv2.rotate(img, cv2.ROTATE_90_COUNTERCLOCKWISE)\n",
        "          label = 2\n",
        "          \n",
        "        if x > 0.5 and x <= 0.75:\n",
        "          img = cv2.rotate(img, cv2.ROTATE_180)\n",
        "          label = 3\n",
        "        if x > 0.75 and x <=1:\n",
        "          label = 0\"\"\"\n",
        "               \n",
        "        if self.transform is not None:\n",
        "          #print(self.transform, type(img))\n",
        "          #print(img)\n",
        "          img = self.transform(image=img)\n",
        "          #print(img.keys())\n",
        "          img = img['image']\n",
        "\n",
        "        return transforms.ToTensor()(img), label\n",
        "\n",
        "    def __len__(self):\n",
        "        return len(self.list_path_image)\n",
        "\n",
        "    def convert_to_one_hot(self, list_label, number_class):\n",
        "        b = np.zeros((list_label.size, number_class))\n",
        "        b[np.arange(list_label.size), list_label] = 1\n",
        "        return b\n",
        "\n",
        "\n",
        "def get_img_paths(dir_, extensions=('.jpg', '.png', '.jpeg', '.PNG', '.JPG', '.JPEG')):\n",
        "    img_paths = []\n",
        "    if type(dir_) is list:\n",
        "        for d in dir_:\n",
        "            for root, dirs, files in os.walk(d):\n",
        "                for file in files:\n",
        "                    for e in extensions:\n",
        "                        if file.endswith(e):\n",
        "                            p = os.path.join(root, file)\n",
        "                            img_paths.append(p)\n",
        "    else:\n",
        "        for root, dirs, files in os.walk(dir_):\n",
        "            for file in files:\n",
        "                for e in extensions:\n",
        "                    if file.endswith(e):\n",
        "                        p = os.path.join(root, file)\n",
        "                        img_paths.append(p)\n",
        "    return img_paths\n",
        "\n",
        "\n",
        "class NewPad(object):\n",
        "    def __init__(self, t_size=(64, 128), fill=(255, 255, 255), padding_mode='constant'):\n",
        "        assert isinstance(fill, (numbers.Number, str, tuple))\n",
        "        assert padding_mode in ['constant', 'edge', 'reflect', 'symmetric']\n",
        "\n",
        "        self.fill = fill\n",
        "        self.padding_mode = padding_mode\n",
        "        self.t_size = t_size\n",
        "\n",
        "    def __call__(self, img):\n",
        "        # def __call__(self, img, t_size):\n",
        "        target_h, target_w = self.t_size\n",
        "        # h, w, c = img.shape\n",
        "        w, h = img.size\n",
        "\n",
        "        im_scale = h / w\n",
        "        target_scale = target_h / target_w\n",
        "        # print(im_scale, target_scale)\n",
        "        if im_scale < target_scale:\n",
        "            # keep w, add padding h\n",
        "            new_w = int(round(target_h / im_scale))\n",
        "            # new_w =\n",
        "            out_im = img.resize((new_w, target_h))\n",
        "            # out_im = img\n",
        "        else:\n",
        "            # keep h, add padding w\n",
        "            new_w = h / target_scale\n",
        "            _pad = (new_w - w) / 2\n",
        "            _pad = int(round(_pad))\n",
        "            padding = (_pad, 0, _pad, 0)  # left, top, right and bottom\n",
        "            # padding = (0, _pad, 0, _pad)  # left, top, right and bottom\n",
        "            out_im = pad(img, padding, self.fill, self.padding_mode)\n",
        "            out_im = out_im.resize((self.t_size[1], self.t_size[0]))\n",
        "        # print(img.size, out_im.size)\n",
        "        return out_im\n",
        "\n",
        "    def __repr__(self):\n",
        "        return self.__class__.__name__ + '(padding={0}, fill={1}, padding_mode={2})'. \\\n",
        "            format(self.fill, self.padding_mode)\n",
        "\n",
        "\n",
        "def resize_image(im, size, padding=True, border=cv2.BORDER_CONSTANT, color=[0, 0, 255]):\n",
        "    # image = cv2.resize(image, size, interpolation=cv2.INTER_LINEAR)\n",
        "    target_w, target_h = size\n",
        "    h, w, c = im.shape\n",
        "\n",
        "    im_scale = h / w\n",
        "    target_scale = target_h / target_w\n",
        "\n",
        "    if im_scale < target_scale:\n",
        "        # keep w, add padding h\n",
        "        new_h = w * target_scale\n",
        "        pad = (new_h - h) / 2\n",
        "        pad = int(pad)\n",
        "        constant = cv2.copyMakeBorder(im, pad, pad, 0, 0, cv2.BORDER_CONSTANT, value=color)\n",
        "    elif im_scale > target_scale:\n",
        "        # keep h, add padding w\n",
        "        new_w = h / target_scale\n",
        "        pad = (new_w - w) / 2\n",
        "        pad = int(pad)\n",
        "        constant = cv2.copyMakeBorder(im, 0, 0, pad, pad, cv2.BORDER_CONSTANT, value=color)\n",
        "\n",
        "    image = cv2.resize(constant, size, interpolation=cv2.INTER_LINEAR)\n",
        "    return image\n"
      ]
    },
    {
      "cell_type": "markdown",
      "metadata": {
        "id": "vqZtXUgvPMfx"
      },
      "source": [
        "# Model"
      ]
    },
    {
      "cell_type": "code",
      "execution_count": 6,
      "metadata": {
        "id": "daGkHP5wHOlg"
      },
      "outputs": [],
      "source": [
        "import torch\n",
        "import torch.nn as nn\n",
        "import torch.nn.functional as F\n",
        "from torchsummary import summary\n",
        "\n",
        "__all__ = ['MobileNetV3', 'mobilenetv3']\n",
        "\n",
        "\n",
        "def conv_bn(inp, oup, stride, conv_layer=nn.Conv2d, norm_layer=nn.BatchNorm2d, nlin_layer=nn.ReLU):\n",
        "    return nn.Sequential(\n",
        "        conv_layer(inp, oup, 3, stride, 1, bias=False),\n",
        "        norm_layer(oup),\n",
        "        nlin_layer(inplace=True)\n",
        "    )\n",
        "\n",
        "\n",
        "def conv_1x1_bn(inp, oup, conv_layer=nn.Conv2d, norm_layer=nn.BatchNorm2d, nlin_layer=nn.ReLU):\n",
        "    return nn.Sequential(\n",
        "        conv_layer(inp, oup, 1, 1, 0, bias=False),\n",
        "        norm_layer(oup),\n",
        "        nlin_layer(inplace=True)\n",
        "    )\n",
        "\n",
        "\n",
        "class Hswish(nn.Module):\n",
        "    def __init__(self, inplace=True):\n",
        "        super(Hswish, self).__init__()\n",
        "        self.inplace = inplace\n",
        "\n",
        "    def forward(self, x):\n",
        "        return x * F.relu6(x + 3., inplace=self.inplace) / 6.\n",
        "\n",
        "\n",
        "class Hsigmoid(nn.Module):\n",
        "    def __init__(self, inplace=True):\n",
        "        super(Hsigmoid, self).__init__()\n",
        "        self.inplace = inplace\n",
        "\n",
        "    def forward(self, x):\n",
        "        return F.relu6(x + 3., inplace=self.inplace) / 6.\n",
        "\n",
        "\n",
        "class SEModule(nn.Module):\n",
        "    def __init__(self, channel, reduction=4):\n",
        "        super(SEModule, self).__init__()\n",
        "        self.avg_pool = nn.AdaptiveAvgPool2d(1)\n",
        "        self.fc = nn.Sequential(\n",
        "            nn.Linear(channel, channel // reduction, bias=False),\n",
        "            nn.ReLU(inplace=True),\n",
        "            nn.Linear(channel // reduction, channel, bias=False),\n",
        "            Hsigmoid()\n",
        "            # nn.Sigmoid()\n",
        "        )\n",
        "\n",
        "    def forward(self, x):\n",
        "        b, c, _, _ = x.size()\n",
        "        y = self.avg_pool(x).view(b, c)\n",
        "        y = self.fc(y).view(b, c, 1, 1)\n",
        "        return x * y.expand_as(x)\n",
        "\n",
        "\n",
        "class Identity(nn.Module):\n",
        "    def __init__(self, channel):\n",
        "        super(Identity, self).__init__()\n",
        "\n",
        "    def forward(self, x):\n",
        "        return x\n",
        "\n",
        "\n",
        "def make_divisible(x, divisible_by=8):\n",
        "    import numpy as np\n",
        "    return int(np.ceil(x * 1. / divisible_by) * divisible_by)\n",
        "\n",
        "\n",
        "class MobileBottleneck(nn.Module):\n",
        "    def __init__(self, inp, oup, kernel, stride, exp, se=False, nl='RE'):\n",
        "        super(MobileBottleneck, self).__init__()\n",
        "        assert stride in [1, 2]\n",
        "        assert kernel in [3, 5]\n",
        "        padding = (kernel - 1) // 2\n",
        "        self.use_res_connect = stride == 1 and inp == oup\n",
        "\n",
        "        conv_layer = nn.Conv2d\n",
        "        norm_layer = nn.BatchNorm2d\n",
        "        if nl == 'RE':\n",
        "            nlin_layer = nn.ReLU  # or ReLU6\n",
        "        elif nl == 'HS':\n",
        "            nlin_layer = Hswish\n",
        "        else:\n",
        "            raise NotImplementedError\n",
        "        if se:\n",
        "            SELayer = SEModule\n",
        "        else:\n",
        "            SELayer = Identity\n",
        "\n",
        "        self.conv = nn.Sequential(\n",
        "            # pw\n",
        "            conv_layer(inp, exp, 1, 1, 0, bias=False),\n",
        "            norm_layer(exp),\n",
        "            nlin_layer(inplace=True),\n",
        "            # dw\n",
        "            conv_layer(exp, exp, kernel, stride, padding, groups=exp, bias=False),\n",
        "            norm_layer(exp),\n",
        "            SELayer(exp),\n",
        "            nlin_layer(inplace=True),\n",
        "            # pw-linear\n",
        "            conv_layer(exp, oup, 1, 1, 0, bias=False),\n",
        "            norm_layer(oup),\n",
        "        )\n",
        "\n",
        "    def forward(self, x):\n",
        "        if self.use_res_connect:\n",
        "            return x + self.conv(x)\n",
        "        else:\n",
        "            return self.conv(x)\n",
        "\n",
        "\n",
        "class MobileNetV3(nn.Module):\n",
        "    def __init__(self, n_class=1000, input_size=224, dropout=0.8, mode='small', width_mult=1.0):\n",
        "        super(MobileNetV3, self).__init__()\n",
        "        input_channel = 16\n",
        "        # last_channel = 1280\n",
        "        if mode == 'large':\n",
        "            # refer to Table 1 in paper\n",
        "            last_channel = 2048\n",
        "            mobile_setting = [\n",
        "                # k, exp, c,  se,     nl,  s,\n",
        "                [3, 16, 16, False, 'RE', 1],\n",
        "                [3, 64, 24, False, 'RE', 2],\n",
        "                [3, 72, 24, False, 'RE', 1],\n",
        "                [5, 72, 40, True, 'RE', 2],\n",
        "                [5, 120, 40, True, 'RE', 1],\n",
        "                [5, 120, 40, True, 'RE', 1],\n",
        "                [3, 240, 80, False, 'HS', 2],\n",
        "                [3, 200, 80, False, 'HS', 1],\n",
        "                [3, 184, 80, False, 'HS', 1],\n",
        "                [3, 184, 80, False, 'HS', 1],\n",
        "                [3, 480, 112, True, 'HS', 1],\n",
        "                [3, 672, 112, True, 'HS', 1],\n",
        "                [5, 672, 160, True, 'HS', 2],\n",
        "                [5, 960, 160, True, 'HS', 1],\n",
        "                [5, 960, 160, True, 'HS', 1],\n",
        "            ]\n",
        "        elif mode == 'small':\n",
        "            # refer to Table 2 in paper\n",
        "            last_channel = 1024\n",
        "            mobile_setting = [\n",
        "                # k, exp, c,  se,     nl,  s,\n",
        "                [3, 16, 16, True, 'RE', 2],\n",
        "                [3, 72, 24, False, 'RE', 2],\n",
        "                [3, 88, 24, False, 'RE', 1],\n",
        "                [5, 96, 40, True, 'HS', 2],\n",
        "                [5, 240, 40, True, 'HS', 1],\n",
        "                [5, 240, 40, True, 'HS', 1],\n",
        "                [5, 120, 48, True, 'HS', 1],\n",
        "                [5, 144, 48, True, 'HS', 1],\n",
        "                [5, 288, 96, True, 'HS', 2],\n",
        "                [5, 576, 96, True, 'HS', 1],\n",
        "                [5, 576, 96, True, 'HS', 1],\n",
        "            ]\n",
        "        else:\n",
        "            raise NotImplementedError\n",
        "\n",
        "        # building first layer\n",
        "        assert input_size % 32 == 0\n",
        "        last_channel = make_divisible(last_channel * width_mult) if width_mult > 1.0 else last_channel\n",
        "        self.features = [conv_bn(3, input_channel, 2, nlin_layer=Hswish)]\n",
        "        self.classifier = []\n",
        "\n",
        "        # building mobile blocks\n",
        "        for k, exp, c, se, nl, s in mobile_setting:\n",
        "            output_channel = make_divisible(c * width_mult)\n",
        "            exp_channel = make_divisible(exp * width_mult)\n",
        "            self.features.append(MobileBottleneck(input_channel, output_channel, k, s, exp_channel, se, nl))\n",
        "            input_channel = output_channel\n",
        "\n",
        "        # building last several layers\n",
        "        if mode == 'large':\n",
        "            last_conv = make_divisible(960 * width_mult)\n",
        "            self.features.append(conv_1x1_bn(input_channel, last_conv, nlin_layer=Hswish))\n",
        "            self.features.append(nn.AdaptiveAvgPool2d(1))\n",
        "            self.features.append(nn.Conv2d(last_conv, last_channel, 1, 1, 0))\n",
        "            self.features.append(Hswish(inplace=True))\n",
        "        elif mode == 'small':\n",
        "            last_conv = make_divisible(576 * width_mult)\n",
        "            self.features.append(conv_1x1_bn(input_channel, last_conv, nlin_layer=Hswish))\n",
        "            # self.features.append(SEModule(last_conv))  # refer to paper Table2, but I think this is a mistake\n",
        "            self.features.append(nn.AdaptiveAvgPool2d(1))\n",
        "            self.features.append(nn.Conv2d(last_conv, last_channel, 1, 1, 0))\n",
        "            self.features.append(Hswish(inplace=True))\n",
        "        else:\n",
        "            raise NotImplementedError\n",
        "\n",
        "        # make it nn.Sequential\n",
        "        self.features = nn.Sequential(*self.features)\n",
        "\n",
        "        # building classifier\n",
        "        self.classifier = nn.Sequential(\n",
        "            nn.Dropout(p=dropout),  # refer to paper section 6\n",
        "            nn.Linear(last_channel, n_class),\n",
        "            # nn.Linear(last_channel, 640),\n",
        "            # nn.ReLU(inplace=True),\n",
        "            # nn.Dropout(p=dropout),  # refer to paper section 6\n",
        "            # nn.Linear(640, n_class),\n",
        "        )\n",
        "\n",
        "        self._initialize_weights()\n",
        "\n",
        "    def forward(self, x):\n",
        "        x = self.features(x)\n",
        "       # print('feat ', x.shape)\n",
        "        x = x.mean(3).mean(2)\n",
        "       # print('mean', x.shape)\n",
        "        x = self.classifier(x)\n",
        "       # print('cls', x.shape)\n",
        "        return x\n",
        "\n",
        "    def _initialize_weights(self):\n",
        "        # weight initialization\n",
        "        for m in self.modules():\n",
        "            if isinstance(m, nn.Conv2d):\n",
        "                nn.init.kaiming_normal_(m.weight, mode='fan_out')\n",
        "                if m.bias is not None:\n",
        "                    nn.init.zeros_(m.bias)\n",
        "            elif isinstance(m, nn.BatchNorm2d):\n",
        "                nn.init.ones_(m.weight)\n",
        "                nn.init.zeros_(m.bias)\n",
        "            elif isinstance(m, nn.Linear):\n",
        "                nn.init.normal_(m.weight, 0, 0.01)\n",
        "                if m.bias is not None:\n",
        "                    nn.init.zeros_(m.bias)\n",
        "\n",
        "\n",
        "def mobilenetv3(pretrained=False, n_class=7, input_size=320, dropout=0.2, mode='small', width_mult=1.0):\n",
        "    model = MobileNetV3(n_class, input_size, dropout, mode, width_mult)\n",
        "    if pretrained:\n",
        "        state_dict = torch.load(pretrained)\n",
        "        model.load_state_dict(state_dict, strict=True)\n",
        "        # raise NotImplementedError\n",
        "    return model\n",
        "\n",
        "\n",
        "def get_model(config):\n",
        "    pretrained = config.MODEL.PRETRAINED\n",
        "    n_class = config.DATASET.NUM_CLASSES\n",
        "    dropout = config.TRAIN.DROPOUT\n",
        "    input_size = config.TRAIN.IMAGE_SIZE[0]\n",
        "    mode = 'small'\n",
        "    width_mult = 1.0\n",
        "    model = mobilenetv3(pretrained=pretrained, n_class=n_class, dropout=dropout, input_size=input_size)\n",
        "    return model\n"
      ]
    },
    {
      "cell_type": "markdown",
      "metadata": {
        "id": "oZSeX8z-PSj3"
      },
      "source": [
        "# Trainer"
      ]
    },
    {
      "cell_type": "code",
      "execution_count": 7,
      "metadata": {
        "id": "BhVMl8VKlmih"
      },
      "outputs": [],
      "source": [
        "import albumentations as A\n",
        "\n",
        "transform_arg=A.Compose([\n",
        "    A.LongestMaxSize(256),\n",
        "    A.PadIfNeeded(256,256, border_mode=cv2.BORDER_CONSTANT, value=(255, 255, 255)),\n",
        "    #A.Resize(256,256),\n",
        "    #A.HorizontalFlip(p=0.5),\n",
        "    A.Normalize(),\n",
        "    #A.IAAAdditiveGaussianNoise (loc=0, scale=(0.01, 0.05), per_channel=False, always_apply=False, p=0.5)\n",
        "    #A.GaussianBlur(blur_limit=(3, 7), sigma_limit=0, always_apply=False, p=0.5)\n",
        "])"
      ]
    },
    {
      "cell_type": "code",
      "execution_count": 10,
      "metadata": {
        "colab": {
          "base_uri": "https://localhost:8080/"
        },
        "id": "v2U33eyilmow",
        "outputId": "26cb8c7e-49a6-4605-fefa-a76b9d496d5b"
      },
      "outputs": [
        {
          "output_type": "stream",
          "name": "stdout",
          "text": [
            "15000\n",
            "3028\n"
          ]
        }
      ],
      "source": [
        "train_dataset = RotationDataset2(\"/content/gdrive/MyDrive/Báo cáo thực tập - Nguyễn Hữu Khải/Rotation/data/imagegen\", channel=3, transform=transform_arg)\n",
        "val_dataset0 = RotationDatasetValid0(\"/content/gdrive/MyDrive/Báo cáo thực tập - Nguyễn Hữu Khải/Rotation/data/maindata\", channel=3, transform=transform_arg)\n",
        "val_dataset1 = RotationDatasetValid1(\"/content/gdrive/MyDrive/Báo cáo thực tập - Nguyễn Hữu Khải/Rotation/data/maindata\", channel=3, transform=transform_arg)\n",
        "val_dataset2 = RotationDatasetValid2(\"/content/gdrive/MyDrive/Báo cáo thực tập - Nguyễn Hữu Khải/Rotation/data/maindata\", channel=3, transform=transform_arg)\n",
        "val_dataset3 = RotationDatasetValid3(\"/content/gdrive/MyDrive/Báo cáo thực tập - Nguyễn Hữu Khải/Rotation/data/maindata\", channel=3, transform=transform_arg)\n",
        "test_dataset = RotationDataset2(\"/content/gdrive/MyDrive/Báo cáo thực tập - Nguyễn Hữu Khải/Rotation/data/valdata\", channel=3, transform=transform_arg)\n",
        "#val_dataset = val_dataset0 + val_dataset1 + val_dataset2 + val_dataset3\n",
        "val_dataset = RotationDataset2(\"/content/gdrive/MyDrive/Báo cáo thực tập - Nguyễn Hữu Khải/Rotation/data/maindata\", channel=3, transform=transform_arg)\n",
        "print(len(train_dataset))\n",
        "print(len(val_dataset))"
      ]
    },
    {
      "cell_type": "code",
      "execution_count": null,
      "metadata": {
        "colab": {
          "base_uri": "https://localhost:8080/"
        },
        "id": "Lwfe6a4yQCNE",
        "outputId": "1ee2e319-fdce-4139-f564-754ce74a8cfd"
      },
      "outputs": [
        {
          "output_type": "stream",
          "name": "stdout",
          "text": [
            "Looking in indexes: https://pypi.org/simple, https://us-python.pkg.dev/colab-wheels/public/simple/\n",
            "Requirement already satisfied: efficientnet_pytorch in /usr/local/lib/python3.7/dist-packages (0.7.1)\n",
            "Requirement already satisfied: torch in /usr/local/lib/python3.7/dist-packages (from efficientnet_pytorch) (1.12.0+cu113)\n",
            "Requirement already satisfied: typing-extensions in /usr/local/lib/python3.7/dist-packages (from torch->efficientnet_pytorch) (4.1.1)\n"
          ]
        }
      ],
      "source": [
        "!pip install efficientnet_pytorch\n",
        "from efficientnet_pytorch import EfficientNet"
      ]
    },
    {
      "cell_type": "code",
      "execution_count": 11,
      "metadata": {
        "colab": {
          "base_uri": "https://localhost:8080/"
        },
        "id": "H4PhBdrfcbW7",
        "outputId": "62bc1483-ccd8-484e-bf2a-1633f3801e7a"
      },
      "outputs": [
        {
          "output_type": "stream",
          "name": "stderr",
          "text": [
            "/usr/local/lib/python3.7/dist-packages/torch/utils/data/dataloader.py:560: UserWarning: This DataLoader will create 16 worker processes in total. Our suggested max number of worker in current system is 2, which is smaller than what this DataLoader is going to create. Please be aware that excessive worker creation might get DataLoader running slow or even freeze, lower the worker number to avoid potential slowness/freeze if necessary.\n",
            "  cpuset_checked))\n"
          ]
        },
        {
          "output_type": "stream",
          "name": "stdout",
          "text": [
            "Epoch 0, Train f1 = 0.759, Val f1 = 0.868, Train loss = 0.536, Val loss = 0.305\n",
            "2m 37s\n",
            "Epoch 1, Train f1 = 0.909, Val f1 = 0.950, Train loss = 0.220, Val loss = 0.131\n",
            "0m 20s\n",
            "Epoch 2, Train f1 = 0.952, Val f1 = 0.966, Train loss = 0.132, Val loss = 0.096\n",
            "0m 20s\n",
            "Epoch 3, Train f1 = 0.961, Val f1 = 0.972, Train loss = 0.101, Val loss = 0.078\n",
            "0m 20s\n",
            "Epoch 4, Train f1 = 0.976, Val f1 = 0.984, Train loss = 0.062, Val loss = 0.046\n",
            "0m 21s\n",
            "Epoch 5, Train f1 = 0.983, Val f1 = 0.987, Train loss = 0.048, Val loss = 0.043\n",
            "0m 22s\n",
            "Epoch 6, Train f1 = 0.982, Val f1 = 0.976, Train loss = 0.052, Val loss = 0.063\n",
            "0m 20s\n",
            "Epoch 7, Train f1 = 0.979, Val f1 = 0.991, Train loss = 0.063, Val loss = 0.028\n",
            "0m 20s\n",
            "Epoch 8, Train f1 = 0.978, Val f1 = 0.935, Train loss = 0.063, Val loss = 0.123\n",
            "0m 20s\n",
            "Epoch 9, Train f1 = 0.981, Val f1 = 0.982, Train loss = 0.052, Val loss = 0.052\n",
            "0m 21s\n",
            "Epoch 10, Train f1 = 0.985, Val f1 = 0.988, Train loss = 0.042, Val loss = 0.038\n",
            "0m 22s\n",
            "Epoch 11, Train f1 = 0.981, Val f1 = 0.991, Train loss = 0.053, Val loss = 0.026\n",
            "0m 20s\n",
            "Epoch 12, Train f1 = 0.989, Val f1 = 0.981, Train loss = 0.034, Val loss = 0.054\n",
            "0m 21s\n",
            "Epoch 13, Train f1 = 0.990, Val f1 = 0.994, Train loss = 0.030, Val loss = 0.015\n",
            "0m 21s\n",
            "Epoch 14, Train f1 = 0.993, Val f1 = 0.993, Train loss = 0.018, Val loss = 0.018\n",
            "0m 21s\n",
            "Epoch 15, Train f1 = 0.990, Val f1 = 0.989, Train loss = 0.031, Val loss = 0.026\n",
            "0m 21s\n",
            "Epoch 16, Train f1 = 0.991, Val f1 = 0.998, Train loss = 0.029, Val loss = 0.013\n",
            "0m 20s\n",
            "Epoch 17, Train f1 = 0.992, Val f1 = 0.991, Train loss = 0.024, Val loss = 0.023\n",
            "0m 21s\n",
            "Epoch 18, Train f1 = 0.991, Val f1 = 0.988, Train loss = 0.023, Val loss = 0.035\n",
            "0m 20s\n",
            "Epoch 19, Train f1 = 0.991, Val f1 = 0.989, Train loss = 0.027, Val loss = 0.033\n",
            "0m 22s\n",
            "Epoch 20, Train f1 = 0.993, Val f1 = 0.999, Train loss = 0.022, Val loss = 0.005\n",
            "0m 21s\n",
            "Epoch 21, Train f1 = 0.993, Val f1 = 0.996, Train loss = 0.016, Val loss = 0.016\n",
            "0m 20s\n",
            "Epoch 22, Train f1 = 0.995, Val f1 = 0.993, Train loss = 0.017, Val loss = 0.019\n",
            "0m 21s\n",
            "Epoch 23, Train f1 = 0.990, Val f1 = 0.994, Train loss = 0.029, Val loss = 0.018\n",
            "0m 20s\n",
            "Epoch 24, Train f1 = 0.993, Val f1 = 0.998, Train loss = 0.019, Val loss = 0.014\n",
            "0m 22s\n",
            "Epoch 25, Train f1 = 0.993, Val f1 = 0.993, Train loss = 0.020, Val loss = 0.022\n",
            "0m 20s\n",
            "Epoch 26, Train f1 = 0.993, Val f1 = 0.981, Train loss = 0.025, Val loss = 0.048\n",
            "0m 20s\n",
            "Epoch 27, Train f1 = 0.990, Val f1 = 0.991, Train loss = 0.030, Val loss = 0.029\n",
            "0m 20s\n",
            "Epoch 28, Train f1 = 0.995, Val f1 = 1.000, Train loss = 0.016, Val loss = 0.004\n",
            "0m 20s\n",
            "Epoch 29, Train f1 = 0.986, Val f1 = 0.993, Train loss = 0.046, Val loss = 0.020\n",
            "0m 21s\n"
          ]
        }
      ],
      "source": [
        "device = 'cuda'\n",
        "writer = SummaryWriter(\"runs/text_direct\")\n",
        "train_dataloader = torch.utils.data.DataLoader(val_dataset, batch_size=64, shuffle=True, num_workers = 16)\n",
        "val_dataloader = torch.utils.data.DataLoader(test_dataset, batch_size=64, shuffle=True, num_workers = 16)\n",
        "#model = EfficientNet.from_pretrained('efficientnet-b0').to(device)\n",
        "#model ._fc= torch.nn.Linear(in_features=model._fc.in_features, out_features=4, bias=True).to(device)\n",
        "model = mobilenetv3(n_class=2, dropout=0.2, input_size=256).to(device)\n",
        "model.load_state_dict(torch.load('/content/gdrive/MyDrive/Báo cáo thực tập - Nguyễn Hữu Khải/Rotation/mobilenetv3-Epoch-487-Loss-0.03-Acc-0.99.pth',map_location=torch.device('cpu')))\n",
        "epochs = 30\n",
        "learning_rate = 0.003\n",
        "decay_rate = learning_rate / epochs\n",
        "optimizer = torch.optim.Adam(lr=learning_rate, params=model.parameters(),weight_decay=decay_rate)\n",
        "hist = train(model,train_dataloader,val_dataloader,optimizer, epochs=epochs, loss_fn = nn.CrossEntropyLoss())"
      ]
    },
    {
      "cell_type": "code",
      "execution_count": null,
      "metadata": {
        "id": "NKJdRQ3A5WOO"
      },
      "outputs": [],
      "source": [
        "%tensorboard --logdir=runs"
      ]
    },
    {
      "cell_type": "code",
      "source": [
        "path_image = \"/content/gdrive/MyDrive/Báo cáo thực tập - Nguyễn Hữu Khải/Rotation/data/test_rc\"\n",
        "list = glob.glob(path_image + '/*.PNG')\n",
        "print(list)"
      ],
      "metadata": {
        "colab": {
          "base_uri": "https://localhost:8080/"
        },
        "id": "qg1iUOk5s3Sf",
        "outputId": "491cd827-f25d-4a41-9e5d-f86e2e168ead"
      },
      "execution_count": null,
      "outputs": [
        {
          "output_type": "stream",
          "name": "stdout",
          "text": [
            "['/content/gdrive/MyDrive/Báo cáo thực tập - Nguyễn Hữu Khải/Rotation/data/test_rc/1.PNG', '/content/gdrive/MyDrive/Báo cáo thực tập - Nguyễn Hữu Khải/Rotation/data/test_rc/2.PNG', '/content/gdrive/MyDrive/Báo cáo thực tập - Nguyễn Hữu Khải/Rotation/data/test_rc/Capture.PNG', '/content/gdrive/MyDrive/Báo cáo thực tập - Nguyễn Hữu Khải/Rotation/data/test_rc/3.PNG', '/content/gdrive/MyDrive/Báo cáo thực tập - Nguyễn Hữu Khải/Rotation/data/test_rc/4.PNG', '/content/gdrive/MyDrive/Báo cáo thực tập - Nguyễn Hữu Khải/Rotation/data/test_rc/5.PNG', '/content/gdrive/MyDrive/Báo cáo thực tập - Nguyễn Hữu Khải/Rotation/data/test_rc/7.PNG', '/content/gdrive/MyDrive/Báo cáo thực tập - Nguyễn Hữu Khải/Rotation/data/test_rc/8.PNG', '/content/gdrive/MyDrive/Báo cáo thực tập - Nguyễn Hữu Khải/Rotation/data/test_rc/9.PNG', '/content/gdrive/MyDrive/Báo cáo thực tập - Nguyễn Hữu Khải/Rotation/data/test_rc/10.PNG']\n"
          ]
        }
      ]
    },
    {
      "cell_type": "markdown",
      "metadata": {
        "id": "m933vB-IPaZW"
      },
      "source": [
        "# Test"
      ]
    },
    {
      "cell_type": "code",
      "execution_count": 19,
      "metadata": {
        "colab": {
          "base_uri": "https://localhost:8080/"
        },
        "id": "HK-8mxKl5WQ3",
        "outputId": "accadeb9-caea-4c1c-9ac0-f3e69af911ef"
      },
      "outputs": [
        {
          "output_type": "stream",
          "name": "stdout",
          "text": [
            "15000\n"
          ]
        }
      ],
      "source": [
        "transform_arg_test=A.Compose([\n",
        "    A.LongestMaxSize(256),\n",
        "    A.PadIfNeeded(256,256, border_mode=cv2.BORDER_CONSTANT, value=(255, 255, 255)),\n",
        "    A.Normalize(),])\n",
        "test_dataset = RotationDataset2(\"/content/gdrive/MyDrive/Báo cáo thực tập - Nguyễn Hữu Khải/Rotation/data/imagegen\", channel=3, transform=transform_arg_test)\n",
        "test_dataloader = torch.utils.data.DataLoader(test_dataset, batch_size=1, shuffle=True)\n",
        "print(len(test_dataloader))"
      ]
    },
    {
      "cell_type": "code",
      "execution_count": null,
      "metadata": {
        "id": "0kfd9n0tOhKG",
        "colab": {
          "base_uri": "https://localhost:8080/"
        },
        "outputId": "6f6173f4-ee04-452e-f2b7-a35d8cbfb677"
      },
      "outputs": [
        {
          "output_type": "execute_result",
          "data": {
            "text/plain": [
              "<All keys matched successfully>"
            ]
          },
          "metadata": {},
          "execution_count": 11
        }
      ],
      "source": [
        "device = 'cuda'\n",
        "#model = EfficientNet.from_pretrained('efficientnet-b0').to(device)\n",
        "#model ._fc= torch.nn.Linear(in_features=model._fc.in_features, out_features=4, bias=True).to(device)\n",
        "model = mobilenetv3(n_class=4, dropout=0.2, input_size=256).to(device)\n",
        "model.load_state_dict(torch.load('/content/gdrive/MyDrive/Báo cáo thực tập - Nguyễn Hữu Khải/Rotation/saved_model_lastversion_anhthat.pth',map_location=torch.device('cpu')))"
      ]
    },
    {
      "cell_type": "code",
      "execution_count": 14,
      "metadata": {
        "id": "bOQ1J1NVPdCR"
      },
      "outputs": [],
      "source": [
        "from sklearn.metrics import accuracy_score, f1_score, classification_report, confusion_matrix\n",
        "from PIL import Image\n",
        "import pandas as pd\n",
        "import matplotlib.pyplot as plt\n",
        "def predict(model, test_dataloader, device):\n",
        "  y_pred = []\n",
        "  y_true = []\n",
        "  model.eval()\n",
        "  for inputs, labels in test_dataloader:\n",
        "    labels = labels.to(device)\n",
        "    output = model(inputs.to(device)) # Feed Network\n",
        "    #print(output.shape)\n",
        "\n",
        "    output = (torch.max(torch.exp(output), 1)[1]).data.cpu().numpy()\n",
        "    y_pred.extend(output) # Save Prediction\n",
        "\n",
        "    labels = labels.data.cpu().numpy()\n",
        "    y_true.extend(labels) # Save Truth\n",
        "\n",
        "  conf_matrix = confusion_matrix(y_true,y_pred)\n",
        "  fig, ax = plt.subplots(figsize=(7.5, 7.5))\n",
        "  ax.matshow(conf_matrix, cmap=plt.cm.Blues, alpha=0.3)\n",
        "  for i in range(conf_matrix.shape[0]):\n",
        "      for j in range(conf_matrix.shape[1]):\n",
        "        ax.text(x=j, y=i,s=conf_matrix[i, j], va='center', ha='center', size='xx-large')\n",
        " \n",
        "  plt.xlabel('Predictions', fontsize=18)\n",
        "  plt.ylabel('Actuals', fontsize=18)\n",
        "  plt.title('Confusion Matrix', fontsize=18)\n",
        "  plt.show()\n",
        "  #print(len(test_dataloader))\n",
        "  print('Classification Report:')\n",
        "  print(classification_report(y_true, y_pred))\n",
        "  return accuracy_score(y_true, y_pred), f1_score(y_true, y_pred, average='macro')"
      ]
    },
    {
      "cell_type": "code",
      "execution_count": null,
      "metadata": {
        "id": "Tl7IliWAPdFI"
      },
      "outputs": [],
      "source": [
        "device = torch.device('cpu')\n",
        "model = model.to(device)\n",
        "predict(model, test_dataloader, device)"
      ]
    },
    {
      "cell_type": "code",
      "execution_count": null,
      "metadata": {
        "colab": {
          "base_uri": "https://localhost:8080/",
          "height": 818
        },
        "id": "ixuXRNTiTl3c",
        "outputId": "ebfc5747-ffaa-48c4-ebb2-3982a78f0552"
      },
      "outputs": [
        {
          "name": "stdout",
          "output_type": "stream",
          "text": [
            "Looking in indexes: https://pypi.org/simple, https://us-python.pkg.dev/colab-wheels/public/simple/\n",
            "Collecting albumentations==0.4.6\n",
            "  Downloading albumentations-0.4.6.tar.gz (117 kB)\n",
            "\u001b[K     |████████████████████████████████| 117 kB 32.9 MB/s \n",
            "\u001b[?25hRequirement already satisfied: numpy>=1.11.1 in /usr/local/lib/python3.7/dist-packages (from albumentations==0.4.6) (1.21.6)\n",
            "Requirement already satisfied: scipy in /usr/local/lib/python3.7/dist-packages (from albumentations==0.4.6) (1.7.3)\n",
            "Collecting imgaug>=0.4.0\n",
            "  Downloading imgaug-0.4.0-py2.py3-none-any.whl (948 kB)\n",
            "\u001b[K     |████████████████████████████████| 948 kB 60.9 MB/s \n",
            "\u001b[?25hRequirement already satisfied: PyYAML in /usr/local/lib/python3.7/dist-packages (from albumentations==0.4.6) (3.13)\n",
            "Requirement already satisfied: opencv-python>=4.1.1 in /usr/local/lib/python3.7/dist-packages (from albumentations==0.4.6) (4.1.2.30)\n",
            "Requirement already satisfied: matplotlib in /usr/local/lib/python3.7/dist-packages (from imgaug>=0.4.0->albumentations==0.4.6) (3.2.2)\n",
            "Requirement already satisfied: Pillow in /usr/local/lib/python3.7/dist-packages (from imgaug>=0.4.0->albumentations==0.4.6) (7.1.2)\n",
            "Requirement already satisfied: six in /usr/local/lib/python3.7/dist-packages (from imgaug>=0.4.0->albumentations==0.4.6) (1.15.0)\n",
            "Requirement already satisfied: Shapely in /usr/local/lib/python3.7/dist-packages (from imgaug>=0.4.0->albumentations==0.4.6) (1.8.2)\n",
            "Requirement already satisfied: imageio in /usr/local/lib/python3.7/dist-packages (from imgaug>=0.4.0->albumentations==0.4.6) (2.4.1)\n",
            "Requirement already satisfied: scikit-image>=0.14.2 in /usr/local/lib/python3.7/dist-packages (from imgaug>=0.4.0->albumentations==0.4.6) (0.18.3)\n",
            "Requirement already satisfied: tifffile>=2019.7.26 in /usr/local/lib/python3.7/dist-packages (from scikit-image>=0.14.2->imgaug>=0.4.0->albumentations==0.4.6) (2021.11.2)\n",
            "Requirement already satisfied: PyWavelets>=1.1.1 in /usr/local/lib/python3.7/dist-packages (from scikit-image>=0.14.2->imgaug>=0.4.0->albumentations==0.4.6) (1.3.0)\n",
            "Requirement already satisfied: networkx>=2.0 in /usr/local/lib/python3.7/dist-packages (from scikit-image>=0.14.2->imgaug>=0.4.0->albumentations==0.4.6) (2.6.3)\n",
            "Requirement already satisfied: pyparsing!=2.0.4,!=2.1.2,!=2.1.6,>=2.0.1 in /usr/local/lib/python3.7/dist-packages (from matplotlib->imgaug>=0.4.0->albumentations==0.4.6) (3.0.9)\n",
            "Requirement already satisfied: cycler>=0.10 in /usr/local/lib/python3.7/dist-packages (from matplotlib->imgaug>=0.4.0->albumentations==0.4.6) (0.11.0)\n",
            "Requirement already satisfied: kiwisolver>=1.0.1 in /usr/local/lib/python3.7/dist-packages (from matplotlib->imgaug>=0.4.0->albumentations==0.4.6) (1.4.3)\n",
            "Requirement already satisfied: python-dateutil>=2.1 in /usr/local/lib/python3.7/dist-packages (from matplotlib->imgaug>=0.4.0->albumentations==0.4.6) (2.8.2)\n",
            "Requirement already satisfied: typing-extensions in /usr/local/lib/python3.7/dist-packages (from kiwisolver>=1.0.1->matplotlib->imgaug>=0.4.0->albumentations==0.4.6) (4.1.1)\n",
            "Building wheels for collected packages: albumentations\n",
            "  Building wheel for albumentations (setup.py) ... \u001b[?25l\u001b[?25hdone\n",
            "  Created wheel for albumentations: filename=albumentations-0.4.6-py3-none-any.whl size=65174 sha256=f73a3fb4082f1f8f4e4ca68810ff047159a8a8d70d676d10c4a732509d79a458\n",
            "  Stored in directory: /root/.cache/pip/wheels/cf/34/0f/cb2a5f93561a181a4bcc84847ad6aaceea8b5a3127469616cc\n",
            "Successfully built albumentations\n",
            "Installing collected packages: imgaug, albumentations\n",
            "  Attempting uninstall: imgaug\n",
            "    Found existing installation: imgaug 0.2.9\n",
            "    Uninstalling imgaug-0.2.9:\n",
            "      Successfully uninstalled imgaug-0.2.9\n",
            "  Attempting uninstall: albumentations\n",
            "    Found existing installation: albumentations 0.1.12\n",
            "    Uninstalling albumentations-0.1.12:\n",
            "      Successfully uninstalled albumentations-0.1.12\n",
            "Successfully installed albumentations-0.4.6 imgaug-0.4.0\n"
          ]
        },
        {
          "data": {
            "application/vnd.colab-display-data+json": {
              "pip_warning": {
                "packages": [
                  "albumentations",
                  "imgaug"
                ]
              }
            }
          },
          "metadata": {},
          "output_type": "display_data"
        }
      ],
      "source": [
        "!pip install albumentations==0.4.6"
      ]
    },
    {
      "cell_type": "code",
      "execution_count": null,
      "metadata": {
        "colab": {
          "base_uri": "https://localhost:8080/"
        },
        "id": "UuKHaMFl_7jU",
        "outputId": "9391321b-1f49-480f-ac2f-0ef3892a67ba"
      },
      "outputs": [
        {
          "name": "stdout",
          "output_type": "stream",
          "text": [
            "Using matplotlib backend: agg\n"
          ]
        }
      ],
      "source": [
        "%matplotlib \n",
        "import cv2\n",
        "from matplotlib import pyplot as plt\n",
        "from google.colab.patches import cv2_imshow"
      ]
    },
    {
      "cell_type": "code",
      "execution_count": null,
      "metadata": {
        "colab": {
          "base_uri": "https://localhost:8080/",
          "height": 273
        },
        "id": "-5xllvP4_Dpt",
        "outputId": "2fa8e762-45a3-4297-f86e-157e5d84899d"
      },
      "outputs": [
        {
          "data": {
            "image/png": "[encoded data removed]",
            "text/plain": [
              "<PIL.Image.Image image mode=RGB size=256x256 at 0x7F62A4201810>"
            ]
          },
          "metadata": {},
          "output_type": "display_data"
        }
      ],
      "source": [
        "img_path = \"/content/gdrive/MyDrive/Báo cáo thực tập - Nguyễn Hữu Khải/Rotation/data/02_2012_QD-UBND_136145_page43_line147.png\"\n",
        "image = cv2.imread(img_path,cv2.IMREAD_UNCHANGED)\n",
        "transform = A.Compose([\n",
        "                      A.LongestMaxSize(256),\n",
        "                      A.PadIfNeeded(256,256, border_mode=cv2.BORDER_CONSTANT, value=(255, 255, 255)),                    \n",
        "    ])\n",
        "img = transform(image=image)['image']\n",
        "img1 = cv2.rotate(img, cv2.ROTATE_90_COUNTERCLOCKWISE)\n",
        "#cv2_imshow(image)\n",
        "cv2_imshow(img)\n",
        "#cv2_imshow(img1)"
      ]
    },
    {
      "cell_type": "code",
      "execution_count": null,
      "metadata": {
        "colab": {
          "base_uri": "https://localhost:8080/",
          "height": 589
        },
        "id": "iSEziFpXAqrw",
        "outputId": "2b8c5012-e105-4234-8232-8b284f0dad4a"
      },
      "outputs": [
        {
          "data": {
            "image/png": "[encoded data removed]",
            "text/plain": [
              "<PIL.Image.Image image mode=RGB size=865x60 at 0x7F00B182BD10>"
            ]
          },
          "metadata": {},
          "output_type": "display_data"
        },
        {
          "data": {
            "image/png": "[encoded data removed]",
            "text/plain": [
              "<PIL.Image.Image image mode=RGB size=256x256 at 0x7F00B18D6BD0>"
            ]
          },
          "metadata": {},
          "output_type": "display_data"
        },
        {
          "data": {
            "image/png": "[encoded data removed]",
            "text/plain": [
              "<PIL.Image.Image image mode=RGB size=256x256 at 0x7F00B182BD10>"
            ]
          },
          "metadata": {},
          "output_type": "display_data"
        }
      ],
      "source": [
        "img_path = \"/content/gdrive/MyDrive/Báo cáo thực tập - Nguyễn Hữu Khải/Rotation/data/imagegen/sepecialcharadd10000.png\"\n",
        "image = cv2.imread(img_path,cv2.IMREAD_UNCHANGED)\n",
        "img = cv2.resize(image,(256,256))\n",
        "img1 = cv2.rotate(img, cv2.ROTATE_90_COUNTERCLOCKWISE)  \n",
        "cv2_imshow(image)\n",
        "cv2_imshow(img)\n",
        "cv2_imshow(img1)"
      ]
    },
    {
      "cell_type": "markdown",
      "metadata": {
        "id": "k67xusW16NTn"
      },
      "source": [
        "#Tuning parameter\n"
      ]
    },
    {
      "cell_type": "code",
      "execution_count": null,
      "metadata": {
        "id": "k4NcCmlu6R6L"
      },
      "outputs": [],
      "source": [
        "from sklearn.metrics import f1_score, make_scorer\n",
        "from sklearn.model_selection import cross_val_score\n",
        "from sklearn.model_selection import GridSearchCV, RandomizedSearchCV"
      ]
    },
    {
      "cell_type": "code",
      "execution_count": null,
      "metadata": {
        "colab": {
          "base_uri": "https://localhost:8080/"
        },
        "id": "8h4WfdXtRe4A",
        "outputId": "6d4aed4c-3558-43ad-bdb9-a6ef9a6777d5"
      },
      "outputs": [
        {
          "data": {
            "text/plain": [
              "<All keys matched successfully>"
            ]
          },
          "execution_count": 10,
          "metadata": {},
          "output_type": "execute_result"
        }
      ],
      "source": [
        "device = 'cuda'\n",
        "model = mobilenetv3(n_class=4, dropout=0.2, input_size=256).to(device)\n",
        "model.load_state_dict(torch.load('/content/gdrive/MyDrive/Báo cáo thực tập - Nguyễn Hữu Khải/Rotation/saved_model_lastversion_5.pth',map_location=torch.device('cpu')))"
      ]
    },
    {
      "cell_type": "code",
      "execution_count": null,
      "metadata": {
        "id": "kiM1NokzRe70"
      },
      "outputs": [],
      "source": [
        "def generate_clf_from_search(grid_or_random, model, parameters, scorer, X, y):\n",
        "    if grid_or_random == \"Grid\":\n",
        "        search_obj = GridSearchCV(model, parameters, scoring=scorer)\n",
        "    elif grid_or_random == \"Random\":\n",
        "        search_obj = RandomizedSearchCV(model, parameters, scoring=scorer)\n",
        "    fit_obj = search_obj.fit(X, y)\n",
        "    best_clf = fit_obj.best_estimator_\n",
        "    return best_clf"
      ]
    },
    {
      "cell_type": "code",
      "execution_count": null,
      "metadata": {
        "id": "mNcpmIPFKQkv"
      },
      "outputs": [],
      "source": [
        "model = mobilenetv3(n_class=4, dropout=0.2, input_size=256).to(device)"
      ]
    },
    {
      "cell_type": "code",
      "execution_count": null,
      "metadata": {
        "id": "UIfgG4VrXdBi"
      },
      "outputs": [],
      "source": [
        "!pip install trains\n",
        "!pip install optuna\n",
        "!pip install 'ray[tune]'"
      ]
    },
    {
      "cell_type": "code",
      "execution_count": null,
      "metadata": {
        "id": "c7gFasDzarED"
      },
      "outputs": [],
      "source": [
        "from functools import partial\n",
        "import numpy as np\n",
        "import os\n",
        "import torch\n",
        "import torch.nn as nn\n",
        "import torch.nn.functional as F\n",
        "import torch.optim as optim\n",
        "from torch.utils.data import random_split\n",
        "import torchvision\n",
        "import torchvision.transforms as transforms\n",
        "from ray import tune\n",
        "from ray.tune import CLIReporter\n",
        "from ray.tune.schedulers import ASHAScheduler"
      ]
    },
    {
      "cell_type": "code",
      "execution_count": null,
      "metadata": {
        "id": "wNVlkZMma44A"
      },
      "outputs": [],
      "source": [
        "def train_cifar(config, checkpoint_dir=\"/content/gdrive/MyDrive/Báo cáo thực tập - Nguyễn Hữu Khải/Rotation/saved_model_lastversion_5.pth\"):\n",
        "    net = mobilenetv3(config[\"l1\"], config[\"l2\"])\n",
        "\n",
        "    device = \"cpu\"\n",
        "    if torch.cuda.is_available():\n",
        "        device = \"cuda:0\"\n",
        "        if torch.cuda.device_count() > 1:\n",
        "            net = nn.DataParallel(net)\n",
        "    net.to(device)\n",
        "\n",
        "    criterion = nn.CrossEntropyLoss()\n",
        "    optimizer = optim.SGD(net.parameters(), lr=config[\"lr\"], momentum=0.9)\n",
        "\n",
        "    if checkpoint_dir:\n",
        "        model_state, optimizer_state = torch.load(\n",
        "            os.path.join(checkpoint_dir, \"checkpoint\"))\n",
        "        net.load_state_dict(model_state)\n",
        "        optimizer.load_state_dict(optimizer_state)\n",
        "\n",
        "    trainloader = torch.utils.data.DataLoader(\n",
        "        train_dataset,\n",
        "        batch_size=int(config[\"batch_size\"]),\n",
        "        shuffle=True,\n",
        "        num_workers=8)\n",
        "    valloader = torch.utils.data.DataLoader(\n",
        "        val_dataset,\n",
        "        batch_size=int(config[\"batch_size\"]),\n",
        "        shuffle=True,\n",
        "        num_workers=8)\n",
        "\n",
        "    for epoch in range(10):  # loop over the dataset multiple times\n",
        "        running_loss = 0.0\n",
        "        epoch_steps = 0\n",
        "        for i, data in enumerate(trainloader, 0):\n",
        "            # get the inputs; data is a list of [inputs, labels]\n",
        "            inputs, labels = data\n",
        "            inputs, labels = inputs.to(device), labels.to(device)\n",
        "\n",
        "            # zero the parameter gradients\n",
        "            optimizer.zero_grad()\n",
        "\n",
        "            # forward + backward + optimize\n",
        "            outputs = net(inputs)\n",
        "            loss = criterion(outputs, labels)\n",
        "            loss.backward()\n",
        "            optimizer.step()\n",
        "\n",
        "            # print statistics\n",
        "            running_loss += loss.item()\n",
        "            epoch_steps += 1\n",
        "            if i % 2000 == 1999:  # print every 2000 mini-batches\n",
        "                print(\"[%d, %5d] loss: %.3f\" % (epoch + 1, i + 1,\n",
        "                                                running_loss / epoch_steps))\n",
        "                running_loss = 0.0\n",
        "\n",
        "        # Validation loss\n",
        "        val_loss = 0.0\n",
        "        val_steps = 0\n",
        "        total = 0\n",
        "        correct = 0\n",
        "        for i, data in enumerate(valloader, 0):\n",
        "            with torch.no_grad():\n",
        "                inputs, labels = data\n",
        "                inputs, labels = inputs.to(device), labels.to(device)\n",
        "\n",
        "                outputs = net(inputs)\n",
        "                _, predicted = torch.max(outputs.data, 1)\n",
        "                total += labels.size(0)\n",
        "                correct += (predicted == labels).sum().item()\n",
        "\n",
        "                loss = criterion(outputs, labels)\n",
        "                val_loss += loss.cpu().numpy()\n",
        "                val_steps += 1\n",
        "\n",
        "        with tune.checkpoint_dir(epoch) as checkpoint_dir:\n",
        "            path = os.path.join(checkpoint_dir, \"checkpoint\")\n",
        "            torch.save((net.state_dict(), optimizer.state_dict()), path)\n",
        "\n",
        "        tune.report(loss=(val_loss / val_steps), accuracy=correct / total)\n",
        "    print(\"Finished Training\")"
      ]
    },
    {
      "cell_type": "code",
      "execution_count": null,
      "metadata": {
        "id": "SP4R3r9Weicx"
      },
      "outputs": [],
      "source": [
        "test_dataloader = torch.utils.data.DataLoader(test_dataset, batch_size=1, shuffle=True)"
      ]
    },
    {
      "cell_type": "code",
      "execution_count": null,
      "metadata": {
        "id": "8irQkCnuebtf"
      },
      "outputs": [],
      "source": [
        "def test_best_model(best_trial):\n",
        "    best_trained_model = mobilenetv3(best_trial.config[\"l1\"], best_trial.config[\"l2\"])\n",
        "    device = \"cuda:0\" if torch.cuda.is_available() else \"cpu\"\n",
        "    best_trained_model.to(device)\n",
        "\n",
        "    checkpoint_path = os.path.join(best_trial.checkpoint.value, \"checkpoint\")\n",
        "\n",
        "    model_state, optimizer_state = torch.load(checkpoint_path)\n",
        "    best_trained_model.load_state_dict(model_state)\n",
        "\n",
        "\n",
        "    correct = 0\n",
        "    total = 0\n",
        "    with torch.no_grad():\n",
        "        for data in test_dataloader:\n",
        "            images, labels = data\n",
        "            images, labels = images.to(device), labels.to(device)\n",
        "            outputs = best_trained_model(images)\n",
        "            _, predicted = torch.max(outputs.data, 1)\n",
        "            total += labels.size(0)\n",
        "            correct += (predicted == labels).sum().item()\n",
        "\n",
        "\n",
        "    print(\"Best trial test set accuracy: {}\".format(correct / total))"
      ]
    },
    {
      "cell_type": "code",
      "execution_count": null,
      "metadata": {
        "id": "uE4xcFtEJgcR"
      },
      "outputs": [],
      "source": [
        "!pip install ray torch torchvision"
      ]
    },
    {
      "cell_type": "code",
      "execution_count": null,
      "metadata": {
        "id": "4lQku05ra461"
      },
      "outputs": [],
      "source": [
        "def main(num_samples=10, max_num_epochs=10, gpus_per_trial=1):\n",
        "    config = {\n",
        "        \"l1\": tune.sample_from(lambda _: 2 ** np.random.randint(2, 9)),\n",
        "        \"l2\": tune.sample_from(lambda _: 2 ** np.random.randint(2, 9)),\n",
        "        \"lr\": tune.loguniform(1e-4, 1e-1),\n",
        "        \"batch_size\": tune.choice([2, 4, 8, 16])\n",
        "    }\n",
        "\n",
        "    \n",
        "    scheduler = ASHAScheduler(\n",
        "        max_t=max_num_epochs,\n",
        "        grace_period=1,\n",
        "        reduction_factor=2)\n",
        "    \n",
        "    result = tune.run(\n",
        "        tune.with_parameters(train_cifar),\n",
        "        resources_per_trial={\"cpu\": 2, \"gpu\": gpus_per_trial},\n",
        "        config=config,\n",
        "        metric=\"loss\",\n",
        "        mode=\"min\",\n",
        "        num_samples=num_samples,\n",
        "        scheduler=scheduler\n",
        "    )\n",
        "\n",
        "    best_trial = result.get_best_trial(\"loss\", \"min\", \"last\")\n",
        "    print(\"Best trial config: {}\".format(best_trial.config))\n",
        "    print(\"Best trial final validation loss: {}\".format(\n",
        "        best_trial.last_result[\"loss\"]))\n",
        "    print(\"Best trial final validation accuracy: {}\".format(\n",
        "        best_trial.last_result[\"accuracy\"]))\n",
        "\n",
        "    if ray.util.client.ray.is_connected():\n",
        "        # If using Ray Client, we want to make sure checkpoint access\n",
        "        # happens on the server. So we wrap `test_best_model` in a Ray task.\n",
        "        # We have to make sure it gets executed on the same node that\n",
        "        # ``tune.run`` is called on.\n",
        "        from ray.tune.utils.util import force_on_current_node\n",
        "        remote_fn = force_on_current_node(ray.remote(test_best_model))\n",
        "        ray.get(remote_fn.remote(best_trial))\n",
        "    else:\n",
        "        test_best_model(best_trial)"
      ]
    },
    {
      "cell_type": "code",
      "execution_count": null,
      "metadata": {
        "colab": {
          "base_uri": "https://localhost:8080/",
          "height": 1000
        },
        "id": "s4ZO8zRld99x",
        "outputId": "d5780aaf-7654-4ef0-8d81-bb8c362f0857"
      },
      "outputs": [
        {
          "output_type": "display_data",
          "data": {
            "text/plain": [
              "<IPython.core.display.HTML object>"
            ],
            "text/html": [
              "== Status ==<br>Current time: 2022-07-28 09:15:32 (running for 00:00:11.15)<br>Memory usage on this node: 5.9/12.7 GiB<br>Using AsyncHyperBand: num_stopped=0\n",
              "Bracket: Iter 8.000: None | Iter 4.000: None | Iter 2.000: None | Iter 1.000: None<br>Resources requested: 2.0/2 CPUs, 1.0/1 GPUs, 0.0/7.42 GiB heap, 0.0/3.71 GiB objects (0.0/1.0 accelerator_type:T4)<br>Result logdir: /root/ray_results/train_cifar_2022-07-28_09-15-20<br>Number of trials: 10/10 (9 PENDING, 1 RUNNING)<br><table>\n",
              "<thead>\n",
              "<tr><th>Trial name             </th><th>status  </th><th>loc             </th><th style=\"text-align: right;\">  batch_size</th><th style=\"text-align: right;\">  l1</th><th style=\"text-align: right;\">  l2</th><th style=\"text-align: right;\">         lr</th></tr>\n",
              "</thead>\n",
              "<tbody>\n",
              "<tr><td>train_cifar_ce15f_00000</td><td>RUNNING </td><td>172.28.0.2:20242</td><td style=\"text-align: right;\">           8</td><td style=\"text-align: right;\">  32</td><td style=\"text-align: right;\">  16</td><td style=\"text-align: right;\">0.00786731 </td></tr>\n",
              "<tr><td>train_cifar_ce15f_00001</td><td>PENDING </td><td>                </td><td style=\"text-align: right;\">           8</td><td style=\"text-align: right;\">  64</td><td style=\"text-align: right;\">  16</td><td style=\"text-align: right;\">0.00021071 </td></tr>\n",
              "<tr><td>train_cifar_ce15f_00002</td><td>PENDING </td><td>                </td><td style=\"text-align: right;\">           4</td><td style=\"text-align: right;\">   8</td><td style=\"text-align: right;\">  16</td><td style=\"text-align: right;\">0.000142578</td></tr>\n",
              "<tr><td>train_cifar_ce15f_00003</td><td>PENDING </td><td>                </td><td style=\"text-align: right;\">           4</td><td style=\"text-align: right;\"> 128</td><td style=\"text-align: right;\">  16</td><td style=\"text-align: right;\">0.00754116 </td></tr>\n",
              "<tr><td>train_cifar_ce15f_00004</td><td>PENDING </td><td>                </td><td style=\"text-align: right;\">           4</td><td style=\"text-align: right;\"> 128</td><td style=\"text-align: right;\">  16</td><td style=\"text-align: right;\">0.000605433</td></tr>\n",
              "<tr><td>train_cifar_ce15f_00005</td><td>PENDING </td><td>                </td><td style=\"text-align: right;\">          16</td><td style=\"text-align: right;\"> 128</td><td style=\"text-align: right;\">   4</td><td style=\"text-align: right;\">0.00351635 </td></tr>\n",
              "<tr><td>train_cifar_ce15f_00006</td><td>PENDING </td><td>                </td><td style=\"text-align: right;\">           8</td><td style=\"text-align: right;\">  64</td><td style=\"text-align: right;\"> 256</td><td style=\"text-align: right;\">0.0612496  </td></tr>\n",
              "<tr><td>train_cifar_ce15f_00007</td><td>PENDING </td><td>                </td><td style=\"text-align: right;\">           8</td><td style=\"text-align: right;\">  16</td><td style=\"text-align: right;\">  64</td><td style=\"text-align: right;\">0.000455475</td></tr>\n",
              "<tr><td>train_cifar_ce15f_00008</td><td>PENDING </td><td>                </td><td style=\"text-align: right;\">          16</td><td style=\"text-align: right;\">  32</td><td style=\"text-align: right;\">  16</td><td style=\"text-align: right;\">0.00189624 </td></tr>\n",
              "<tr><td>train_cifar_ce15f_00009</td><td>PENDING </td><td>                </td><td style=\"text-align: right;\">           4</td><td style=\"text-align: right;\">  32</td><td style=\"text-align: right;\">   4</td><td style=\"text-align: right;\">0.000138078</td></tr>\n",
              "</tbody>\n",
              "</table><br><br>"
            ]
          },
          "metadata": {}
        },
        {
          "output_type": "stream",
          "name": "stderr",
          "text": [
            "\u001b[2m\u001b[36m(train_cifar pid=20242)\u001b[0m 2022-07-28 09:15:32,521\tERROR function_runner.py:286 -- Runner Thread raised error.\n",
            "\u001b[2m\u001b[36m(train_cifar pid=20242)\u001b[0m Traceback (most recent call last):\n",
            "\u001b[2m\u001b[36m(train_cifar pid=20242)\u001b[0m   File \"/usr/local/lib/python3.7/dist-packages/torch/serialization.py\", line 308, in _check_seekable\n",
            "\u001b[2m\u001b[36m(train_cifar pid=20242)\u001b[0m     f.seek(f.tell())\n",
            "\u001b[2m\u001b[36m(train_cifar pid=20242)\u001b[0m AttributeError: 'int' object has no attribute 'seek'\n",
            "\u001b[2m\u001b[36m(train_cifar pid=20242)\u001b[0m \n",
            "\u001b[2m\u001b[36m(train_cifar pid=20242)\u001b[0m During handling of the above exception, another exception occurred:\n",
            "\u001b[2m\u001b[36m(train_cifar pid=20242)\u001b[0m \n",
            "\u001b[2m\u001b[36m(train_cifar pid=20242)\u001b[0m Traceback (most recent call last):\n",
            "\u001b[2m\u001b[36m(train_cifar pid=20242)\u001b[0m   File \"/usr/local/lib/python3.7/dist-packages/ray/tune/function_runner.py\", line 277, in run\n",
            "\u001b[2m\u001b[36m(train_cifar pid=20242)\u001b[0m     self._entrypoint()\n",
            "\u001b[2m\u001b[36m(train_cifar pid=20242)\u001b[0m   File \"/usr/local/lib/python3.7/dist-packages/ray/tune/function_runner.py\", line 352, in entrypoint\n",
            "\u001b[2m\u001b[36m(train_cifar pid=20242)\u001b[0m     self._status_reporter.get_checkpoint(),\n",
            "\u001b[2m\u001b[36m(train_cifar pid=20242)\u001b[0m   File \"/usr/local/lib/python3.7/dist-packages/ray/util/tracing/tracing_helper.py\", line 462, in _resume_span\n",
            "\u001b[2m\u001b[36m(train_cifar pid=20242)\u001b[0m     return method(self, *_args, **_kwargs)\n",
            "\u001b[2m\u001b[36m(train_cifar pid=20242)\u001b[0m   File \"/usr/local/lib/python3.7/dist-packages/ray/tune/function_runner.py\", line 645, in _trainable_func\n",
            "\u001b[2m\u001b[36m(train_cifar pid=20242)\u001b[0m     output = fn()\n",
            "\u001b[2m\u001b[36m(train_cifar pid=20242)\u001b[0m   File \"/usr/local/lib/python3.7/dist-packages/ray/tune/utils/trainable.py\", line 410, in inner\n",
            "\u001b[2m\u001b[36m(train_cifar pid=20242)\u001b[0m     trainable(config, **fn_kwargs)\n",
            "\u001b[2m\u001b[36m(train_cifar pid=20242)\u001b[0m   File \"<ipython-input-65-77c5e5caa1ab>\", line 2, in train_cifar\n",
            "\u001b[2m\u001b[36m(train_cifar pid=20242)\u001b[0m   File \"<ipython-input-57-226308201a65>\", line 237, in mobilenetv3\n",
            "\u001b[2m\u001b[36m(train_cifar pid=20242)\u001b[0m   File \"/usr/local/lib/python3.7/dist-packages/torch/serialization.py\", line 699, in load\n",
            "\u001b[2m\u001b[36m(train_cifar pid=20242)\u001b[0m     with _open_file_like(f, 'rb') as opened_file:\n",
            "\u001b[2m\u001b[36m(train_cifar pid=20242)\u001b[0m   File \"/usr/local/lib/python3.7/dist-packages/torch/serialization.py\", line 235, in _open_file_like\n",
            "\u001b[2m\u001b[36m(train_cifar pid=20242)\u001b[0m     return _open_buffer_reader(name_or_buffer)\n",
            "\u001b[2m\u001b[36m(train_cifar pid=20242)\u001b[0m   File \"/usr/local/lib/python3.7/dist-packages/torch/serialization.py\", line 220, in __init__\n",
            "\u001b[2m\u001b[36m(train_cifar pid=20242)\u001b[0m     _check_seekable(buffer)\n",
            "\u001b[2m\u001b[36m(train_cifar pid=20242)\u001b[0m   File \"/usr/local/lib/python3.7/dist-packages/torch/serialization.py\", line 311, in _check_seekable\n",
            "\u001b[2m\u001b[36m(train_cifar pid=20242)\u001b[0m     raise_err_msg([\"seek\", \"tell\"], e)\n",
            "\u001b[2m\u001b[36m(train_cifar pid=20242)\u001b[0m   File \"/usr/local/lib/python3.7/dist-packages/torch/serialization.py\", line 304, in raise_err_msg\n",
            "\u001b[2m\u001b[36m(train_cifar pid=20242)\u001b[0m     raise type(e)(msg)\n",
            "\u001b[2m\u001b[36m(train_cifar pid=20242)\u001b[0m AttributeError: 'int' object has no attribute 'seek'. You can only torch.load from a file that is seekable. Please pre-load the data into a buffer like io.BytesIO and try to load from it instead.\n",
            "2022-07-28 09:15:32,654\tERROR trial_runner.py:886 -- Trial train_cifar_ce15f_00000: Error processing event.\n",
            "NoneType: None\n"
          ]
        },
        {
          "output_type": "stream",
          "name": "stdout",
          "text": [
            "Result for train_cifar_ce15f_00000:\n",
            "  date: 2022-07-28_09-15-32\n",
            "  experiment_id: d7344e36085b46f1a47ac78c9304ee1b\n",
            "  hostname: 136ea25224b8\n",
            "  node_ip: 172.28.0.2\n",
            "  pid: 20242\n",
            "  timestamp: 1658999732\n",
            "  trial_id: ce15f_00000\n",
            "  \n"
          ]
        },
        {
          "output_type": "display_data",
          "data": {
            "text/plain": [
              "<IPython.core.display.HTML object>"
            ],
            "text/html": [
              "== Status ==<br>Current time: 2022-07-28 09:15:32 (running for 00:00:11.39)<br>Memory usage on this node: 5.9/12.7 GiB<br>Using AsyncHyperBand: num_stopped=0\n",
              "Bracket: Iter 8.000: None | Iter 4.000: None | Iter 2.000: None | Iter 1.000: None<br>Resources requested: 0/2 CPUs, 0/1 GPUs, 0.0/7.42 GiB heap, 0.0/3.71 GiB objects (0.0/1.0 accelerator_type:T4)<br>Result logdir: /root/ray_results/train_cifar_2022-07-28_09-15-20<br>Number of trials: 10/10 (1 ERROR, 9 PENDING)<br><table>\n",
              "<thead>\n",
              "<tr><th>Trial name             </th><th>status  </th><th>loc             </th><th style=\"text-align: right;\">  batch_size</th><th style=\"text-align: right;\">  l1</th><th style=\"text-align: right;\">  l2</th><th style=\"text-align: right;\">         lr</th></tr>\n",
              "</thead>\n",
              "<tbody>\n",
              "<tr><td>train_cifar_ce15f_00001</td><td>PENDING </td><td>                </td><td style=\"text-align: right;\">           8</td><td style=\"text-align: right;\">  64</td><td style=\"text-align: right;\">  16</td><td style=\"text-align: right;\">0.00021071 </td></tr>\n",
              "<tr><td>train_cifar_ce15f_00002</td><td>PENDING </td><td>                </td><td style=\"text-align: right;\">           4</td><td style=\"text-align: right;\">   8</td><td style=\"text-align: right;\">  16</td><td style=\"text-align: right;\">0.000142578</td></tr>\n",
              "<tr><td>train_cifar_ce15f_00003</td><td>PENDING </td><td>                </td><td style=\"text-align: right;\">           4</td><td style=\"text-align: right;\"> 128</td><td style=\"text-align: right;\">  16</td><td style=\"text-align: right;\">0.00754116 </td></tr>\n",
              "<tr><td>train_cifar_ce15f_00004</td><td>PENDING </td><td>                </td><td style=\"text-align: right;\">           4</td><td style=\"text-align: right;\"> 128</td><td style=\"text-align: right;\">  16</td><td style=\"text-align: right;\">0.000605433</td></tr>\n",
              "<tr><td>train_cifar_ce15f_00005</td><td>PENDING </td><td>                </td><td style=\"text-align: right;\">          16</td><td style=\"text-align: right;\"> 128</td><td style=\"text-align: right;\">   4</td><td style=\"text-align: right;\">0.00351635 </td></tr>\n",
              "<tr><td>train_cifar_ce15f_00006</td><td>PENDING </td><td>                </td><td style=\"text-align: right;\">           8</td><td style=\"text-align: right;\">  64</td><td style=\"text-align: right;\"> 256</td><td style=\"text-align: right;\">0.0612496  </td></tr>\n",
              "<tr><td>train_cifar_ce15f_00007</td><td>PENDING </td><td>                </td><td style=\"text-align: right;\">           8</td><td style=\"text-align: right;\">  16</td><td style=\"text-align: right;\">  64</td><td style=\"text-align: right;\">0.000455475</td></tr>\n",
              "<tr><td>train_cifar_ce15f_00008</td><td>PENDING </td><td>                </td><td style=\"text-align: right;\">          16</td><td style=\"text-align: right;\">  32</td><td style=\"text-align: right;\">  16</td><td style=\"text-align: right;\">0.00189624 </td></tr>\n",
              "<tr><td>train_cifar_ce15f_00009</td><td>PENDING </td><td>                </td><td style=\"text-align: right;\">           4</td><td style=\"text-align: right;\">  32</td><td style=\"text-align: right;\">   4</td><td style=\"text-align: right;\">0.000138078</td></tr>\n",
              "<tr><td>train_cifar_ce15f_00000</td><td>ERROR   </td><td>172.28.0.2:20242</td><td style=\"text-align: right;\">           8</td><td style=\"text-align: right;\">  32</td><td style=\"text-align: right;\">  16</td><td style=\"text-align: right;\">0.00786731 </td></tr>\n",
              "</tbody>\n",
              "</table><br>Number of errored trials: 1<br><table>\n",
              "<thead>\n",
              "<tr><th>Trial name             </th><th style=\"text-align: right;\">  # failures</th><th>error file                                                                                                                                  </th></tr>\n",
              "</thead>\n",
              "<tbody>\n",
              "<tr><td>train_cifar_ce15f_00000</td><td style=\"text-align: right;\">           1</td><td>/root/ray_results/train_cifar_2022-07-28_09-15-20/train_cifar_ce15f_00000_0_batch_size=8,l1=32,l2=16,lr=0.0079_2022-07-28_09-15-22/error.txt</td></tr>\n",
              "</tbody>\n",
              "</table><br>"
            ]
          },
          "metadata": {}
        },
        {
          "output_type": "display_data",
          "data": {
            "text/plain": [
              "<IPython.core.display.HTML object>"
            ],
            "text/html": [
              "== Status ==<br>Current time: 2022-07-28 09:15:38 (running for 00:00:17.20)<br>Memory usage on this node: 6.1/12.7 GiB<br>Using AsyncHyperBand: num_stopped=0\n",
              "Bracket: Iter 8.000: None | Iter 4.000: None | Iter 2.000: None | Iter 1.000: None<br>Resources requested: 2.0/2 CPUs, 1.0/1 GPUs, 0.0/7.42 GiB heap, 0.0/3.71 GiB objects (0.0/1.0 accelerator_type:T4)<br>Result logdir: /root/ray_results/train_cifar_2022-07-28_09-15-20<br>Number of trials: 10/10 (1 ERROR, 8 PENDING, 1 RUNNING)<br><table>\n",
              "<thead>\n",
              "<tr><th>Trial name             </th><th>status  </th><th>loc             </th><th style=\"text-align: right;\">  batch_size</th><th style=\"text-align: right;\">  l1</th><th style=\"text-align: right;\">  l2</th><th style=\"text-align: right;\">         lr</th></tr>\n",
              "</thead>\n",
              "<tbody>\n",
              "<tr><td>train_cifar_ce15f_00001</td><td>RUNNING </td><td>172.28.0.2:20285</td><td style=\"text-align: right;\">           8</td><td style=\"text-align: right;\">  64</td><td style=\"text-align: right;\">  16</td><td style=\"text-align: right;\">0.00021071 </td></tr>\n",
              "<tr><td>train_cifar_ce15f_00002</td><td>PENDING </td><td>                </td><td style=\"text-align: right;\">           4</td><td style=\"text-align: right;\">   8</td><td style=\"text-align: right;\">  16</td><td style=\"text-align: right;\">0.000142578</td></tr>\n",
              "<tr><td>train_cifar_ce15f_00003</td><td>PENDING </td><td>                </td><td style=\"text-align: right;\">           4</td><td style=\"text-align: right;\"> 128</td><td style=\"text-align: right;\">  16</td><td style=\"text-align: right;\">0.00754116 </td></tr>\n",
              "<tr><td>train_cifar_ce15f_00004</td><td>PENDING </td><td>                </td><td style=\"text-align: right;\">           4</td><td style=\"text-align: right;\"> 128</td><td style=\"text-align: right;\">  16</td><td style=\"text-align: right;\">0.000605433</td></tr>\n",
              "<tr><td>train_cifar_ce15f_00005</td><td>PENDING </td><td>                </td><td style=\"text-align: right;\">          16</td><td style=\"text-align: right;\"> 128</td><td style=\"text-align: right;\">   4</td><td style=\"text-align: right;\">0.00351635 </td></tr>\n",
              "<tr><td>train_cifar_ce15f_00006</td><td>PENDING </td><td>                </td><td style=\"text-align: right;\">           8</td><td style=\"text-align: right;\">  64</td><td style=\"text-align: right;\"> 256</td><td style=\"text-align: right;\">0.0612496  </td></tr>\n",
              "<tr><td>train_cifar_ce15f_00007</td><td>PENDING </td><td>                </td><td style=\"text-align: right;\">           8</td><td style=\"text-align: right;\">  16</td><td style=\"text-align: right;\">  64</td><td style=\"text-align: right;\">0.000455475</td></tr>\n",
              "<tr><td>train_cifar_ce15f_00008</td><td>PENDING </td><td>                </td><td style=\"text-align: right;\">          16</td><td style=\"text-align: right;\">  32</td><td style=\"text-align: right;\">  16</td><td style=\"text-align: right;\">0.00189624 </td></tr>\n",
              "<tr><td>train_cifar_ce15f_00009</td><td>PENDING </td><td>                </td><td style=\"text-align: right;\">           4</td><td style=\"text-align: right;\">  32</td><td style=\"text-align: right;\">   4</td><td style=\"text-align: right;\">0.000138078</td></tr>\n",
              "<tr><td>train_cifar_ce15f_00000</td><td>ERROR   </td><td>172.28.0.2:20242</td><td style=\"text-align: right;\">           8</td><td style=\"text-align: right;\">  32</td><td style=\"text-align: right;\">  16</td><td style=\"text-align: right;\">0.00786731 </td></tr>\n",
              "</tbody>\n",
              "</table><br>Number of errored trials: 1<br><table>\n",
              "<thead>\n",
              "<tr><th>Trial name             </th><th style=\"text-align: right;\">  # failures</th><th>error file                                                                                                                                  </th></tr>\n",
              "</thead>\n",
              "<tbody>\n",
              "<tr><td>train_cifar_ce15f_00000</td><td style=\"text-align: right;\">           1</td><td>/root/ray_results/train_cifar_2022-07-28_09-15-20/train_cifar_ce15f_00000_0_batch_size=8,l1=32,l2=16,lr=0.0079_2022-07-28_09-15-22/error.txt</td></tr>\n",
              "</tbody>\n",
              "</table><br>"
            ]
          },
          "metadata": {}
        },
        {
          "output_type": "stream",
          "name": "stderr",
          "text": [
            "\u001b[2m\u001b[36m(train_cifar pid=20285)\u001b[0m 2022-07-28 09:15:38,505\tERROR function_runner.py:286 -- Runner Thread raised error.\n",
            "\u001b[2m\u001b[36m(train_cifar pid=20285)\u001b[0m Traceback (most recent call last):\n",
            "\u001b[2m\u001b[36m(train_cifar pid=20285)\u001b[0m   File \"/usr/local/lib/python3.7/dist-packages/torch/serialization.py\", line 308, in _check_seekable\n",
            "\u001b[2m\u001b[36m(train_cifar pid=20285)\u001b[0m     f.seek(f.tell())\n",
            "\u001b[2m\u001b[36m(train_cifar pid=20285)\u001b[0m AttributeError: 'int' object has no attribute 'seek'\n",
            "\u001b[2m\u001b[36m(train_cifar pid=20285)\u001b[0m \n",
            "\u001b[2m\u001b[36m(train_cifar pid=20285)\u001b[0m During handling of the above exception, another exception occurred:\n",
            "\u001b[2m\u001b[36m(train_cifar pid=20285)\u001b[0m \n",
            "\u001b[2m\u001b[36m(train_cifar pid=20285)\u001b[0m Traceback (most recent call last):\n",
            "\u001b[2m\u001b[36m(train_cifar pid=20285)\u001b[0m   File \"/usr/local/lib/python3.7/dist-packages/ray/tune/function_runner.py\", line 277, in run\n",
            "\u001b[2m\u001b[36m(train_cifar pid=20285)\u001b[0m     self._entrypoint()\n",
            "\u001b[2m\u001b[36m(train_cifar pid=20285)\u001b[0m   File \"/usr/local/lib/python3.7/dist-packages/ray/tune/function_runner.py\", line 352, in entrypoint\n",
            "\u001b[2m\u001b[36m(train_cifar pid=20285)\u001b[0m     self._status_reporter.get_checkpoint(),\n",
            "\u001b[2m\u001b[36m(train_cifar pid=20285)\u001b[0m   File \"/usr/local/lib/python3.7/dist-packages/ray/util/tracing/tracing_helper.py\", line 462, in _resume_span\n",
            "\u001b[2m\u001b[36m(train_cifar pid=20285)\u001b[0m     return method(self, *_args, **_kwargs)\n",
            "\u001b[2m\u001b[36m(train_cifar pid=20285)\u001b[0m   File \"/usr/local/lib/python3.7/dist-packages/ray/tune/function_runner.py\", line 645, in _trainable_func\n",
            "\u001b[2m\u001b[36m(train_cifar pid=20285)\u001b[0m     output = fn()\n",
            "\u001b[2m\u001b[36m(train_cifar pid=20285)\u001b[0m   File \"/usr/local/lib/python3.7/dist-packages/ray/tune/utils/trainable.py\", line 410, in inner\n",
            "\u001b[2m\u001b[36m(train_cifar pid=20285)\u001b[0m     trainable(config, **fn_kwargs)\n",
            "\u001b[2m\u001b[36m(train_cifar pid=20285)\u001b[0m   File \"<ipython-input-65-77c5e5caa1ab>\", line 2, in train_cifar\n",
            "\u001b[2m\u001b[36m(train_cifar pid=20285)\u001b[0m   File \"<ipython-input-57-226308201a65>\", line 237, in mobilenetv3\n",
            "\u001b[2m\u001b[36m(train_cifar pid=20285)\u001b[0m   File \"/usr/local/lib/python3.7/dist-packages/torch/serialization.py\", line 699, in load\n",
            "\u001b[2m\u001b[36m(train_cifar pid=20285)\u001b[0m     with _open_file_like(f, 'rb') as opened_file:\n",
            "\u001b[2m\u001b[36m(train_cifar pid=20285)\u001b[0m   File \"/usr/local/lib/python3.7/dist-packages/torch/serialization.py\", line 235, in _open_file_like\n",
            "\u001b[2m\u001b[36m(train_cifar pid=20285)\u001b[0m     return _open_buffer_reader(name_or_buffer)\n",
            "\u001b[2m\u001b[36m(train_cifar pid=20285)\u001b[0m   File \"/usr/local/lib/python3.7/dist-packages/torch/serialization.py\", line 220, in __init__\n",
            "\u001b[2m\u001b[36m(train_cifar pid=20285)\u001b[0m     _check_seekable(buffer)\n",
            "\u001b[2m\u001b[36m(train_cifar pid=20285)\u001b[0m   File \"/usr/local/lib/python3.7/dist-packages/torch/serialization.py\", line 311, in _check_seekable\n",
            "\u001b[2m\u001b[36m(train_cifar pid=20285)\u001b[0m     raise_err_msg([\"seek\", \"tell\"], e)\n",
            "\u001b[2m\u001b[36m(train_cifar pid=20285)\u001b[0m   File \"/usr/local/lib/python3.7/dist-packages/torch/serialization.py\", line 304, in raise_err_msg\n",
            "\u001b[2m\u001b[36m(train_cifar pid=20285)\u001b[0m     raise type(e)(msg)\n",
            "\u001b[2m\u001b[36m(train_cifar pid=20285)\u001b[0m AttributeError: 'int' object has no attribute 'seek'. You can only torch.load from a file that is seekable. Please pre-load the data into a buffer like io.BytesIO and try to load from it instead.\n",
            "2022-07-28 09:15:38,633\tERROR trial_runner.py:886 -- Trial train_cifar_ce15f_00001: Error processing event.\n",
            "NoneType: None\n"
          ]
        },
        {
          "output_type": "stream",
          "name": "stdout",
          "text": [
            "Result for train_cifar_ce15f_00001:\n",
            "  date: 2022-07-28_09-15-38\n",
            "  experiment_id: 6787269a84ce45f7ac96067a05e36c4b\n",
            "  hostname: 136ea25224b8\n",
            "  node_ip: 172.28.0.2\n",
            "  pid: 20285\n",
            "  timestamp: 1658999738\n",
            "  trial_id: ce15f_00001\n",
            "  \n"
          ]
        },
        {
          "output_type": "display_data",
          "data": {
            "text/plain": [
              "<IPython.core.display.HTML object>"
            ],
            "text/html": [
              "== Status ==<br>Current time: 2022-07-28 09:15:44 (running for 00:00:23.45)<br>Memory usage on this node: 6.1/12.7 GiB<br>Using AsyncHyperBand: num_stopped=0\n",
              "Bracket: Iter 8.000: None | Iter 4.000: None | Iter 2.000: None | Iter 1.000: None<br>Resources requested: 2.0/2 CPUs, 1.0/1 GPUs, 0.0/7.42 GiB heap, 0.0/3.71 GiB objects (0.0/1.0 accelerator_type:T4)<br>Result logdir: /root/ray_results/train_cifar_2022-07-28_09-15-20<br>Number of trials: 10/10 (2 ERROR, 7 PENDING, 1 RUNNING)<br><table>\n",
              "<thead>\n",
              "<tr><th>Trial name             </th><th>status  </th><th>loc             </th><th style=\"text-align: right;\">  batch_size</th><th style=\"text-align: right;\">  l1</th><th style=\"text-align: right;\">  l2</th><th style=\"text-align: right;\">         lr</th></tr>\n",
              "</thead>\n",
              "<tbody>\n",
              "<tr><td>train_cifar_ce15f_00002</td><td>RUNNING </td><td>172.28.0.2:20327</td><td style=\"text-align: right;\">           4</td><td style=\"text-align: right;\">   8</td><td style=\"text-align: right;\">  16</td><td style=\"text-align: right;\">0.000142578</td></tr>\n",
              "<tr><td>train_cifar_ce15f_00003</td><td>PENDING </td><td>                </td><td style=\"text-align: right;\">           4</td><td style=\"text-align: right;\"> 128</td><td style=\"text-align: right;\">  16</td><td style=\"text-align: right;\">0.00754116 </td></tr>\n",
              "<tr><td>train_cifar_ce15f_00004</td><td>PENDING </td><td>                </td><td style=\"text-align: right;\">           4</td><td style=\"text-align: right;\"> 128</td><td style=\"text-align: right;\">  16</td><td style=\"text-align: right;\">0.000605433</td></tr>\n",
              "<tr><td>train_cifar_ce15f_00005</td><td>PENDING </td><td>                </td><td style=\"text-align: right;\">          16</td><td style=\"text-align: right;\"> 128</td><td style=\"text-align: right;\">   4</td><td style=\"text-align: right;\">0.00351635 </td></tr>\n",
              "<tr><td>train_cifar_ce15f_00006</td><td>PENDING </td><td>                </td><td style=\"text-align: right;\">           8</td><td style=\"text-align: right;\">  64</td><td style=\"text-align: right;\"> 256</td><td style=\"text-align: right;\">0.0612496  </td></tr>\n",
              "<tr><td>train_cifar_ce15f_00007</td><td>PENDING </td><td>                </td><td style=\"text-align: right;\">           8</td><td style=\"text-align: right;\">  16</td><td style=\"text-align: right;\">  64</td><td style=\"text-align: right;\">0.000455475</td></tr>\n",
              "<tr><td>train_cifar_ce15f_00008</td><td>PENDING </td><td>                </td><td style=\"text-align: right;\">          16</td><td style=\"text-align: right;\">  32</td><td style=\"text-align: right;\">  16</td><td style=\"text-align: right;\">0.00189624 </td></tr>\n",
              "<tr><td>train_cifar_ce15f_00009</td><td>PENDING </td><td>                </td><td style=\"text-align: right;\">           4</td><td style=\"text-align: right;\">  32</td><td style=\"text-align: right;\">   4</td><td style=\"text-align: right;\">0.000138078</td></tr>\n",
              "<tr><td>train_cifar_ce15f_00000</td><td>ERROR   </td><td>172.28.0.2:20242</td><td style=\"text-align: right;\">           8</td><td style=\"text-align: right;\">  32</td><td style=\"text-align: right;\">  16</td><td style=\"text-align: right;\">0.00786731 </td></tr>\n",
              "<tr><td>train_cifar_ce15f_00001</td><td>ERROR   </td><td>172.28.0.2:20285</td><td style=\"text-align: right;\">           8</td><td style=\"text-align: right;\">  64</td><td style=\"text-align: right;\">  16</td><td style=\"text-align: right;\">0.00021071 </td></tr>\n",
              "</tbody>\n",
              "</table><br>Number of errored trials: 2<br><table>\n",
              "<thead>\n",
              "<tr><th>Trial name             </th><th style=\"text-align: right;\">  # failures</th><th>error file                                                                                                                                  </th></tr>\n",
              "</thead>\n",
              "<tbody>\n",
              "<tr><td>train_cifar_ce15f_00000</td><td style=\"text-align: right;\">           1</td><td>/root/ray_results/train_cifar_2022-07-28_09-15-20/train_cifar_ce15f_00000_0_batch_size=8,l1=32,l2=16,lr=0.0079_2022-07-28_09-15-22/error.txt</td></tr>\n",
              "<tr><td>train_cifar_ce15f_00001</td><td style=\"text-align: right;\">           1</td><td>/root/ray_results/train_cifar_2022-07-28_09-15-20/train_cifar_ce15f_00001_1_batch_size=8,l1=64,l2=16,lr=0.0002_2022-07-28_09-15-33/error.txt</td></tr>\n",
              "</tbody>\n",
              "</table><br>"
            ]
          },
          "metadata": {}
        },
        {
          "output_type": "stream",
          "name": "stderr",
          "text": [
            "\u001b[2m\u001b[36m(train_cifar pid=20327)\u001b[0m 2022-07-28 09:15:44,784\tERROR function_runner.py:286 -- Runner Thread raised error.\n",
            "\u001b[2m\u001b[36m(train_cifar pid=20327)\u001b[0m Traceback (most recent call last):\n",
            "\u001b[2m\u001b[36m(train_cifar pid=20327)\u001b[0m   File \"/usr/local/lib/python3.7/dist-packages/torch/serialization.py\", line 308, in _check_seekable\n",
            "\u001b[2m\u001b[36m(train_cifar pid=20327)\u001b[0m     f.seek(f.tell())\n",
            "\u001b[2m\u001b[36m(train_cifar pid=20327)\u001b[0m AttributeError: 'int' object has no attribute 'seek'\n",
            "\u001b[2m\u001b[36m(train_cifar pid=20327)\u001b[0m \n",
            "\u001b[2m\u001b[36m(train_cifar pid=20327)\u001b[0m During handling of the above exception, another exception occurred:\n",
            "\u001b[2m\u001b[36m(train_cifar pid=20327)\u001b[0m \n",
            "\u001b[2m\u001b[36m(train_cifar pid=20327)\u001b[0m Traceback (most recent call last):\n",
            "\u001b[2m\u001b[36m(train_cifar pid=20327)\u001b[0m   File \"/usr/local/lib/python3.7/dist-packages/ray/tune/function_runner.py\", line 277, in run\n",
            "\u001b[2m\u001b[36m(train_cifar pid=20327)\u001b[0m     self._entrypoint()\n",
            "\u001b[2m\u001b[36m(train_cifar pid=20327)\u001b[0m   File \"/usr/local/lib/python3.7/dist-packages/ray/tune/function_runner.py\", line 352, in entrypoint\n",
            "\u001b[2m\u001b[36m(train_cifar pid=20327)\u001b[0m     self._status_reporter.get_checkpoint(),\n",
            "\u001b[2m\u001b[36m(train_cifar pid=20327)\u001b[0m   File \"/usr/local/lib/python3.7/dist-packages/ray/util/tracing/tracing_helper.py\", line 462, in _resume_span\n",
            "\u001b[2m\u001b[36m(train_cifar pid=20327)\u001b[0m     return method(self, *_args, **_kwargs)\n",
            "\u001b[2m\u001b[36m(train_cifar pid=20327)\u001b[0m   File \"/usr/local/lib/python3.7/dist-packages/ray/tune/function_runner.py\", line 645, in _trainable_func\n",
            "\u001b[2m\u001b[36m(train_cifar pid=20327)\u001b[0m     output = fn()\n",
            "\u001b[2m\u001b[36m(train_cifar pid=20327)\u001b[0m   File \"/usr/local/lib/python3.7/dist-packages/ray/tune/utils/trainable.py\", line 410, in inner\n",
            "\u001b[2m\u001b[36m(train_cifar pid=20327)\u001b[0m     trainable(config, **fn_kwargs)\n",
            "\u001b[2m\u001b[36m(train_cifar pid=20327)\u001b[0m   File \"<ipython-input-65-77c5e5caa1ab>\", line 2, in train_cifar\n",
            "\u001b[2m\u001b[36m(train_cifar pid=20327)\u001b[0m   File \"<ipython-input-57-226308201a65>\", line 237, in mobilenetv3\n",
            "\u001b[2m\u001b[36m(train_cifar pid=20327)\u001b[0m   File \"/usr/local/lib/python3.7/dist-packages/torch/serialization.py\", line 699, in load\n",
            "\u001b[2m\u001b[36m(train_cifar pid=20327)\u001b[0m     with _open_file_like(f, 'rb') as opened_file:\n",
            "\u001b[2m\u001b[36m(train_cifar pid=20327)\u001b[0m   File \"/usr/local/lib/python3.7/dist-packages/torch/serialization.py\", line 235, in _open_file_like\n",
            "\u001b[2m\u001b[36m(train_cifar pid=20327)\u001b[0m     return _open_buffer_reader(name_or_buffer)\n",
            "\u001b[2m\u001b[36m(train_cifar pid=20327)\u001b[0m   File \"/usr/local/lib/python3.7/dist-packages/torch/serialization.py\", line 220, in __init__\n",
            "\u001b[2m\u001b[36m(train_cifar pid=20327)\u001b[0m     _check_seekable(buffer)\n",
            "\u001b[2m\u001b[36m(train_cifar pid=20327)\u001b[0m   File \"/usr/local/lib/python3.7/dist-packages/torch/serialization.py\", line 311, in _check_seekable\n",
            "\u001b[2m\u001b[36m(train_cifar pid=20327)\u001b[0m     raise_err_msg([\"seek\", \"tell\"], e)\n",
            "\u001b[2m\u001b[36m(train_cifar pid=20327)\u001b[0m   File \"/usr/local/lib/python3.7/dist-packages/torch/serialization.py\", line 304, in raise_err_msg\n",
            "\u001b[2m\u001b[36m(train_cifar pid=20327)\u001b[0m     raise type(e)(msg)\n",
            "\u001b[2m\u001b[36m(train_cifar pid=20327)\u001b[0m AttributeError: 'int' object has no attribute 'seek'. You can only torch.load from a file that is seekable. Please pre-load the data into a buffer like io.BytesIO and try to load from it instead.\n",
            "2022-07-28 09:15:44,946\tERROR trial_runner.py:886 -- Trial train_cifar_ce15f_00002: Error processing event.\n",
            "NoneType: None\n"
          ]
        },
        {
          "output_type": "stream",
          "name": "stdout",
          "text": [
            "Result for train_cifar_ce15f_00002:\n",
            "  date: 2022-07-28_09-15-44\n",
            "  experiment_id: f196698bc2674fc7b458ec500b138b34\n",
            "  hostname: 136ea25224b8\n",
            "  node_ip: 172.28.0.2\n",
            "  pid: 20327\n",
            "  timestamp: 1658999744\n",
            "  trial_id: ce15f_00002\n",
            "  \n"
          ]
        },
        {
          "output_type": "stream",
          "name": "stderr",
          "text": [
            "\u001b[2m\u001b[36m(train_cifar pid=20367)\u001b[0m 2022-07-28 09:15:48,321\tERROR function_runner.py:286 -- Runner Thread raised error.\n",
            "\u001b[2m\u001b[36m(train_cifar pid=20367)\u001b[0m Traceback (most recent call last):\n",
            "\u001b[2m\u001b[36m(train_cifar pid=20367)\u001b[0m   File \"/usr/local/lib/python3.7/dist-packages/torch/serialization.py\", line 308, in _check_seekable\n",
            "\u001b[2m\u001b[36m(train_cifar pid=20367)\u001b[0m     f.seek(f.tell())\n",
            "\u001b[2m\u001b[36m(train_cifar pid=20367)\u001b[0m AttributeError: 'int' object has no attribute 'seek'\n",
            "\u001b[2m\u001b[36m(train_cifar pid=20367)\u001b[0m \n",
            "\u001b[2m\u001b[36m(train_cifar pid=20367)\u001b[0m During handling of the above exception, another exception occurred:\n",
            "\u001b[2m\u001b[36m(train_cifar pid=20367)\u001b[0m \n",
            "\u001b[2m\u001b[36m(train_cifar pid=20367)\u001b[0m Traceback (most recent call last):\n",
            "\u001b[2m\u001b[36m(train_cifar pid=20367)\u001b[0m   File \"/usr/local/lib/python3.7/dist-packages/ray/tune/function_runner.py\", line 277, in run\n",
            "\u001b[2m\u001b[36m(train_cifar pid=20367)\u001b[0m     self._entrypoint()\n",
            "\u001b[2m\u001b[36m(train_cifar pid=20367)\u001b[0m   File \"/usr/local/lib/python3.7/dist-packages/ray/tune/function_runner.py\", line 352, in entrypoint\n",
            "\u001b[2m\u001b[36m(train_cifar pid=20367)\u001b[0m     self._status_reporter.get_checkpoint(),\n",
            "\u001b[2m\u001b[36m(train_cifar pid=20367)\u001b[0m   File \"/usr/local/lib/python3.7/dist-packages/ray/util/tracing/tracing_helper.py\", line 462, in _resume_span\n",
            "\u001b[2m\u001b[36m(train_cifar pid=20367)\u001b[0m     return method(self, *_args, **_kwargs)\n",
            "\u001b[2m\u001b[36m(train_cifar pid=20367)\u001b[0m   File \"/usr/local/lib/python3.7/dist-packages/ray/tune/function_runner.py\", line 645, in _trainable_func\n",
            "\u001b[2m\u001b[36m(train_cifar pid=20367)\u001b[0m     output = fn()\n",
            "\u001b[2m\u001b[36m(train_cifar pid=20367)\u001b[0m   File \"/usr/local/lib/python3.7/dist-packages/ray/tune/utils/trainable.py\", line 410, in inner\n",
            "\u001b[2m\u001b[36m(train_cifar pid=20367)\u001b[0m     trainable(config, **fn_kwargs)\n",
            "\u001b[2m\u001b[36m(train_cifar pid=20367)\u001b[0m   File \"<ipython-input-65-77c5e5caa1ab>\", line 2, in train_cifar\n",
            "\u001b[2m\u001b[36m(train_cifar pid=20367)\u001b[0m   File \"<ipython-input-57-226308201a65>\", line 237, in mobilenetv3\n",
            "\u001b[2m\u001b[36m(train_cifar pid=20367)\u001b[0m   File \"/usr/local/lib/python3.7/dist-packages/torch/serialization.py\", line 699, in load\n",
            "\u001b[2m\u001b[36m(train_cifar pid=20367)\u001b[0m     with _open_file_like(f, 'rb') as opened_file:\n",
            "\u001b[2m\u001b[36m(train_cifar pid=20367)\u001b[0m   File \"/usr/local/lib/python3.7/dist-packages/torch/serialization.py\", line 235, in _open_file_like\n",
            "\u001b[2m\u001b[36m(train_cifar pid=20367)\u001b[0m     return _open_buffer_reader(name_or_buffer)\n",
            "\u001b[2m\u001b[36m(train_cifar pid=20367)\u001b[0m   File \"/usr/local/lib/python3.7/dist-packages/torch/serialization.py\", line 220, in __init__\n",
            "\u001b[2m\u001b[36m(train_cifar pid=20367)\u001b[0m     _check_seekable(buffer)\n",
            "\u001b[2m\u001b[36m(train_cifar pid=20367)\u001b[0m   File \"/usr/local/lib/python3.7/dist-packages/torch/serialization.py\", line 311, in _check_seekable\n",
            "\u001b[2m\u001b[36m(train_cifar pid=20367)\u001b[0m     raise_err_msg([\"seek\", \"tell\"], e)\n",
            "\u001b[2m\u001b[36m(train_cifar pid=20367)\u001b[0m   File \"/usr/local/lib/python3.7/dist-packages/torch/serialization.py\", line 304, in raise_err_msg\n",
            "\u001b[2m\u001b[36m(train_cifar pid=20367)\u001b[0m     raise type(e)(msg)\n",
            "\u001b[2m\u001b[36m(train_cifar pid=20367)\u001b[0m AttributeError: 'int' object has no attribute 'seek'. You can only torch.load from a file that is seekable. Please pre-load the data into a buffer like io.BytesIO and try to load from it instead.\n",
            "2022-07-28 09:15:48,484\tERROR trial_runner.py:886 -- Trial train_cifar_ce15f_00003: Error processing event.\n",
            "NoneType: None\n"
          ]
        },
        {
          "output_type": "stream",
          "name": "stdout",
          "text": [
            "Result for train_cifar_ce15f_00003:\n",
            "  date: 2022-07-28_09-15-48\n",
            "  experiment_id: 9a0d889ce0734c15813cc54734f2ced3\n",
            "  hostname: 136ea25224b8\n",
            "  node_ip: 172.28.0.2\n",
            "  pid: 20367\n",
            "  timestamp: 1658999748\n",
            "  trial_id: ce15f_00003\n",
            "  \n"
          ]
        },
        {
          "output_type": "stream",
          "name": "stderr",
          "text": [
            "\u001b[2m\u001b[36m(train_cifar pid=20409)\u001b[0m 2022-07-28 09:15:52,321\tERROR function_runner.py:286 -- Runner Thread raised error.\n",
            "\u001b[2m\u001b[36m(train_cifar pid=20409)\u001b[0m Traceback (most recent call last):\n",
            "\u001b[2m\u001b[36m(train_cifar pid=20409)\u001b[0m   File \"/usr/local/lib/python3.7/dist-packages/torch/serialization.py\", line 308, in _check_seekable\n",
            "\u001b[2m\u001b[36m(train_cifar pid=20409)\u001b[0m     f.seek(f.tell())\n",
            "\u001b[2m\u001b[36m(train_cifar pid=20409)\u001b[0m AttributeError: 'int' object has no attribute 'seek'\n",
            "\u001b[2m\u001b[36m(train_cifar pid=20409)\u001b[0m \n",
            "\u001b[2m\u001b[36m(train_cifar pid=20409)\u001b[0m During handling of the above exception, another exception occurred:\n",
            "\u001b[2m\u001b[36m(train_cifar pid=20409)\u001b[0m \n",
            "\u001b[2m\u001b[36m(train_cifar pid=20409)\u001b[0m Traceback (most recent call last):\n",
            "\u001b[2m\u001b[36m(train_cifar pid=20409)\u001b[0m   File \"/usr/local/lib/python3.7/dist-packages/ray/tune/function_runner.py\", line 277, in run\n",
            "\u001b[2m\u001b[36m(train_cifar pid=20409)\u001b[0m     self._entrypoint()\n",
            "\u001b[2m\u001b[36m(train_cifar pid=20409)\u001b[0m   File \"/usr/local/lib/python3.7/dist-packages/ray/tune/function_runner.py\", line 352, in entrypoint\n",
            "\u001b[2m\u001b[36m(train_cifar pid=20409)\u001b[0m     self._status_reporter.get_checkpoint(),\n",
            "\u001b[2m\u001b[36m(train_cifar pid=20409)\u001b[0m   File \"/usr/local/lib/python3.7/dist-packages/ray/util/tracing/tracing_helper.py\", line 462, in _resume_span\n",
            "\u001b[2m\u001b[36m(train_cifar pid=20409)\u001b[0m     return method(self, *_args, **_kwargs)\n",
            "\u001b[2m\u001b[36m(train_cifar pid=20409)\u001b[0m   File \"/usr/local/lib/python3.7/dist-packages/ray/tune/function_runner.py\", line 645, in _trainable_func\n",
            "\u001b[2m\u001b[36m(train_cifar pid=20409)\u001b[0m     output = fn()\n",
            "\u001b[2m\u001b[36m(train_cifar pid=20409)\u001b[0m   File \"/usr/local/lib/python3.7/dist-packages/ray/tune/utils/trainable.py\", line 410, in inner\n",
            "\u001b[2m\u001b[36m(train_cifar pid=20409)\u001b[0m     trainable(config, **fn_kwargs)\n",
            "\u001b[2m\u001b[36m(train_cifar pid=20409)\u001b[0m   File \"<ipython-input-65-77c5e5caa1ab>\", line 2, in train_cifar\n",
            "\u001b[2m\u001b[36m(train_cifar pid=20409)\u001b[0m   File \"<ipython-input-57-226308201a65>\", line 237, in mobilenetv3\n",
            "\u001b[2m\u001b[36m(train_cifar pid=20409)\u001b[0m   File \"/usr/local/lib/python3.7/dist-packages/torch/serialization.py\", line 699, in load\n",
            "\u001b[2m\u001b[36m(train_cifar pid=20409)\u001b[0m     with _open_file_like(f, 'rb') as opened_file:\n",
            "\u001b[2m\u001b[36m(train_cifar pid=20409)\u001b[0m   File \"/usr/local/lib/python3.7/dist-packages/torch/serialization.py\", line 235, in _open_file_like\n",
            "\u001b[2m\u001b[36m(train_cifar pid=20409)\u001b[0m     return _open_buffer_reader(name_or_buffer)\n",
            "\u001b[2m\u001b[36m(train_cifar pid=20409)\u001b[0m   File \"/usr/local/lib/python3.7/dist-packages/torch/serialization.py\", line 220, in __init__\n",
            "\u001b[2m\u001b[36m(train_cifar pid=20409)\u001b[0m     _check_seekable(buffer)\n",
            "\u001b[2m\u001b[36m(train_cifar pid=20409)\u001b[0m   File \"/usr/local/lib/python3.7/dist-packages/torch/serialization.py\", line 311, in _check_seekable\n",
            "\u001b[2m\u001b[36m(train_cifar pid=20409)\u001b[0m     raise_err_msg([\"seek\", \"tell\"], e)\n",
            "\u001b[2m\u001b[36m(train_cifar pid=20409)\u001b[0m   File \"/usr/local/lib/python3.7/dist-packages/torch/serialization.py\", line 304, in raise_err_msg\n",
            "\u001b[2m\u001b[36m(train_cifar pid=20409)\u001b[0m     raise type(e)(msg)\n",
            "\u001b[2m\u001b[36m(train_cifar pid=20409)\u001b[0m AttributeError: 'int' object has no attribute 'seek'. You can only torch.load from a file that is seekable. Please pre-load the data into a buffer like io.BytesIO and try to load from it instead.\n",
            "2022-07-28 09:15:52,486\tERROR trial_runner.py:886 -- Trial train_cifar_ce15f_00004: Error processing event.\n",
            "NoneType: None\n"
          ]
        },
        {
          "output_type": "stream",
          "name": "stdout",
          "text": [
            "Result for train_cifar_ce15f_00004:\n",
            "  date: 2022-07-28_09-15-52\n",
            "  experiment_id: 85d2d06fa7af4647b10d02feca7fd760\n",
            "  hostname: 136ea25224b8\n",
            "  node_ip: 172.28.0.2\n",
            "  pid: 20409\n",
            "  timestamp: 1658999752\n",
            "  trial_id: ce15f_00004\n",
            "  \n"
          ]
        },
        {
          "output_type": "display_data",
          "data": {
            "text/plain": [
              "<IPython.core.display.HTML object>"
            ],
            "text/html": [
              "== Status ==<br>Current time: 2022-07-28 09:15:52 (running for 00:00:31.21)<br>Memory usage on this node: 6.2/12.7 GiB<br>Using AsyncHyperBand: num_stopped=0\n",
              "Bracket: Iter 8.000: None | Iter 4.000: None | Iter 2.000: None | Iter 1.000: None<br>Resources requested: 0/2 CPUs, 0/1 GPUs, 0.0/7.42 GiB heap, 0.0/3.71 GiB objects (0.0/1.0 accelerator_type:T4)<br>Result logdir: /root/ray_results/train_cifar_2022-07-28_09-15-20<br>Number of trials: 10/10 (5 ERROR, 5 PENDING)<br><table>\n",
              "<thead>\n",
              "<tr><th>Trial name             </th><th>status  </th><th>loc             </th><th style=\"text-align: right;\">  batch_size</th><th style=\"text-align: right;\">  l1</th><th style=\"text-align: right;\">  l2</th><th style=\"text-align: right;\">         lr</th></tr>\n",
              "</thead>\n",
              "<tbody>\n",
              "<tr><td>train_cifar_ce15f_00005</td><td>PENDING </td><td>                </td><td style=\"text-align: right;\">          16</td><td style=\"text-align: right;\"> 128</td><td style=\"text-align: right;\">   4</td><td style=\"text-align: right;\">0.00351635 </td></tr>\n",
              "<tr><td>train_cifar_ce15f_00006</td><td>PENDING </td><td>                </td><td style=\"text-align: right;\">           8</td><td style=\"text-align: right;\">  64</td><td style=\"text-align: right;\"> 256</td><td style=\"text-align: right;\">0.0612496  </td></tr>\n",
              "<tr><td>train_cifar_ce15f_00007</td><td>PENDING </td><td>                </td><td style=\"text-align: right;\">           8</td><td style=\"text-align: right;\">  16</td><td style=\"text-align: right;\">  64</td><td style=\"text-align: right;\">0.000455475</td></tr>\n",
              "<tr><td>train_cifar_ce15f_00008</td><td>PENDING </td><td>                </td><td style=\"text-align: right;\">          16</td><td style=\"text-align: right;\">  32</td><td style=\"text-align: right;\">  16</td><td style=\"text-align: right;\">0.00189624 </td></tr>\n",
              "<tr><td>train_cifar_ce15f_00009</td><td>PENDING </td><td>                </td><td style=\"text-align: right;\">           4</td><td style=\"text-align: right;\">  32</td><td style=\"text-align: right;\">   4</td><td style=\"text-align: right;\">0.000138078</td></tr>\n",
              "<tr><td>train_cifar_ce15f_00000</td><td>ERROR   </td><td>172.28.0.2:20242</td><td style=\"text-align: right;\">           8</td><td style=\"text-align: right;\">  32</td><td style=\"text-align: right;\">  16</td><td style=\"text-align: right;\">0.00786731 </td></tr>\n",
              "<tr><td>train_cifar_ce15f_00001</td><td>ERROR   </td><td>172.28.0.2:20285</td><td style=\"text-align: right;\">           8</td><td style=\"text-align: right;\">  64</td><td style=\"text-align: right;\">  16</td><td style=\"text-align: right;\">0.00021071 </td></tr>\n",
              "<tr><td>train_cifar_ce15f_00002</td><td>ERROR   </td><td>172.28.0.2:20327</td><td style=\"text-align: right;\">           4</td><td style=\"text-align: right;\">   8</td><td style=\"text-align: right;\">  16</td><td style=\"text-align: right;\">0.000142578</td></tr>\n",
              "<tr><td>train_cifar_ce15f_00003</td><td>ERROR   </td><td>172.28.0.2:20367</td><td style=\"text-align: right;\">           4</td><td style=\"text-align: right;\"> 128</td><td style=\"text-align: right;\">  16</td><td style=\"text-align: right;\">0.00754116 </td></tr>\n",
              "<tr><td>train_cifar_ce15f_00004</td><td>ERROR   </td><td>172.28.0.2:20409</td><td style=\"text-align: right;\">           4</td><td style=\"text-align: right;\"> 128</td><td style=\"text-align: right;\">  16</td><td style=\"text-align: right;\">0.000605433</td></tr>\n",
              "</tbody>\n",
              "</table><br>Number of errored trials: 5<br><table>\n",
              "<thead>\n",
              "<tr><th>Trial name             </th><th style=\"text-align: right;\">  # failures</th><th>error file                                                                                                                                   </th></tr>\n",
              "</thead>\n",
              "<tbody>\n",
              "<tr><td>train_cifar_ce15f_00000</td><td style=\"text-align: right;\">           1</td><td>/root/ray_results/train_cifar_2022-07-28_09-15-20/train_cifar_ce15f_00000_0_batch_size=8,l1=32,l2=16,lr=0.0079_2022-07-28_09-15-22/error.txt </td></tr>\n",
              "<tr><td>train_cifar_ce15f_00001</td><td style=\"text-align: right;\">           1</td><td>/root/ray_results/train_cifar_2022-07-28_09-15-20/train_cifar_ce15f_00001_1_batch_size=8,l1=64,l2=16,lr=0.0002_2022-07-28_09-15-33/error.txt </td></tr>\n",
              "<tr><td>train_cifar_ce15f_00002</td><td style=\"text-align: right;\">           1</td><td>/root/ray_results/train_cifar_2022-07-28_09-15-20/train_cifar_ce15f_00002_2_batch_size=4,l1=8,l2=16,lr=0.0001_2022-07-28_09-15-39/error.txt  </td></tr>\n",
              "<tr><td>train_cifar_ce15f_00003</td><td style=\"text-align: right;\">           1</td><td>/root/ray_results/train_cifar_2022-07-28_09-15-20/train_cifar_ce15f_00003_3_batch_size=4,l1=128,l2=16,lr=0.0075_2022-07-28_09-15-45/error.txt</td></tr>\n",
              "<tr><td>train_cifar_ce15f_00004</td><td style=\"text-align: right;\">           1</td><td>/root/ray_results/train_cifar_2022-07-28_09-15-20/train_cifar_ce15f_00004_4_batch_size=4,l1=128,l2=16,lr=0.0006_2022-07-28_09-15-49/error.txt</td></tr>\n",
              "</tbody>\n",
              "</table><br>"
            ]
          },
          "metadata": {}
        },
        {
          "output_type": "stream",
          "name": "stderr",
          "text": [
            "\u001b[2m\u001b[36m(train_cifar pid=20449)\u001b[0m 2022-07-28 09:15:56,335\tERROR function_runner.py:286 -- Runner Thread raised error.\n",
            "\u001b[2m\u001b[36m(train_cifar pid=20449)\u001b[0m Traceback (most recent call last):\n",
            "\u001b[2m\u001b[36m(train_cifar pid=20449)\u001b[0m   File \"/usr/local/lib/python3.7/dist-packages/torch/serialization.py\", line 308, in _check_seekable\n",
            "\u001b[2m\u001b[36m(train_cifar pid=20449)\u001b[0m     f.seek(f.tell())\n",
            "\u001b[2m\u001b[36m(train_cifar pid=20449)\u001b[0m AttributeError: 'int' object has no attribute 'seek'\n",
            "\u001b[2m\u001b[36m(train_cifar pid=20449)\u001b[0m \n",
            "\u001b[2m\u001b[36m(train_cifar pid=20449)\u001b[0m During handling of the above exception, another exception occurred:\n",
            "\u001b[2m\u001b[36m(train_cifar pid=20449)\u001b[0m \n",
            "\u001b[2m\u001b[36m(train_cifar pid=20449)\u001b[0m Traceback (most recent call last):\n",
            "\u001b[2m\u001b[36m(train_cifar pid=20449)\u001b[0m   File \"/usr/local/lib/python3.7/dist-packages/ray/tune/function_runner.py\", line 277, in run\n",
            "\u001b[2m\u001b[36m(train_cifar pid=20449)\u001b[0m     self._entrypoint()\n",
            "\u001b[2m\u001b[36m(train_cifar pid=20449)\u001b[0m   File \"/usr/local/lib/python3.7/dist-packages/ray/tune/function_runner.py\", line 352, in entrypoint\n",
            "\u001b[2m\u001b[36m(train_cifar pid=20449)\u001b[0m     self._status_reporter.get_checkpoint(),\n",
            "\u001b[2m\u001b[36m(train_cifar pid=20449)\u001b[0m   File \"/usr/local/lib/python3.7/dist-packages/ray/util/tracing/tracing_helper.py\", line 462, in _resume_span\n",
            "\u001b[2m\u001b[36m(train_cifar pid=20449)\u001b[0m     return method(self, *_args, **_kwargs)\n",
            "\u001b[2m\u001b[36m(train_cifar pid=20449)\u001b[0m   File \"/usr/local/lib/python3.7/dist-packages/ray/tune/function_runner.py\", line 645, in _trainable_func\n",
            "\u001b[2m\u001b[36m(train_cifar pid=20449)\u001b[0m     output = fn()\n",
            "\u001b[2m\u001b[36m(train_cifar pid=20449)\u001b[0m   File \"/usr/local/lib/python3.7/dist-packages/ray/tune/utils/trainable.py\", line 410, in inner\n",
            "\u001b[2m\u001b[36m(train_cifar pid=20449)\u001b[0m     trainable(config, **fn_kwargs)\n",
            "\u001b[2m\u001b[36m(train_cifar pid=20449)\u001b[0m   File \"<ipython-input-65-77c5e5caa1ab>\", line 2, in train_cifar\n",
            "\u001b[2m\u001b[36m(train_cifar pid=20449)\u001b[0m   File \"<ipython-input-57-226308201a65>\", line 237, in mobilenetv3\n",
            "\u001b[2m\u001b[36m(train_cifar pid=20449)\u001b[0m   File \"/usr/local/lib/python3.7/dist-packages/torch/serialization.py\", line 699, in load\n",
            "\u001b[2m\u001b[36m(train_cifar pid=20449)\u001b[0m     with _open_file_like(f, 'rb') as opened_file:\n",
            "\u001b[2m\u001b[36m(train_cifar pid=20449)\u001b[0m   File \"/usr/local/lib/python3.7/dist-packages/torch/serialization.py\", line 235, in _open_file_like\n",
            "\u001b[2m\u001b[36m(train_cifar pid=20449)\u001b[0m     return _open_buffer_reader(name_or_buffer)\n",
            "\u001b[2m\u001b[36m(train_cifar pid=20449)\u001b[0m   File \"/usr/local/lib/python3.7/dist-packages/torch/serialization.py\", line 220, in __init__\n",
            "\u001b[2m\u001b[36m(train_cifar pid=20449)\u001b[0m     _check_seekable(buffer)\n",
            "\u001b[2m\u001b[36m(train_cifar pid=20449)\u001b[0m   File \"/usr/local/lib/python3.7/dist-packages/torch/serialization.py\", line 311, in _check_seekable\n",
            "\u001b[2m\u001b[36m(train_cifar pid=20449)\u001b[0m     raise_err_msg([\"seek\", \"tell\"], e)\n",
            "\u001b[2m\u001b[36m(train_cifar pid=20449)\u001b[0m   File \"/usr/local/lib/python3.7/dist-packages/torch/serialization.py\", line 304, in raise_err_msg\n",
            "\u001b[2m\u001b[36m(train_cifar pid=20449)\u001b[0m     raise type(e)(msg)\n",
            "\u001b[2m\u001b[36m(train_cifar pid=20449)\u001b[0m AttributeError: 'int' object has no attribute 'seek'. You can only torch.load from a file that is seekable. Please pre-load the data into a buffer like io.BytesIO and try to load from it instead.\n",
            "2022-07-28 09:15:56,500\tERROR trial_runner.py:886 -- Trial train_cifar_ce15f_00005: Error processing event.\n",
            "NoneType: None\n"
          ]
        },
        {
          "output_type": "stream",
          "name": "stdout",
          "text": [
            "Result for train_cifar_ce15f_00005:\n",
            "  date: 2022-07-28_09-15-56\n",
            "  experiment_id: 2bf5d363b1fd4441a701242b1aac3255\n",
            "  hostname: 136ea25224b8\n",
            "  node_ip: 172.28.0.2\n",
            "  pid: 20449\n",
            "  timestamp: 1658999756\n",
            "  trial_id: ce15f_00005\n",
            "  \n"
          ]
        },
        {
          "output_type": "stream",
          "name": "stderr",
          "text": [
            "\u001b[2m\u001b[36m(train_cifar pid=20489)\u001b[0m 2022-07-28 09:16:00,299\tERROR function_runner.py:286 -- Runner Thread raised error.\n",
            "\u001b[2m\u001b[36m(train_cifar pid=20489)\u001b[0m Traceback (most recent call last):\n",
            "\u001b[2m\u001b[36m(train_cifar pid=20489)\u001b[0m   File \"/usr/local/lib/python3.7/dist-packages/torch/serialization.py\", line 308, in _check_seekable\n",
            "\u001b[2m\u001b[36m(train_cifar pid=20489)\u001b[0m     f.seek(f.tell())\n",
            "\u001b[2m\u001b[36m(train_cifar pid=20489)\u001b[0m AttributeError: 'int' object has no attribute 'seek'\n",
            "\u001b[2m\u001b[36m(train_cifar pid=20489)\u001b[0m \n",
            "\u001b[2m\u001b[36m(train_cifar pid=20489)\u001b[0m During handling of the above exception, another exception occurred:\n",
            "\u001b[2m\u001b[36m(train_cifar pid=20489)\u001b[0m \n",
            "\u001b[2m\u001b[36m(train_cifar pid=20489)\u001b[0m Traceback (most recent call last):\n",
            "\u001b[2m\u001b[36m(train_cifar pid=20489)\u001b[0m   File \"/usr/local/lib/python3.7/dist-packages/ray/tune/function_runner.py\", line 277, in run\n",
            "\u001b[2m\u001b[36m(train_cifar pid=20489)\u001b[0m     self._entrypoint()\n",
            "\u001b[2m\u001b[36m(train_cifar pid=20489)\u001b[0m   File \"/usr/local/lib/python3.7/dist-packages/ray/tune/function_runner.py\", line 352, in entrypoint\n",
            "\u001b[2m\u001b[36m(train_cifar pid=20489)\u001b[0m     self._status_reporter.get_checkpoint(),\n",
            "\u001b[2m\u001b[36m(train_cifar pid=20489)\u001b[0m   File \"/usr/local/lib/python3.7/dist-packages/ray/util/tracing/tracing_helper.py\", line 462, in _resume_span\n",
            "\u001b[2m\u001b[36m(train_cifar pid=20489)\u001b[0m     return method(self, *_args, **_kwargs)\n",
            "\u001b[2m\u001b[36m(train_cifar pid=20489)\u001b[0m   File \"/usr/local/lib/python3.7/dist-packages/ray/tune/function_runner.py\", line 645, in _trainable_func\n",
            "\u001b[2m\u001b[36m(train_cifar pid=20489)\u001b[0m     output = fn()\n",
            "\u001b[2m\u001b[36m(train_cifar pid=20489)\u001b[0m   File \"/usr/local/lib/python3.7/dist-packages/ray/tune/utils/trainable.py\", line 410, in inner\n",
            "\u001b[2m\u001b[36m(train_cifar pid=20489)\u001b[0m     trainable(config, **fn_kwargs)\n",
            "\u001b[2m\u001b[36m(train_cifar pid=20489)\u001b[0m   File \"<ipython-input-65-77c5e5caa1ab>\", line 2, in train_cifar\n",
            "\u001b[2m\u001b[36m(train_cifar pid=20489)\u001b[0m   File \"<ipython-input-57-226308201a65>\", line 237, in mobilenetv3\n",
            "\u001b[2m\u001b[36m(train_cifar pid=20489)\u001b[0m   File \"/usr/local/lib/python3.7/dist-packages/torch/serialization.py\", line 699, in load\n",
            "\u001b[2m\u001b[36m(train_cifar pid=20489)\u001b[0m     with _open_file_like(f, 'rb') as opened_file:\n",
            "\u001b[2m\u001b[36m(train_cifar pid=20489)\u001b[0m   File \"/usr/local/lib/python3.7/dist-packages/torch/serialization.py\", line 235, in _open_file_like\n",
            "\u001b[2m\u001b[36m(train_cifar pid=20489)\u001b[0m     return _open_buffer_reader(name_or_buffer)\n",
            "\u001b[2m\u001b[36m(train_cifar pid=20489)\u001b[0m   File \"/usr/local/lib/python3.7/dist-packages/torch/serialization.py\", line 220, in __init__\n",
            "\u001b[2m\u001b[36m(train_cifar pid=20489)\u001b[0m     _check_seekable(buffer)\n",
            "\u001b[2m\u001b[36m(train_cifar pid=20489)\u001b[0m   File \"/usr/local/lib/python3.7/dist-packages/torch/serialization.py\", line 311, in _check_seekable\n",
            "\u001b[2m\u001b[36m(train_cifar pid=20489)\u001b[0m     raise_err_msg([\"seek\", \"tell\"], e)\n",
            "\u001b[2m\u001b[36m(train_cifar pid=20489)\u001b[0m   File \"/usr/local/lib/python3.7/dist-packages/torch/serialization.py\", line 304, in raise_err_msg\n",
            "\u001b[2m\u001b[36m(train_cifar pid=20489)\u001b[0m     raise type(e)(msg)\n",
            "\u001b[2m\u001b[36m(train_cifar pid=20489)\u001b[0m AttributeError: 'int' object has no attribute 'seek'. You can only torch.load from a file that is seekable. Please pre-load the data into a buffer like io.BytesIO and try to load from it instead.\n",
            "2022-07-28 09:16:00,463\tERROR trial_runner.py:886 -- Trial train_cifar_ce15f_00006: Error processing event.\n",
            "NoneType: None\n"
          ]
        },
        {
          "output_type": "stream",
          "name": "stdout",
          "text": [
            "Result for train_cifar_ce15f_00006:\n",
            "  date: 2022-07-28_09-16-00\n",
            "  experiment_id: e45c03981f0b4efeb8755575c1f7b908\n",
            "  hostname: 136ea25224b8\n",
            "  node_ip: 172.28.0.2\n",
            "  pid: 20489\n",
            "  timestamp: 1658999760\n",
            "  trial_id: ce15f_00006\n",
            "  \n"
          ]
        },
        {
          "output_type": "display_data",
          "data": {
            "text/plain": [
              "<IPython.core.display.HTML object>"
            ],
            "text/html": [
              "== Status ==<br>Current time: 2022-07-28 09:16:00 (running for 00:00:39.19)<br>Memory usage on this node: 6.2/12.7 GiB<br>Using AsyncHyperBand: num_stopped=0\n",
              "Bracket: Iter 8.000: None | Iter 4.000: None | Iter 2.000: None | Iter 1.000: None<br>Resources requested: 0/2 CPUs, 0/1 GPUs, 0.0/7.42 GiB heap, 0.0/3.71 GiB objects (0.0/1.0 accelerator_type:T4)<br>Result logdir: /root/ray_results/train_cifar_2022-07-28_09-15-20<br>Number of trials: 10/10 (7 ERROR, 3 PENDING)<br><table>\n",
              "<thead>\n",
              "<tr><th>Trial name             </th><th>status  </th><th>loc             </th><th style=\"text-align: right;\">  batch_size</th><th style=\"text-align: right;\">  l1</th><th style=\"text-align: right;\">  l2</th><th style=\"text-align: right;\">         lr</th></tr>\n",
              "</thead>\n",
              "<tbody>\n",
              "<tr><td>train_cifar_ce15f_00007</td><td>PENDING </td><td>                </td><td style=\"text-align: right;\">           8</td><td style=\"text-align: right;\">  16</td><td style=\"text-align: right;\">  64</td><td style=\"text-align: right;\">0.000455475</td></tr>\n",
              "<tr><td>train_cifar_ce15f_00008</td><td>PENDING </td><td>                </td><td style=\"text-align: right;\">          16</td><td style=\"text-align: right;\">  32</td><td style=\"text-align: right;\">  16</td><td style=\"text-align: right;\">0.00189624 </td></tr>\n",
              "<tr><td>train_cifar_ce15f_00009</td><td>PENDING </td><td>                </td><td style=\"text-align: right;\">           4</td><td style=\"text-align: right;\">  32</td><td style=\"text-align: right;\">   4</td><td style=\"text-align: right;\">0.000138078</td></tr>\n",
              "<tr><td>train_cifar_ce15f_00000</td><td>ERROR   </td><td>172.28.0.2:20242</td><td style=\"text-align: right;\">           8</td><td style=\"text-align: right;\">  32</td><td style=\"text-align: right;\">  16</td><td style=\"text-align: right;\">0.00786731 </td></tr>\n",
              "<tr><td>train_cifar_ce15f_00001</td><td>ERROR   </td><td>172.28.0.2:20285</td><td style=\"text-align: right;\">           8</td><td style=\"text-align: right;\">  64</td><td style=\"text-align: right;\">  16</td><td style=\"text-align: right;\">0.00021071 </td></tr>\n",
              "<tr><td>train_cifar_ce15f_00002</td><td>ERROR   </td><td>172.28.0.2:20327</td><td style=\"text-align: right;\">           4</td><td style=\"text-align: right;\">   8</td><td style=\"text-align: right;\">  16</td><td style=\"text-align: right;\">0.000142578</td></tr>\n",
              "<tr><td>train_cifar_ce15f_00003</td><td>ERROR   </td><td>172.28.0.2:20367</td><td style=\"text-align: right;\">           4</td><td style=\"text-align: right;\"> 128</td><td style=\"text-align: right;\">  16</td><td style=\"text-align: right;\">0.00754116 </td></tr>\n",
              "<tr><td>train_cifar_ce15f_00004</td><td>ERROR   </td><td>172.28.0.2:20409</td><td style=\"text-align: right;\">           4</td><td style=\"text-align: right;\"> 128</td><td style=\"text-align: right;\">  16</td><td style=\"text-align: right;\">0.000605433</td></tr>\n",
              "<tr><td>train_cifar_ce15f_00005</td><td>ERROR   </td><td>172.28.0.2:20449</td><td style=\"text-align: right;\">          16</td><td style=\"text-align: right;\"> 128</td><td style=\"text-align: right;\">   4</td><td style=\"text-align: right;\">0.00351635 </td></tr>\n",
              "<tr><td>train_cifar_ce15f_00006</td><td>ERROR   </td><td>172.28.0.2:20489</td><td style=\"text-align: right;\">           8</td><td style=\"text-align: right;\">  64</td><td style=\"text-align: right;\"> 256</td><td style=\"text-align: right;\">0.0612496  </td></tr>\n",
              "</tbody>\n",
              "</table><br>Number of errored trials: 7<br><table>\n",
              "<thead>\n",
              "<tr><th>Trial name             </th><th style=\"text-align: right;\">  # failures</th><th>error file                                                                                                                                   </th></tr>\n",
              "</thead>\n",
              "<tbody>\n",
              "<tr><td>train_cifar_ce15f_00000</td><td style=\"text-align: right;\">           1</td><td>/root/ray_results/train_cifar_2022-07-28_09-15-20/train_cifar_ce15f_00000_0_batch_size=8,l1=32,l2=16,lr=0.0079_2022-07-28_09-15-22/error.txt </td></tr>\n",
              "<tr><td>train_cifar_ce15f_00001</td><td style=\"text-align: right;\">           1</td><td>/root/ray_results/train_cifar_2022-07-28_09-15-20/train_cifar_ce15f_00001_1_batch_size=8,l1=64,l2=16,lr=0.0002_2022-07-28_09-15-33/error.txt </td></tr>\n",
              "<tr><td>train_cifar_ce15f_00002</td><td style=\"text-align: right;\">           1</td><td>/root/ray_results/train_cifar_2022-07-28_09-15-20/train_cifar_ce15f_00002_2_batch_size=4,l1=8,l2=16,lr=0.0001_2022-07-28_09-15-39/error.txt  </td></tr>\n",
              "<tr><td>train_cifar_ce15f_00003</td><td style=\"text-align: right;\">           1</td><td>/root/ray_results/train_cifar_2022-07-28_09-15-20/train_cifar_ce15f_00003_3_batch_size=4,l1=128,l2=16,lr=0.0075_2022-07-28_09-15-45/error.txt</td></tr>\n",
              "<tr><td>train_cifar_ce15f_00004</td><td style=\"text-align: right;\">           1</td><td>/root/ray_results/train_cifar_2022-07-28_09-15-20/train_cifar_ce15f_00004_4_batch_size=4,l1=128,l2=16,lr=0.0006_2022-07-28_09-15-49/error.txt</td></tr>\n",
              "<tr><td>train_cifar_ce15f_00005</td><td style=\"text-align: right;\">           1</td><td>/root/ray_results/train_cifar_2022-07-28_09-15-20/train_cifar_ce15f_00005_5_batch_size=16,l1=128,l2=4,lr=0.0035_2022-07-28_09-15-53/error.txt</td></tr>\n",
              "<tr><td>train_cifar_ce15f_00006</td><td style=\"text-align: right;\">           1</td><td>/root/ray_results/train_cifar_2022-07-28_09-15-20/train_cifar_ce15f_00006_6_batch_size=8,l1=64,l2=256,lr=0.0612_2022-07-28_09-15-57/error.txt</td></tr>\n",
              "</tbody>\n",
              "</table><br>"
            ]
          },
          "metadata": {}
        },
        {
          "output_type": "stream",
          "name": "stderr",
          "text": [
            "\u001b[2m\u001b[36m(train_cifar pid=20530)\u001b[0m 2022-07-28 09:16:04,396\tERROR function_runner.py:286 -- Runner Thread raised error.\n",
            "\u001b[2m\u001b[36m(train_cifar pid=20530)\u001b[0m Traceback (most recent call last):\n",
            "\u001b[2m\u001b[36m(train_cifar pid=20530)\u001b[0m   File \"/usr/local/lib/python3.7/dist-packages/torch/serialization.py\", line 308, in _check_seekable\n",
            "\u001b[2m\u001b[36m(train_cifar pid=20530)\u001b[0m     f.seek(f.tell())\n",
            "\u001b[2m\u001b[36m(train_cifar pid=20530)\u001b[0m AttributeError: 'int' object has no attribute 'seek'\n",
            "\u001b[2m\u001b[36m(train_cifar pid=20530)\u001b[0m \n",
            "\u001b[2m\u001b[36m(train_cifar pid=20530)\u001b[0m During handling of the above exception, another exception occurred:\n",
            "\u001b[2m\u001b[36m(train_cifar pid=20530)\u001b[0m \n",
            "\u001b[2m\u001b[36m(train_cifar pid=20530)\u001b[0m Traceback (most recent call last):\n",
            "\u001b[2m\u001b[36m(train_cifar pid=20530)\u001b[0m   File \"/usr/local/lib/python3.7/dist-packages/ray/tune/function_runner.py\", line 277, in run\n",
            "\u001b[2m\u001b[36m(train_cifar pid=20530)\u001b[0m     self._entrypoint()\n",
            "\u001b[2m\u001b[36m(train_cifar pid=20530)\u001b[0m   File \"/usr/local/lib/python3.7/dist-packages/ray/tune/function_runner.py\", line 352, in entrypoint\n",
            "\u001b[2m\u001b[36m(train_cifar pid=20530)\u001b[0m     self._status_reporter.get_checkpoint(),\n",
            "\u001b[2m\u001b[36m(train_cifar pid=20530)\u001b[0m   File \"/usr/local/lib/python3.7/dist-packages/ray/util/tracing/tracing_helper.py\", line 462, in _resume_span\n",
            "\u001b[2m\u001b[36m(train_cifar pid=20530)\u001b[0m     return method(self, *_args, **_kwargs)\n",
            "\u001b[2m\u001b[36m(train_cifar pid=20530)\u001b[0m   File \"/usr/local/lib/python3.7/dist-packages/ray/tune/function_runner.py\", line 645, in _trainable_func\n",
            "\u001b[2m\u001b[36m(train_cifar pid=20530)\u001b[0m     output = fn()\n",
            "\u001b[2m\u001b[36m(train_cifar pid=20530)\u001b[0m   File \"/usr/local/lib/python3.7/dist-packages/ray/tune/utils/trainable.py\", line 410, in inner\n",
            "\u001b[2m\u001b[36m(train_cifar pid=20530)\u001b[0m     trainable(config, **fn_kwargs)\n",
            "\u001b[2m\u001b[36m(train_cifar pid=20530)\u001b[0m   File \"<ipython-input-65-77c5e5caa1ab>\", line 2, in train_cifar\n",
            "\u001b[2m\u001b[36m(train_cifar pid=20530)\u001b[0m   File \"<ipython-input-57-226308201a65>\", line 237, in mobilenetv3\n",
            "\u001b[2m\u001b[36m(train_cifar pid=20530)\u001b[0m   File \"/usr/local/lib/python3.7/dist-packages/torch/serialization.py\", line 699, in load\n",
            "\u001b[2m\u001b[36m(train_cifar pid=20530)\u001b[0m     with _open_file_like(f, 'rb') as opened_file:\n",
            "\u001b[2m\u001b[36m(train_cifar pid=20530)\u001b[0m   File \"/usr/local/lib/python3.7/dist-packages/torch/serialization.py\", line 235, in _open_file_like\n",
            "\u001b[2m\u001b[36m(train_cifar pid=20530)\u001b[0m     return _open_buffer_reader(name_or_buffer)\n",
            "\u001b[2m\u001b[36m(train_cifar pid=20530)\u001b[0m   File \"/usr/local/lib/python3.7/dist-packages/torch/serialization.py\", line 220, in __init__\n",
            "\u001b[2m\u001b[36m(train_cifar pid=20530)\u001b[0m     _check_seekable(buffer)\n",
            "\u001b[2m\u001b[36m(train_cifar pid=20530)\u001b[0m   File \"/usr/local/lib/python3.7/dist-packages/torch/serialization.py\", line 311, in _check_seekable\n",
            "\u001b[2m\u001b[36m(train_cifar pid=20530)\u001b[0m     raise_err_msg([\"seek\", \"tell\"], e)\n",
            "\u001b[2m\u001b[36m(train_cifar pid=20530)\u001b[0m   File \"/usr/local/lib/python3.7/dist-packages/torch/serialization.py\", line 304, in raise_err_msg\n",
            "\u001b[2m\u001b[36m(train_cifar pid=20530)\u001b[0m     raise type(e)(msg)\n",
            "\u001b[2m\u001b[36m(train_cifar pid=20530)\u001b[0m AttributeError: 'int' object has no attribute 'seek'. You can only torch.load from a file that is seekable. Please pre-load the data into a buffer like io.BytesIO and try to load from it instead.\n",
            "2022-07-28 09:16:04,560\tERROR trial_runner.py:886 -- Trial train_cifar_ce15f_00007: Error processing event.\n",
            "NoneType: None\n"
          ]
        },
        {
          "output_type": "stream",
          "name": "stdout",
          "text": [
            "Result for train_cifar_ce15f_00007:\n",
            "  date: 2022-07-28_09-16-04\n",
            "  experiment_id: 5399cc7383e749f7a307d71164a122b8\n",
            "  hostname: 136ea25224b8\n",
            "  node_ip: 172.28.0.2\n",
            "  pid: 20530\n",
            "  timestamp: 1658999764\n",
            "  trial_id: ce15f_00007\n",
            "  \n"
          ]
        },
        {
          "output_type": "stream",
          "name": "stderr",
          "text": [
            "\u001b[2m\u001b[36m(train_cifar pid=20572)\u001b[0m 2022-07-28 09:16:08,373\tERROR function_runner.py:286 -- Runner Thread raised error.\n",
            "\u001b[2m\u001b[36m(train_cifar pid=20572)\u001b[0m Traceback (most recent call last):\n",
            "\u001b[2m\u001b[36m(train_cifar pid=20572)\u001b[0m   File \"/usr/local/lib/python3.7/dist-packages/torch/serialization.py\", line 308, in _check_seekable\n",
            "\u001b[2m\u001b[36m(train_cifar pid=20572)\u001b[0m     f.seek(f.tell())\n",
            "\u001b[2m\u001b[36m(train_cifar pid=20572)\u001b[0m AttributeError: 'int' object has no attribute 'seek'\n",
            "\u001b[2m\u001b[36m(train_cifar pid=20572)\u001b[0m \n",
            "\u001b[2m\u001b[36m(train_cifar pid=20572)\u001b[0m During handling of the above exception, another exception occurred:\n",
            "\u001b[2m\u001b[36m(train_cifar pid=20572)\u001b[0m \n",
            "\u001b[2m\u001b[36m(train_cifar pid=20572)\u001b[0m Traceback (most recent call last):\n",
            "\u001b[2m\u001b[36m(train_cifar pid=20572)\u001b[0m   File \"/usr/local/lib/python3.7/dist-packages/ray/tune/function_runner.py\", line 277, in run\n",
            "\u001b[2m\u001b[36m(train_cifar pid=20572)\u001b[0m     self._entrypoint()\n",
            "\u001b[2m\u001b[36m(train_cifar pid=20572)\u001b[0m   File \"/usr/local/lib/python3.7/dist-packages/ray/tune/function_runner.py\", line 352, in entrypoint\n",
            "\u001b[2m\u001b[36m(train_cifar pid=20572)\u001b[0m     self._status_reporter.get_checkpoint(),\n",
            "\u001b[2m\u001b[36m(train_cifar pid=20572)\u001b[0m   File \"/usr/local/lib/python3.7/dist-packages/ray/util/tracing/tracing_helper.py\", line 462, in _resume_span\n",
            "\u001b[2m\u001b[36m(train_cifar pid=20572)\u001b[0m     return method(self, *_args, **_kwargs)\n",
            "\u001b[2m\u001b[36m(train_cifar pid=20572)\u001b[0m   File \"/usr/local/lib/python3.7/dist-packages/ray/tune/function_runner.py\", line 645, in _trainable_func\n",
            "\u001b[2m\u001b[36m(train_cifar pid=20572)\u001b[0m     output = fn()\n",
            "\u001b[2m\u001b[36m(train_cifar pid=20572)\u001b[0m   File \"/usr/local/lib/python3.7/dist-packages/ray/tune/utils/trainable.py\", line 410, in inner\n",
            "\u001b[2m\u001b[36m(train_cifar pid=20572)\u001b[0m     trainable(config, **fn_kwargs)\n",
            "\u001b[2m\u001b[36m(train_cifar pid=20572)\u001b[0m   File \"<ipython-input-65-77c5e5caa1ab>\", line 2, in train_cifar\n",
            "\u001b[2m\u001b[36m(train_cifar pid=20572)\u001b[0m   File \"<ipython-input-57-226308201a65>\", line 237, in mobilenetv3\n",
            "\u001b[2m\u001b[36m(train_cifar pid=20572)\u001b[0m   File \"/usr/local/lib/python3.7/dist-packages/torch/serialization.py\", line 699, in load\n",
            "\u001b[2m\u001b[36m(train_cifar pid=20572)\u001b[0m     with _open_file_like(f, 'rb') as opened_file:\n",
            "\u001b[2m\u001b[36m(train_cifar pid=20572)\u001b[0m   File \"/usr/local/lib/python3.7/dist-packages/torch/serialization.py\", line 235, in _open_file_like\n",
            "\u001b[2m\u001b[36m(train_cifar pid=20572)\u001b[0m     return _open_buffer_reader(name_or_buffer)\n",
            "\u001b[2m\u001b[36m(train_cifar pid=20572)\u001b[0m   File \"/usr/local/lib/python3.7/dist-packages/torch/serialization.py\", line 220, in __init__\n",
            "\u001b[2m\u001b[36m(train_cifar pid=20572)\u001b[0m     _check_seekable(buffer)\n",
            "\u001b[2m\u001b[36m(train_cifar pid=20572)\u001b[0m   File \"/usr/local/lib/python3.7/dist-packages/torch/serialization.py\", line 311, in _check_seekable\n",
            "\u001b[2m\u001b[36m(train_cifar pid=20572)\u001b[0m     raise_err_msg([\"seek\", \"tell\"], e)\n",
            "\u001b[2m\u001b[36m(train_cifar pid=20572)\u001b[0m   File \"/usr/local/lib/python3.7/dist-packages/torch/serialization.py\", line 304, in raise_err_msg\n",
            "\u001b[2m\u001b[36m(train_cifar pid=20572)\u001b[0m     raise type(e)(msg)\n",
            "\u001b[2m\u001b[36m(train_cifar pid=20572)\u001b[0m AttributeError: 'int' object has no attribute 'seek'. You can only torch.load from a file that is seekable. Please pre-load the data into a buffer like io.BytesIO and try to load from it instead.\n",
            "2022-07-28 09:16:08,536\tERROR trial_runner.py:886 -- Trial train_cifar_ce15f_00008: Error processing event.\n",
            "NoneType: None\n"
          ]
        },
        {
          "output_type": "stream",
          "name": "stdout",
          "text": [
            "Result for train_cifar_ce15f_00008:\n",
            "  date: 2022-07-28_09-16-08\n",
            "  experiment_id: 790620ccb8dd43b8bacc799e582d84a7\n",
            "  hostname: 136ea25224b8\n",
            "  node_ip: 172.28.0.2\n",
            "  pid: 20572\n",
            "  timestamp: 1658999768\n",
            "  trial_id: ce15f_00008\n",
            "  \n"
          ]
        },
        {
          "output_type": "display_data",
          "data": {
            "text/plain": [
              "<IPython.core.display.HTML object>"
            ],
            "text/html": [
              "== Status ==<br>Current time: 2022-07-28 09:16:08 (running for 00:00:47.28)<br>Memory usage on this node: 6.1/12.7 GiB<br>Using AsyncHyperBand: num_stopped=0\n",
              "Bracket: Iter 8.000: None | Iter 4.000: None | Iter 2.000: None | Iter 1.000: None<br>Resources requested: 0/2 CPUs, 0/1 GPUs, 0.0/7.42 GiB heap, 0.0/3.71 GiB objects (0.0/1.0 accelerator_type:T4)<br>Result logdir: /root/ray_results/train_cifar_2022-07-28_09-15-20<br>Number of trials: 10/10 (9 ERROR, 1 PENDING)<br><table>\n",
              "<thead>\n",
              "<tr><th>Trial name             </th><th>status  </th><th>loc             </th><th style=\"text-align: right;\">  batch_size</th><th style=\"text-align: right;\">  l1</th><th style=\"text-align: right;\">  l2</th><th style=\"text-align: right;\">         lr</th></tr>\n",
              "</thead>\n",
              "<tbody>\n",
              "<tr><td>train_cifar_ce15f_00009</td><td>PENDING </td><td>                </td><td style=\"text-align: right;\">           4</td><td style=\"text-align: right;\">  32</td><td style=\"text-align: right;\">   4</td><td style=\"text-align: right;\">0.000138078</td></tr>\n",
              "<tr><td>train_cifar_ce15f_00000</td><td>ERROR   </td><td>172.28.0.2:20242</td><td style=\"text-align: right;\">           8</td><td style=\"text-align: right;\">  32</td><td style=\"text-align: right;\">  16</td><td style=\"text-align: right;\">0.00786731 </td></tr>\n",
              "<tr><td>train_cifar_ce15f_00001</td><td>ERROR   </td><td>172.28.0.2:20285</td><td style=\"text-align: right;\">           8</td><td style=\"text-align: right;\">  64</td><td style=\"text-align: right;\">  16</td><td style=\"text-align: right;\">0.00021071 </td></tr>\n",
              "<tr><td>train_cifar_ce15f_00002</td><td>ERROR   </td><td>172.28.0.2:20327</td><td style=\"text-align: right;\">           4</td><td style=\"text-align: right;\">   8</td><td style=\"text-align: right;\">  16</td><td style=\"text-align: right;\">0.000142578</td></tr>\n",
              "<tr><td>train_cifar_ce15f_00003</td><td>ERROR   </td><td>172.28.0.2:20367</td><td style=\"text-align: right;\">           4</td><td style=\"text-align: right;\"> 128</td><td style=\"text-align: right;\">  16</td><td style=\"text-align: right;\">0.00754116 </td></tr>\n",
              "<tr><td>train_cifar_ce15f_00004</td><td>ERROR   </td><td>172.28.0.2:20409</td><td style=\"text-align: right;\">           4</td><td style=\"text-align: right;\"> 128</td><td style=\"text-align: right;\">  16</td><td style=\"text-align: right;\">0.000605433</td></tr>\n",
              "<tr><td>train_cifar_ce15f_00005</td><td>ERROR   </td><td>172.28.0.2:20449</td><td style=\"text-align: right;\">          16</td><td style=\"text-align: right;\"> 128</td><td style=\"text-align: right;\">   4</td><td style=\"text-align: right;\">0.00351635 </td></tr>\n",
              "<tr><td>train_cifar_ce15f_00006</td><td>ERROR   </td><td>172.28.0.2:20489</td><td style=\"text-align: right;\">           8</td><td style=\"text-align: right;\">  64</td><td style=\"text-align: right;\"> 256</td><td style=\"text-align: right;\">0.0612496  </td></tr>\n",
              "<tr><td>train_cifar_ce15f_00007</td><td>ERROR   </td><td>172.28.0.2:20530</td><td style=\"text-align: right;\">           8</td><td style=\"text-align: right;\">  16</td><td style=\"text-align: right;\">  64</td><td style=\"text-align: right;\">0.000455475</td></tr>\n",
              "<tr><td>train_cifar_ce15f_00008</td><td>ERROR   </td><td>172.28.0.2:20572</td><td style=\"text-align: right;\">          16</td><td style=\"text-align: right;\">  32</td><td style=\"text-align: right;\">  16</td><td style=\"text-align: right;\">0.00189624 </td></tr>\n",
              "</tbody>\n",
              "</table><br>Number of errored trials: 9<br><table>\n",
              "<thead>\n",
              "<tr><th>Trial name             </th><th style=\"text-align: right;\">  # failures</th><th>error file                                                                                                                                   </th></tr>\n",
              "</thead>\n",
              "<tbody>\n",
              "<tr><td>train_cifar_ce15f_00000</td><td style=\"text-align: right;\">           1</td><td>/root/ray_results/train_cifar_2022-07-28_09-15-20/train_cifar_ce15f_00000_0_batch_size=8,l1=32,l2=16,lr=0.0079_2022-07-28_09-15-22/error.txt </td></tr>\n",
              "<tr><td>train_cifar_ce15f_00001</td><td style=\"text-align: right;\">           1</td><td>/root/ray_results/train_cifar_2022-07-28_09-15-20/train_cifar_ce15f_00001_1_batch_size=8,l1=64,l2=16,lr=0.0002_2022-07-28_09-15-33/error.txt </td></tr>\n",
              "<tr><td>train_cifar_ce15f_00002</td><td style=\"text-align: right;\">           1</td><td>/root/ray_results/train_cifar_2022-07-28_09-15-20/train_cifar_ce15f_00002_2_batch_size=4,l1=8,l2=16,lr=0.0001_2022-07-28_09-15-39/error.txt  </td></tr>\n",
              "<tr><td>train_cifar_ce15f_00003</td><td style=\"text-align: right;\">           1</td><td>/root/ray_results/train_cifar_2022-07-28_09-15-20/train_cifar_ce15f_00003_3_batch_size=4,l1=128,l2=16,lr=0.0075_2022-07-28_09-15-45/error.txt</td></tr>\n",
              "<tr><td>train_cifar_ce15f_00004</td><td style=\"text-align: right;\">           1</td><td>/root/ray_results/train_cifar_2022-07-28_09-15-20/train_cifar_ce15f_00004_4_batch_size=4,l1=128,l2=16,lr=0.0006_2022-07-28_09-15-49/error.txt</td></tr>\n",
              "<tr><td>train_cifar_ce15f_00005</td><td style=\"text-align: right;\">           1</td><td>/root/ray_results/train_cifar_2022-07-28_09-15-20/train_cifar_ce15f_00005_5_batch_size=16,l1=128,l2=4,lr=0.0035_2022-07-28_09-15-53/error.txt</td></tr>\n",
              "<tr><td>train_cifar_ce15f_00006</td><td style=\"text-align: right;\">           1</td><td>/root/ray_results/train_cifar_2022-07-28_09-15-20/train_cifar_ce15f_00006_6_batch_size=8,l1=64,l2=256,lr=0.0612_2022-07-28_09-15-57/error.txt</td></tr>\n",
              "<tr><td>train_cifar_ce15f_00007</td><td style=\"text-align: right;\">           1</td><td>/root/ray_results/train_cifar_2022-07-28_09-15-20/train_cifar_ce15f_00007_7_batch_size=8,l1=16,l2=64,lr=0.0005_2022-07-28_09-16-01/error.txt </td></tr>\n",
              "<tr><td>train_cifar_ce15f_00008</td><td style=\"text-align: right;\">           1</td><td>/root/ray_results/train_cifar_2022-07-28_09-15-20/train_cifar_ce15f_00008_8_batch_size=16,l1=32,l2=16,lr=0.0019_2022-07-28_09-16-05/error.txt</td></tr>\n",
              "</tbody>\n",
              "</table><br>"
            ]
          },
          "metadata": {}
        },
        {
          "output_type": "stream",
          "name": "stderr",
          "text": [
            "\u001b[2m\u001b[36m(train_cifar pid=20612)\u001b[0m 2022-07-28 09:16:12,400\tERROR function_runner.py:286 -- Runner Thread raised error.\n",
            "\u001b[2m\u001b[36m(train_cifar pid=20612)\u001b[0m Traceback (most recent call last):\n",
            "\u001b[2m\u001b[36m(train_cifar pid=20612)\u001b[0m   File \"/usr/local/lib/python3.7/dist-packages/torch/serialization.py\", line 308, in _check_seekable\n",
            "\u001b[2m\u001b[36m(train_cifar pid=20612)\u001b[0m     f.seek(f.tell())\n",
            "\u001b[2m\u001b[36m(train_cifar pid=20612)\u001b[0m AttributeError: 'int' object has no attribute 'seek'\n",
            "\u001b[2m\u001b[36m(train_cifar pid=20612)\u001b[0m \n",
            "\u001b[2m\u001b[36m(train_cifar pid=20612)\u001b[0m During handling of the above exception, another exception occurred:\n",
            "\u001b[2m\u001b[36m(train_cifar pid=20612)\u001b[0m \n",
            "\u001b[2m\u001b[36m(train_cifar pid=20612)\u001b[0m Traceback (most recent call last):\n",
            "\u001b[2m\u001b[36m(train_cifar pid=20612)\u001b[0m   File \"/usr/local/lib/python3.7/dist-packages/ray/tune/function_runner.py\", line 277, in run\n",
            "\u001b[2m\u001b[36m(train_cifar pid=20612)\u001b[0m     self._entrypoint()\n",
            "\u001b[2m\u001b[36m(train_cifar pid=20612)\u001b[0m   File \"/usr/local/lib/python3.7/dist-packages/ray/tune/function_runner.py\", line 352, in entrypoint\n",
            "\u001b[2m\u001b[36m(train_cifar pid=20612)\u001b[0m     self._status_reporter.get_checkpoint(),\n",
            "\u001b[2m\u001b[36m(train_cifar pid=20612)\u001b[0m   File \"/usr/local/lib/python3.7/dist-packages/ray/util/tracing/tracing_helper.py\", line 462, in _resume_span\n",
            "\u001b[2m\u001b[36m(train_cifar pid=20612)\u001b[0m     return method(self, *_args, **_kwargs)\n",
            "\u001b[2m\u001b[36m(train_cifar pid=20612)\u001b[0m   File \"/usr/local/lib/python3.7/dist-packages/ray/tune/function_runner.py\", line 645, in _trainable_func\n",
            "\u001b[2m\u001b[36m(train_cifar pid=20612)\u001b[0m     output = fn()\n",
            "\u001b[2m\u001b[36m(train_cifar pid=20612)\u001b[0m   File \"/usr/local/lib/python3.7/dist-packages/ray/tune/utils/trainable.py\", line 410, in inner\n",
            "\u001b[2m\u001b[36m(train_cifar pid=20612)\u001b[0m     trainable(config, **fn_kwargs)\n",
            "\u001b[2m\u001b[36m(train_cifar pid=20612)\u001b[0m   File \"<ipython-input-65-77c5e5caa1ab>\", line 2, in train_cifar\n",
            "\u001b[2m\u001b[36m(train_cifar pid=20612)\u001b[0m   File \"<ipython-input-57-226308201a65>\", line 237, in mobilenetv3\n",
            "\u001b[2m\u001b[36m(train_cifar pid=20612)\u001b[0m   File \"/usr/local/lib/python3.7/dist-packages/torch/serialization.py\", line 699, in load\n",
            "\u001b[2m\u001b[36m(train_cifar pid=20612)\u001b[0m     with _open_file_like(f, 'rb') as opened_file:\n",
            "\u001b[2m\u001b[36m(train_cifar pid=20612)\u001b[0m   File \"/usr/local/lib/python3.7/dist-packages/torch/serialization.py\", line 235, in _open_file_like\n",
            "\u001b[2m\u001b[36m(train_cifar pid=20612)\u001b[0m     return _open_buffer_reader(name_or_buffer)\n",
            "\u001b[2m\u001b[36m(train_cifar pid=20612)\u001b[0m   File \"/usr/local/lib/python3.7/dist-packages/torch/serialization.py\", line 220, in __init__\n",
            "\u001b[2m\u001b[36m(train_cifar pid=20612)\u001b[0m     _check_seekable(buffer)\n",
            "\u001b[2m\u001b[36m(train_cifar pid=20612)\u001b[0m   File \"/usr/local/lib/python3.7/dist-packages/torch/serialization.py\", line 311, in _check_seekable\n",
            "\u001b[2m\u001b[36m(train_cifar pid=20612)\u001b[0m     raise_err_msg([\"seek\", \"tell\"], e)\n",
            "\u001b[2m\u001b[36m(train_cifar pid=20612)\u001b[0m   File \"/usr/local/lib/python3.7/dist-packages/torch/serialization.py\", line 304, in raise_err_msg\n",
            "\u001b[2m\u001b[36m(train_cifar pid=20612)\u001b[0m     raise type(e)(msg)\n",
            "\u001b[2m\u001b[36m(train_cifar pid=20612)\u001b[0m AttributeError: 'int' object has no attribute 'seek'. You can only torch.load from a file that is seekable. Please pre-load the data into a buffer like io.BytesIO and try to load from it instead.\n",
            "2022-07-28 09:16:12,566\tERROR trial_runner.py:886 -- Trial train_cifar_ce15f_00009: Error processing event.\n",
            "NoneType: None\n"
          ]
        },
        {
          "output_type": "stream",
          "name": "stdout",
          "text": [
            "Result for train_cifar_ce15f_00009:\n",
            "  date: 2022-07-28_09-16-12\n",
            "  experiment_id: 2a2d66c2c46e46a49f73c1a7152ecf54\n",
            "  hostname: 136ea25224b8\n",
            "  node_ip: 172.28.0.2\n",
            "  pid: 20612\n",
            "  timestamp: 1658999772\n",
            "  trial_id: ce15f_00009\n",
            "  \n"
          ]
        },
        {
          "output_type": "display_data",
          "data": {
            "text/plain": [
              "<IPython.core.display.HTML object>"
            ],
            "text/html": [
              "== Status ==<br>Current time: 2022-07-28 09:16:12 (running for 00:00:51.31)<br>Memory usage on this node: 6.0/12.7 GiB<br>Using AsyncHyperBand: num_stopped=0\n",
              "Bracket: Iter 8.000: None | Iter 4.000: None | Iter 2.000: None | Iter 1.000: None<br>Resources requested: 0/2 CPUs, 0/1 GPUs, 0.0/7.42 GiB heap, 0.0/3.71 GiB objects (0.0/1.0 accelerator_type:T4)<br>Result logdir: /root/ray_results/train_cifar_2022-07-28_09-15-20<br>Number of trials: 10/10 (10 ERROR)<br><table>\n",
              "<thead>\n",
              "<tr><th>Trial name             </th><th>status  </th><th>loc             </th><th style=\"text-align: right;\">  batch_size</th><th style=\"text-align: right;\">  l1</th><th style=\"text-align: right;\">  l2</th><th style=\"text-align: right;\">         lr</th></tr>\n",
              "</thead>\n",
              "<tbody>\n",
              "<tr><td>train_cifar_ce15f_00000</td><td>ERROR   </td><td>172.28.0.2:20242</td><td style=\"text-align: right;\">           8</td><td style=\"text-align: right;\">  32</td><td style=\"text-align: right;\">  16</td><td style=\"text-align: right;\">0.00786731 </td></tr>\n",
              "<tr><td>train_cifar_ce15f_00001</td><td>ERROR   </td><td>172.28.0.2:20285</td><td style=\"text-align: right;\">           8</td><td style=\"text-align: right;\">  64</td><td style=\"text-align: right;\">  16</td><td style=\"text-align: right;\">0.00021071 </td></tr>\n",
              "<tr><td>train_cifar_ce15f_00002</td><td>ERROR   </td><td>172.28.0.2:20327</td><td style=\"text-align: right;\">           4</td><td style=\"text-align: right;\">   8</td><td style=\"text-align: right;\">  16</td><td style=\"text-align: right;\">0.000142578</td></tr>\n",
              "<tr><td>train_cifar_ce15f_00003</td><td>ERROR   </td><td>172.28.0.2:20367</td><td style=\"text-align: right;\">           4</td><td style=\"text-align: right;\"> 128</td><td style=\"text-align: right;\">  16</td><td style=\"text-align: right;\">0.00754116 </td></tr>\n",
              "<tr><td>train_cifar_ce15f_00004</td><td>ERROR   </td><td>172.28.0.2:20409</td><td style=\"text-align: right;\">           4</td><td style=\"text-align: right;\"> 128</td><td style=\"text-align: right;\">  16</td><td style=\"text-align: right;\">0.000605433</td></tr>\n",
              "<tr><td>train_cifar_ce15f_00005</td><td>ERROR   </td><td>172.28.0.2:20449</td><td style=\"text-align: right;\">          16</td><td style=\"text-align: right;\"> 128</td><td style=\"text-align: right;\">   4</td><td style=\"text-align: right;\">0.00351635 </td></tr>\n",
              "<tr><td>train_cifar_ce15f_00006</td><td>ERROR   </td><td>172.28.0.2:20489</td><td style=\"text-align: right;\">           8</td><td style=\"text-align: right;\">  64</td><td style=\"text-align: right;\"> 256</td><td style=\"text-align: right;\">0.0612496  </td></tr>\n",
              "<tr><td>train_cifar_ce15f_00007</td><td>ERROR   </td><td>172.28.0.2:20530</td><td style=\"text-align: right;\">           8</td><td style=\"text-align: right;\">  16</td><td style=\"text-align: right;\">  64</td><td style=\"text-align: right;\">0.000455475</td></tr>\n",
              "<tr><td>train_cifar_ce15f_00008</td><td>ERROR   </td><td>172.28.0.2:20572</td><td style=\"text-align: right;\">          16</td><td style=\"text-align: right;\">  32</td><td style=\"text-align: right;\">  16</td><td style=\"text-align: right;\">0.00189624 </td></tr>\n",
              "<tr><td>train_cifar_ce15f_00009</td><td>ERROR   </td><td>172.28.0.2:20612</td><td style=\"text-align: right;\">           4</td><td style=\"text-align: right;\">  32</td><td style=\"text-align: right;\">   4</td><td style=\"text-align: right;\">0.000138078</td></tr>\n",
              "</tbody>\n",
              "</table><br>Number of errored trials: 10<br><table>\n",
              "<thead>\n",
              "<tr><th>Trial name             </th><th style=\"text-align: right;\">  # failures</th><th>error file                                                                                                                                   </th></tr>\n",
              "</thead>\n",
              "<tbody>\n",
              "<tr><td>train_cifar_ce15f_00000</td><td style=\"text-align: right;\">           1</td><td>/root/ray_results/train_cifar_2022-07-28_09-15-20/train_cifar_ce15f_00000_0_batch_size=8,l1=32,l2=16,lr=0.0079_2022-07-28_09-15-22/error.txt </td></tr>\n",
              "<tr><td>train_cifar_ce15f_00001</td><td style=\"text-align: right;\">           1</td><td>/root/ray_results/train_cifar_2022-07-28_09-15-20/train_cifar_ce15f_00001_1_batch_size=8,l1=64,l2=16,lr=0.0002_2022-07-28_09-15-33/error.txt </td></tr>\n",
              "<tr><td>train_cifar_ce15f_00002</td><td style=\"text-align: right;\">           1</td><td>/root/ray_results/train_cifar_2022-07-28_09-15-20/train_cifar_ce15f_00002_2_batch_size=4,l1=8,l2=16,lr=0.0001_2022-07-28_09-15-39/error.txt  </td></tr>\n",
              "<tr><td>train_cifar_ce15f_00003</td><td style=\"text-align: right;\">           1</td><td>/root/ray_results/train_cifar_2022-07-28_09-15-20/train_cifar_ce15f_00003_3_batch_size=4,l1=128,l2=16,lr=0.0075_2022-07-28_09-15-45/error.txt</td></tr>\n",
              "<tr><td>train_cifar_ce15f_00004</td><td style=\"text-align: right;\">           1</td><td>/root/ray_results/train_cifar_2022-07-28_09-15-20/train_cifar_ce15f_00004_4_batch_size=4,l1=128,l2=16,lr=0.0006_2022-07-28_09-15-49/error.txt</td></tr>\n",
              "<tr><td>train_cifar_ce15f_00005</td><td style=\"text-align: right;\">           1</td><td>/root/ray_results/train_cifar_2022-07-28_09-15-20/train_cifar_ce15f_00005_5_batch_size=16,l1=128,l2=4,lr=0.0035_2022-07-28_09-15-53/error.txt</td></tr>\n",
              "<tr><td>train_cifar_ce15f_00006</td><td style=\"text-align: right;\">           1</td><td>/root/ray_results/train_cifar_2022-07-28_09-15-20/train_cifar_ce15f_00006_6_batch_size=8,l1=64,l2=256,lr=0.0612_2022-07-28_09-15-57/error.txt</td></tr>\n",
              "<tr><td>train_cifar_ce15f_00007</td><td style=\"text-align: right;\">           1</td><td>/root/ray_results/train_cifar_2022-07-28_09-15-20/train_cifar_ce15f_00007_7_batch_size=8,l1=16,l2=64,lr=0.0005_2022-07-28_09-16-01/error.txt </td></tr>\n",
              "<tr><td>train_cifar_ce15f_00008</td><td style=\"text-align: right;\">           1</td><td>/root/ray_results/train_cifar_2022-07-28_09-15-20/train_cifar_ce15f_00008_8_batch_size=16,l1=32,l2=16,lr=0.0019_2022-07-28_09-16-05/error.txt</td></tr>\n",
              "<tr><td>train_cifar_ce15f_00009</td><td style=\"text-align: right;\">           1</td><td>/root/ray_results/train_cifar_2022-07-28_09-15-20/train_cifar_ce15f_00009_9_batch_size=4,l1=32,l2=4,lr=0.0001_2022-07-28_09-16-09/error.txt  </td></tr>\n",
              "</tbody>\n",
              "</table><br>"
            ]
          },
          "metadata": {}
        },
        {
          "output_type": "error",
          "ename": "TuneError",
          "evalue": "ignored",
          "traceback": [
            "\u001b[0;31m---------------------------------------------------------------------------\u001b[0m",
            "\u001b[0;31mTuneError\u001b[0m                                 Traceback (most recent call last)",
            "\u001b[0;32m<ipython-input-70-263240bbee7e>\u001b[0m in \u001b[0;36m<module>\u001b[0;34m()\u001b[0m\n\u001b[0;32m----> 1\u001b[0;31m \u001b[0mmain\u001b[0m\u001b[0;34m(\u001b[0m\u001b[0;34m)\u001b[0m\u001b[0;34m\u001b[0m\u001b[0;34m\u001b[0m\u001b[0m\n\u001b[0m",
            "\u001b[0;32m<ipython-input-69-6f18dd82c77a>\u001b[0m in \u001b[0;36mmain\u001b[0;34m(num_samples, max_num_epochs, gpus_per_trial)\u001b[0m\n\u001b[1;32m     20\u001b[0m         \u001b[0mmode\u001b[0m\u001b[0;34m=\u001b[0m\u001b[0;34m\"min\"\u001b[0m\u001b[0;34m,\u001b[0m\u001b[0;34m\u001b[0m\u001b[0;34m\u001b[0m\u001b[0m\n\u001b[1;32m     21\u001b[0m         \u001b[0mnum_samples\u001b[0m\u001b[0;34m=\u001b[0m\u001b[0mnum_samples\u001b[0m\u001b[0;34m,\u001b[0m\u001b[0;34m\u001b[0m\u001b[0;34m\u001b[0m\u001b[0m\n\u001b[0;32m---> 22\u001b[0;31m         \u001b[0mscheduler\u001b[0m\u001b[0;34m=\u001b[0m\u001b[0mscheduler\u001b[0m\u001b[0;34m\u001b[0m\u001b[0;34m\u001b[0m\u001b[0m\n\u001b[0m\u001b[1;32m     23\u001b[0m     )\n\u001b[1;32m     24\u001b[0m \u001b[0;34m\u001b[0m\u001b[0m\n",
            "\u001b[0;32m/usr/local/lib/python3.7/dist-packages/ray/tune/tune.py\u001b[0m in \u001b[0;36mrun\u001b[0;34m(run_or_experiment, name, metric, mode, stop, time_budget_s, config, resources_per_trial, num_samples, local_dir, search_alg, scheduler, keep_checkpoints_num, checkpoint_score_attr, checkpoint_freq, checkpoint_at_end, verbose, progress_reporter, log_to_file, trial_name_creator, trial_dirname_creator, sync_config, export_formats, max_failures, fail_fast, restore, server_port, resume, reuse_actors, trial_executor, raise_on_failed_trial, callbacks, max_concurrent_trials, _experiment_checkpoint_dir, loggers, _remote)\u001b[0m\n\u001b[1;32m    739\u001b[0m     \u001b[0;32mif\u001b[0m \u001b[0mincomplete_trials\u001b[0m\u001b[0;34m:\u001b[0m\u001b[0;34m\u001b[0m\u001b[0;34m\u001b[0m\u001b[0m\n\u001b[1;32m    740\u001b[0m         \u001b[0;32mif\u001b[0m \u001b[0mraise_on_failed_trial\u001b[0m \u001b[0;32mand\u001b[0m \u001b[0;32mnot\u001b[0m \u001b[0mstate\u001b[0m\u001b[0;34m[\u001b[0m\u001b[0;34m\"signal\"\u001b[0m\u001b[0;34m]\u001b[0m\u001b[0;34m:\u001b[0m\u001b[0;34m\u001b[0m\u001b[0;34m\u001b[0m\u001b[0m\n\u001b[0;32m--> 741\u001b[0;31m             \u001b[0;32mraise\u001b[0m \u001b[0mTuneError\u001b[0m\u001b[0;34m(\u001b[0m\u001b[0;34m\"Trials did not complete\"\u001b[0m\u001b[0;34m,\u001b[0m \u001b[0mincomplete_trials\u001b[0m\u001b[0;34m)\u001b[0m\u001b[0;34m\u001b[0m\u001b[0;34m\u001b[0m\u001b[0m\n\u001b[0m\u001b[1;32m    742\u001b[0m         \u001b[0;32melse\u001b[0m\u001b[0;34m:\u001b[0m\u001b[0;34m\u001b[0m\u001b[0;34m\u001b[0m\u001b[0m\n\u001b[1;32m    743\u001b[0m             \u001b[0mlogger\u001b[0m\u001b[0;34m.\u001b[0m\u001b[0merror\u001b[0m\u001b[0;34m(\u001b[0m\u001b[0;34m\"Trials did not complete: %s\"\u001b[0m\u001b[0;34m,\u001b[0m \u001b[0mincomplete_trials\u001b[0m\u001b[0;34m)\u001b[0m\u001b[0;34m\u001b[0m\u001b[0;34m\u001b[0m\u001b[0m\n",
            "\u001b[0;31mTuneError\u001b[0m: ('Trials did not complete', [train_cifar_ce15f_00000, train_cifar_ce15f_00001, train_cifar_ce15f_00002, train_cifar_ce15f_00003, train_cifar_ce15f_00004, train_cifar_ce15f_00005, train_cifar_ce15f_00006, train_cifar_ce15f_00007, train_cifar_ce15f_00008, train_cifar_ce15f_00009])"
          ]
        }
      ],
      "source": [
        "main()"
      ]
    },
    {
      "cell_type": "markdown",
      "source": [
        "#Load anh loi\n"
      ],
      "metadata": {
        "id": "RkArUO-3m42I"
      }
    },
    {
      "cell_type": "code",
      "source": [
        "!pip install albumentations==0.4.6\n",
        "import albumentations \n",
        "from albumentations.pytorch import ToTensorV2"
      ],
      "metadata": {
        "colab": {
          "base_uri": "https://localhost:8080/"
        },
        "id": "k_QnObeCnw3e",
        "outputId": "a9642da3-a761-461c-83c2-cc2ca3962796"
      },
      "execution_count": null,
      "outputs": [
        {
          "output_type": "stream",
          "name": "stdout",
          "text": [
            "Looking in indexes: https://pypi.org/simple, https://us-python.pkg.dev/colab-wheels/public/simple/\n",
            "Requirement already satisfied: albumentations==0.4.6 in /usr/local/lib/python3.7/dist-packages (0.4.6)\n",
            "Requirement already satisfied: numpy>=1.11.1 in /usr/local/lib/python3.7/dist-packages (from albumentations==0.4.6) (1.21.6)\n",
            "Requirement already satisfied: PyYAML in /usr/local/lib/python3.7/dist-packages (from albumentations==0.4.6) (3.13)\n",
            "Requirement already satisfied: imgaug>=0.4.0 in /usr/local/lib/python3.7/dist-packages (from albumentations==0.4.6) (0.4.0)\n",
            "Requirement already satisfied: scipy in /usr/local/lib/python3.7/dist-packages (from albumentations==0.4.6) (1.7.3)\n",
            "Requirement already satisfied: opencv-python>=4.1.1 in /usr/local/lib/python3.7/dist-packages (from albumentations==0.4.6) (4.6.0.66)\n",
            "Requirement already satisfied: Pillow in /usr/local/lib/python3.7/dist-packages (from imgaug>=0.4.0->albumentations==0.4.6) (7.1.2)\n",
            "Requirement already satisfied: Shapely in /usr/local/lib/python3.7/dist-packages (from imgaug>=0.4.0->albumentations==0.4.6) (1.8.2)\n",
            "Requirement already satisfied: imageio in /usr/local/lib/python3.7/dist-packages (from imgaug>=0.4.0->albumentations==0.4.6) (2.4.1)\n",
            "Requirement already satisfied: six in /usr/local/lib/python3.7/dist-packages (from imgaug>=0.4.0->albumentations==0.4.6) (1.15.0)\n",
            "Requirement already satisfied: matplotlib in /usr/local/lib/python3.7/dist-packages (from imgaug>=0.4.0->albumentations==0.4.6) (3.2.2)\n",
            "Requirement already satisfied: scikit-image>=0.14.2 in /usr/local/lib/python3.7/dist-packages (from imgaug>=0.4.0->albumentations==0.4.6) (0.18.3)\n",
            "Requirement already satisfied: PyWavelets>=1.1.1 in /usr/local/lib/python3.7/dist-packages (from scikit-image>=0.14.2->imgaug>=0.4.0->albumentations==0.4.6) (1.3.0)\n",
            "Requirement already satisfied: networkx>=2.0 in /usr/local/lib/python3.7/dist-packages (from scikit-image>=0.14.2->imgaug>=0.4.0->albumentations==0.4.6) (2.6.3)\n",
            "Requirement already satisfied: tifffile>=2019.7.26 in /usr/local/lib/python3.7/dist-packages (from scikit-image>=0.14.2->imgaug>=0.4.0->albumentations==0.4.6) (2021.11.2)\n",
            "Requirement already satisfied: cycler>=0.10 in /usr/local/lib/python3.7/dist-packages (from matplotlib->imgaug>=0.4.0->albumentations==0.4.6) (0.11.0)\n",
            "Requirement already satisfied: pyparsing!=2.0.4,!=2.1.2,!=2.1.6,>=2.0.1 in /usr/local/lib/python3.7/dist-packages (from matplotlib->imgaug>=0.4.0->albumentations==0.4.6) (3.0.9)\n",
            "Requirement already satisfied: kiwisolver>=1.0.1 in /usr/local/lib/python3.7/dist-packages (from matplotlib->imgaug>=0.4.0->albumentations==0.4.6) (1.4.4)\n",
            "Requirement already satisfied: python-dateutil>=2.1 in /usr/local/lib/python3.7/dist-packages (from matplotlib->imgaug>=0.4.0->albumentations==0.4.6) (2.8.2)\n",
            "Requirement already satisfied: typing-extensions in /usr/local/lib/python3.7/dist-packages (from kiwisolver>=1.0.1->matplotlib->imgaug>=0.4.0->albumentations==0.4.6) (4.1.1)\n"
          ]
        }
      ]
    },
    {
      "cell_type": "code",
      "execution_count": null,
      "metadata": {
        "id": "p4YOmzGH2uz4"
      },
      "outputs": [],
      "source": [
        "#Load anh sai\n",
        "# Load image\n",
        "# Transform image\n",
        "# Reshape -> (C, H, W) -> (1, C, H, W)\n",
        "\n",
        "import albumentations as A\n",
        "import torchvision.transforms as transforms\n",
        "import glob\n",
        "def predict_image(model,img_path,device):\n",
        "  count0 = 0\n",
        "  count1 = 0\n",
        "  count2 = 0\n",
        "  countF = 0\n",
        "  countT = 0\n",
        "  for filename in glob.iglob(img_path):\n",
        "    image = cv2.imread(filename)\n",
        "    x = np.random.rand()\n",
        "    if x >= 0 and x <= 0.25:\n",
        "      image = cv2.rotate(image, cv2.ROTATE_90_CLOCKWISE)\n",
        "      label = 1\n",
        "      \n",
        "    if x > 0.25 and x <= 0.5:\n",
        "      image = cv2.rotate(image, cv2.ROTATE_90_COUNTERCLOCKWISE)\n",
        "      label = 2\n",
        "      \n",
        "    if x > 0.5 and x <= 0.75:\n",
        "      image = cv2.rotate(image, cv2.ROTATE_180)\n",
        "      label = 3\n",
        "\n",
        "    if x > 0.75 and x <=1:\n",
        "      label = 0\n",
        "\n",
        "    transform = A.Compose([\n",
        "                      A.LongestMaxSize(256),\n",
        "                      A.PadIfNeeded(256,256, border_mode=cv2.BORDER_CONSTANT, value=(255, 255, 255)),\n",
        "                      A.Normalize(),\n",
        "                      A.pytorch.transforms.ToTensorV2(),\n",
        "    ])\n",
        "\n",
        "    transformed = transform(image=image)['image']\n",
        "    c,h,w = transformed.shape\n",
        "    img = transformed.reshape(1,c,h,w)\n",
        "    img = img.to(device)\n",
        "    output = model(img)\n",
        "    output = (torch.max(torch.exp(output), 1)[1]).data.cpu().numpy()\n",
        "    if output != label:\n",
        "      countF += 1\n",
        "      #print(label, output, filename)\n",
        "    if output == label:\n",
        "      countT += 1\n",
        "      \"\"\"if (output == 3 and label == 0) or (output == 0 and label == 3):\n",
        "        count0 += 1\n",
        "        print(label, output, filename)\n",
        "      if (output == 2 and label == 1) or (output == 1 and label == 2):\n",
        "        count1 += 1\n",
        "        print(label, output, filename)\n",
        "      if output == 3 and label != 3:\n",
        "        count2 += 1\n",
        "       \n",
        "  \n",
        "  print(\"So lan sai giua 3 va 0 la: \",count0)\n",
        "  print(\"So lan sai giua 2 va 1 la: \",count1)\n",
        "  print(\"So lan nhan nham thanh 3 la:\",count2)\"\"\"\n",
        "\n",
        "  print(countT)\n",
        "  print(countF)\n"
      ]
    },
    {
      "cell_type": "code",
      "source": [
        "device = torch.device('cuda')\n",
        "#model = EfficientNet.from_pretrained('efficientnet-b0').to(device)\n",
        "#model ._fc= torch.nn.Linear(in_features=model._fc.in_features, out_features=4, bias=True).to(device)\n",
        "model.load_state_dict(torch.load('/content/gdrive/MyDrive/Báo cáo thực tập - Nguyễn Hữu Khải/Rotation/saved_model_lastversion_7.pth',map_location=torch.device('cpu')))\n",
        "predict_image(model=model,img_path=\"/content/gdrive/MyDrive/Báo cáo thực tập - Nguyễn Hữu Khải/Rotation/data/maindata/*.png\",device=device)"
      ],
      "metadata": {
        "colab": {
          "base_uri": "https://localhost:8080/"
        },
        "id": "BFRz7gRtmKRC",
        "outputId": "fb220f5c-ffa2-4416-e2ee-60a126cf5206"
      },
      "execution_count": null,
      "outputs": [
        {
          "output_type": "stream",
          "name": "stdout",
          "text": [
            "684\n",
            "2344\n"
          ]
        }
      ]
    },
    {
      "cell_type": "code",
      "source": [
        "def count_parameters(model):\n",
        "    return sum(p.numel() for p in model.parameters() if p.requires_grad)"
      ],
      "metadata": {
        "id": "cmGz2Vx5Ii8D"
      },
      "execution_count": null,
      "outputs": []
    },
    {
      "cell_type": "code",
      "source": [
        "count_parameters(model)"
      ],
      "metadata": {
        "colab": {
          "base_uri": "https://localhost:8080/"
        },
        "id": "6fDMiatCI1tW",
        "outputId": "43e430fc-ec0e-4527-d8e4-7dce6d8b02bf"
      },
      "execution_count": null,
      "outputs": [
        {
          "output_type": "execute_result",
          "data": {
            "text/plain": [
              "1513756"
            ]
          },
          "metadata": {},
          "execution_count": 73
        }
      ]
    }
  ],
  "metadata": {
    "accelerator": "GPU",
    "colab": {
      "collapsed_sections": [],
      "name": "rotation_corrector.ipynb",
      "toc_visible": true,
      "provenance": []
    },
    "gpuClass": "standard",
    "kernelspec": {
      "display_name": "Python 3",
      "name": "python3"
    },
    "language_info": {
      "name": "python"
    }
  },
  "nbformat": 4,
  "nbformat_minor": 0
}